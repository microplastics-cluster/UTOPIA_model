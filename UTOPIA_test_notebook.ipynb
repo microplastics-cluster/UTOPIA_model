{
 "cells": [
  {
   "cell_type": "markdown",
   "metadata": {},
   "source": [
    "\n",
    "### Import libraries and modules"
   ]
  },
  {
   "cell_type": "code",
   "execution_count": 10,
   "metadata": {},
   "outputs": [],
   "source": [
    "import copy\n",
    "import os\n",
    "from datetime import datetime\n",
    "\n",
    "import pandas as pd\n",
    "import matplotlib.pyplot as plt\n",
    "import seaborn as sns\n",
    "from functions import create_inputsTable_UTOPIA\n",
    "from functions.create_rateConstants_tabel import *\n",
    "from functions.fillInteractions_df_fun import *\n",
    "from functions.generate_modelObjects import *\n",
    "from functions.generateRateConstants_particles import *\n",
    "from functions.solver_SteadyState import *\n",
    "from functions.extract_results import *\n",
    "from functions.plot_results import *\n",
    "from functions.massBalance import *\n",
    "from functions.fill_interactions_Knames import *\n",
    "from functions.exposure_indicators_calculation import *\n",
    "from functions.generate_MPinputs_table import *\n",
    "from functions.save_results import *\n",
    "from model_run import *\n",
    "from functions.loop_CTD_calculation import *"
   ]
  },
  {
   "cell_type": "markdown",
   "metadata": {},
   "source": [
    "Set up path for inputs folder"
   ]
  },
  {
   "cell_type": "code",
   "execution_count": 22,
   "metadata": {},
   "outputs": [
    {
     "data": {
      "text/plain": [
       "'c:\\\\Users\\\\PradoDomercq\\\\Documents\\\\Python Scripts\\\\UTOPIA_model\\\\inputs'"
      ]
     },
     "execution_count": 22,
     "metadata": {},
     "output_type": "execute_result"
    }
   ],
   "source": [
    "##Set current working directory\n",
    "cwd=os.getcwd()\n",
    "inputs_path = cwd+\"\\inputs\"\n",
    "inputs_path"
   ]
  },
  {
   "cell_type": "markdown",
   "metadata": {},
   "source": [
    "### Define run parameters\n",
    "\n",
    "#### Define microplastics physical properties"
   ]
  },
  {
   "cell_type": "code",
   "execution_count": 6,
   "metadata": {},
   "outputs": [],
   "source": [
    "MPdensity_kg_m3 = 1580\n",
    "MP_composition = \"PVC\"\n",
    "shape = \"sphere\"  # Fixed for now\n",
    "N_sizeBins = 5  # Fixed, should not be changed. The 5 size bins are generated as being one order of magnitude appart and cover the range from mm to nm(i.e. 5000um, 500um, 50um, 5um, 0.5um)\n",
    "big_bin_diameter_um = 5000  # This size can not be bigger than 10 mm (10000um) or smaller than 1 mm(1000um)\n",
    "runName = MP_composition\n"
   ]
  },
  {
   "cell_type": "code",
   "execution_count": 17,
   "metadata": {},
   "outputs": [
    {
     "data": {
      "text/plain": [
       "'c:\\\\Users\\\\PradoDomercq\\\\Documents\\\\Python Scripts\\\\UTOPIA_model\\\\inputs\\\\inputs_microplasticsPVC.csv'"
      ]
     },
     "execution_count": 17,
     "metadata": {},
     "output_type": "execute_result"
    }
   ],
   "source": [
    "# write microplastics inputs file\n",
    "mp_imputFile_name = write_MPinputs_table(\n",
    "    MPdensity_kg_m3,\n",
    "    MP_composition,\n",
    "    shape,\n",
    "    N_sizeBins,\n",
    "    big_bin_diameter_um,\n",
    "    runName,\n",
    "    inputs_path,\n",
    ")"
   ]
  },
  {
   "cell_type": "markdown",
   "metadata": {},
   "source": [
    "#### Define Environmental Characteristics\n",
    "\n",
    "##### Suspended particulates properties"
   ]
  },
  {
   "cell_type": "code",
   "execution_count": 19,
   "metadata": {},
   "outputs": [],
   "source": [
    "# From Kooi et al. (2017)\n",
    "v_a = 2.0e-16  # Volume of 1 algal cell [m-3]\n",
    "r_a = ((3.0 / 4.0) * (v_a / math.pi)) ** (1.0 / 3.0)  # radius of algae [m]\n",
    "\n",
    "spm_radius_um = r_a * 1e6\n",
    "spm_density_kg_m3 = 1388  # REF: Kooi et al. (2017)"
   ]
  },
  {
   "cell_type": "markdown",
   "metadata": {},
   "source": [
    "##### Compartment properties"
   ]
  },
  {
   "cell_type": "code",
   "execution_count": 20,
   "metadata": {},
   "outputs": [],
   "source": [
    "comp_impFile_name = \"\\inputs_compartments.csv\"  # Preloaded values, the user should be able to create its own inputs_compartments.csv file (via donwloading the file and typing news values without chaing the structure of the file) when a new file wants to be used the name should be changed here\n",
    "comp_interactFile_name = (\n",
    "    \"\\compartment_interactions.csv\"  # Fixed, should not be modified\n",
    ")"
   ]
  },
  {
   "cell_type": "markdown",
   "metadata": {},
   "source": [
    "##### Generate model objects (via reading selected input files)"
   ]
  },
  {
   "cell_type": "code",
   "execution_count": 24,
   "metadata": {},
   "outputs": [],
   "source": [
    "# Generate objects\n",
    "boxName = \"Utopia\"  # fixed, do not modify\n",
    "\n",
    "(\n",
    "    system_particle_object_list,\n",
    "    SpeciesList,\n",
    "    spm,\n",
    "    dict_comp,\n",
    "    model_lists,\n",
    "    particles_df,\n",
    ") = generate_objects(\n",
    "    inputs_path,\n",
    "    boxName=boxName,\n",
    "    MPforms_list=MPforms_list,\n",
    "    comp_impFile_name=comp_impFile_name,\n",
    "    comp_interactFile_name=comp_interactFile_name,\n",
    "    mp_imputFile_name=mp_imputFile_name,\n",
    "    spm_radius_um=spm_radius_um,\n",
    "    spm_density_kg_m3=spm_density_kg_m3,\n",
    ")\n",
    "\n",
    "surfComp_list = [c for c in dict_comp if \"Surface\" in c]"
   ]
  },
  {
   "cell_type": "markdown",
   "metadata": {},
   "source": [
    "#### Define Microplastics weathering properties\n"
   ]
  },
  {
   "cell_type": "markdown",
   "metadata": {},
   "source": [
    "##### Select fragmentation style\n",
    "In out approach each particle fractions into fragments of smaller sizes and the distribution is expresses via a fragment size distribution matrix (fsd), as desciber in https://microplastics-cluster.github.io/fragment-mnp/advanced-usage/fragment-size-distribution.html .  \n",
    "\n",
    "In this matrix the smallest size fraction is in the first possition and we consider no fragmentation for this size class \n",
    "\n",
    "Below we define 4 different styles of fragmentation via defininf the fsd for each of them. The user can choose form one of the proposed fragmentation styles or define its own fsd by including it in the frag_styles_dict following the structure below."
   ]
  },
  {
   "cell_type": "code",
   "execution_count": 37,
   "metadata": {},
   "outputs": [],
   "source": [
    "if N_sizeBins == 5:\n",
    "    frag_styles_dict = {\n",
    "        \"sequential_fragmentation\": np.array(\n",
    "            [\n",
    "                [0, 0, 0, 0, 0],\n",
    "                [1, 0, 0, 0, 0],\n",
    "                [0, 1, 0, 0, 0],\n",
    "                [0, 0, 1, 0, 0],\n",
    "                [0, 0, 0, 1, 0],\n",
    "            ]\n",
    "        ),\n",
    "        \"erosive_fragmentation\": np.array(\n",
    "            [\n",
    "                [0, 0, 0, 0, 0],\n",
    "                [1, 0, 0, 0, 0],\n",
    "                [0.99, 0.01, 0, 0, 0],\n",
    "                [0.999, 0, 0.001, 0, 0],\n",
    "                [0.9999, 0, 0, 0.0001, 0],\n",
    "            ]\n",
    "        ),\n",
    "        \"mixed_fragmentation\": np.array(\n",
    "            [\n",
    "                [0, 0, 0, 0, 0],\n",
    "                [1, 0, 0, 0, 0],\n",
    "                [0.5, 0.5, 0, 0, 0],\n",
    "                [0.6, 0.2, 0.2, 0, 0],\n",
    "                [0.7, 0.15, 0.1, 0.05, 0],\n",
    "            ]\n",
    "        ),\n",
    "        \"no_fragmentation\": np.array(\n",
    "            [\n",
    "                [0, 0, 0, 0, 0],\n",
    "                [0, 0, 0, 0, 0],\n",
    "                [0, 0, 0, 0, 0],\n",
    "                [0, 0, 0, 0, 0],\n",
    "                [0, 0, 0, 0, 0],\n",
    "            ]\n",
    "        ),\n",
    "    }\n",
    "\n",
    "    \n",
    "else:\n",
    "    print(\n",
    "        \"Fragmetation size distribution not defined for this number of size fractions, please define manually the fsd matrix via the fsd.csv file\"\n",
    "    )\n",
    "    fsd_df = pd.read_csv(os.path.join(inputs_path, \"fsd.csv\"), index_col=0)\n",
    "    fsd = fsd_df.to_numpy()\n"
   ]
  },
  {
   "cell_type": "code",
   "execution_count": 38,
   "metadata": {},
   "outputs": [],
   "source": [
    "frag_style = \"mixed_fragmentation\"\n"
   ]
  },
  {
   "cell_type": "code",
   "execution_count": 39,
   "metadata": {},
   "outputs": [],
   "source": [
    "\n",
    "fsd = frag_styles_dict[frag_style]\n",
    "sizes = [list(model_lists[\"dict_size_coding\"].keys())]\n",
    "fsd_df = pd.DataFrame(fsd, index=sizes, columns=sizes)\n",
    "\n",
    "# Save the fsd matrix\n",
    "fsd_filename = os.path.join(inputs_path, \"fsd.csv\")\n",
    "fsd_df.to_csv(fsd_filename)"
   ]
  },
  {
   "cell_type": "markdown",
   "metadata": {},
   "source": [
    "##### Define Weathering processes input parameters\n",
    "\n",
    "##### Degradation half time: thalf_deg_d\n",
    "\n",
    "The model provides default values for degradation times taken from Domercq et al. 2021 in the file (t_half_deg.csv):\n",
    " \n",
    "The assumptions made for the definition of these degradation times: \n",
    "    - Heteroaggregated particles degrade 10 times slower than the free MPs\n",
    "    - Biofouled particles degrade 5 times slower than the free MPs"
   ]
  },
  {
   "cell_type": "markdown",
   "metadata": {},
   "source": [
    "If the user want to provide its own values of thalf_deg_d the values can be modified in the following dictionary and running the following code by chaging the cell to code"
   ]
  },
  {
   "cell_type": "markdown",
   "metadata": {},
   "source": [
    "thalf_deg_d_dict = {\n",
    "     \"freeMP\": 5000,\n",
    "     \"heterMP\": 50000,\n",
    "     \"biofMP\": 25000,\n",
    "     \"heterBiofMP\": 100000,\n",
    " } \n",
    "\n",
    "t_half_deg_filename = os.path.join(inputs_path, \"t_half_deg.csv\")\n",
    "t_half_deg_df = pd.DataFrame(list(thalf_deg_d_dict.items()), columns=['MP_form', 'thalf_deg_d'])\n",
    "t_half_deg_df.to_csv(t_half_deg_filename,index=False)\n"
   ]
  },
  {
   "cell_type": "code",
   "execution_count": 40,
   "metadata": {},
   "outputs": [],
   "source": [
    "# Read the CSV file into a DataFrame\n",
    "t_half_deg_filename = os.path.join(inputs_path, \"t_half_deg.csv\")\n",
    "t_half_deg_df = pd.read_csv(t_half_deg_filename)\n",
    "\n",
    "# Convert the DataFrame to a dictionary\n",
    "thalf_deg_d_dict = t_half_deg_df.set_index(\"MP_form\")[\"thalf_deg_d\"].to_dict()"
   ]
  },
  {
   "cell_type": "markdown",
   "metadata": {},
   "source": [
    "#### Heteroaggregation attachment efficiency: alpha_heter."
   ]
  },
  {
   "cell_type": "code",
   "execution_count": 32,
   "metadata": {},
   "outputs": [],
   "source": [
    "alpha_heter_filename = os.path.join(inputs_path, \"alpha_heter.csv\")\n",
    "alpha_heter_df = pd.read_csv(alpha_heter_filename)\n",
    "alpha_hetr_dict = alpha_heter_df.set_index(\"MP_form\")[\"alpha_heter\"].to_dict()"
   ]
  },
  {
   "cell_type": "markdown",
   "metadata": {},
   "source": [
    "#### Timescales of fragmentation\n",
    "\n",
    "The fragmentation timescales are deteremined from the an stablished fragmentation half time of 36.5 days for the biggets size fraction in free form in the surface water compartments following the parameters chosen in Domercq et al. 2021.\n",
    "\n",
    "In UTOPIA we include fragmentation of the heteroaggregated MPs as being 100 slower than fragmentation of the Free MPs and breackup of biofouled and heteroaggregated will be two times slowed of those only heteroaggregated, following the same assumption as for free and biofouled. These values are used in the Domercq et al. 2021 paper and they are asumptions made from lack of current knowlegde"
   ]
  },
  {
   "cell_type": "code",
   "execution_count": 33,
   "metadata": {},
   "outputs": [],
   "source": [
    "t_frag_gen_FreeSurfaceWater = 36.5  # in days"
   ]
  },
  {
   "cell_type": "code",
   "execution_count": 36,
   "metadata": {},
   "outputs": [],
   "source": [
    "process_inputs_df = create_inputsTable_UTOPIA(\n",
    "    inputs_path,\n",
    "    model_lists,\n",
    "    thalf_deg_d_dict,\n",
    "    alpha_hetr_dict,\n",
    "    t_frag_gen_FreeSurfaceWater,\n",
    ")"
   ]
  },
  {
   "cell_type": "markdown",
   "metadata": {},
   "source": [
    "#### Define emission scenario\n",
    "\n",
    "Choose input flow (in g per second) and define in wich form and size the particles are released into the environment and specify the input flow for each compartment"
   ]
  },
  {
   "cell_type": "code",
   "execution_count": 41,
   "metadata": {},
   "outputs": [],
   "source": [
    "# Size fraction:\n",
    "# for the preloaded scenario:\n",
    "# a= 0.5 um\n",
    "# b= 5 um\n",
    "# c= 50 um\n",
    "# d= 500 um\n",
    "# e= 5000 um\n",
    "import string\n",
    "\n",
    "size_codes = [letter for letter in string.ascii_lowercase[0:N_sizeBins]]\n",
    "size_dict = dict(zip(size_codes, model_lists[\"dict_size_coding\"].values()))\n",
    "\n",
    "# Aggregation state (MP form):\n",
    "# A= Free MP\n",
    "# B= heteroaggregatedMP\n",
    "# C= biofouled MP\n",
    "# D= biofouled and heteroaggregated MP\n",
    "MPforms_list = [\"freeMP\", \"heterMP\", \"biofMP\", \"heterBiofMP\"]\n",
    "particle_forms_coding = dict(zip(MPforms_list, [\"A\", \"B\", \"C\", \"D\"]))\n",
    "MP_form_dict_reverse = {v: k for k, v in particle_forms_coding.items()}"
   ]
  },
  {
   "cell_type": "markdown",
   "metadata": {},
   "source": [
    "##### Select size bin and form"
   ]
  },
  {
   "cell_type": "code",
   "execution_count": 42,
   "metadata": {},
   "outputs": [],
   "source": [
    "size_bin = \"e\"  # Chosse from size_dict\n",
    "MP_form = \"freeMP\"  # Choose from MPforms_list above"
   ]
  },
  {
   "cell_type": "markdown",
   "metadata": {},
   "source": [
    "##### Type input flow in g/s\n",
    "\n",
    "If inputs are only made to one compartment:"
   ]
  },
  {
   "cell_type": "code",
   "execution_count": 43,
   "metadata": {},
   "outputs": [],
   "source": [
    "emiss_comp = \"Coast_Surface_Water\"  # Select compartment from the compartment list\n",
    "input_flow_g_s = 1  # Choose input flow (in g per second)\n",
    "\n",
    "q_mass_g_s_dict = {\n",
    "    \"Ocean_Surface_Water\": 0,\n",
    "    \"Ocean_Mixed_Water\": 0,\n",
    "    \"Ocean_Column_Water\": 0,\n",
    "    \"Coast_Surface_Water\": 0,\n",
    "    \"Coast_Column_Water\": 0,\n",
    "    \"Surface_Freshwater\": 0,\n",
    "    \"Bulk_Freshwater\": 0,\n",
    "    \"Sediment_Freshwater\": 0,\n",
    "    \"Sediment_Ocean\": 0,\n",
    "    \"Sediment_Coast\": 0,\n",
    "    \"Urban_Soil_Surface\": 0,\n",
    "    \"Urban_Soil\": 0,\n",
    "    \"Background_Soil_Surface\": 0,\n",
    "    \"Background_Soil\": 0,\n",
    "    \"Agricultural_Soil_Surface\": 0,\n",
    "    \"Agricultural_Soil\": 0,\n",
    "    \"Air\": 0,\n",
    "}\n",
    "\n",
    "q_mass_g_s_dict[emiss_comp] = input_flow_g_s"
   ]
  },
  {
   "cell_type": "markdown",
   "metadata": {},
   "source": [
    "If emissions are made to several compartments type the input flows corresponding to the specific compartments in the following dictionary:\n",
    "\n",
    "q_mass_g_s_dict = {\n",
    "    \"Ocean_Surface_Water\": 0,\n",
    "    \"Ocean_Mixed_Water\": 0,\n",
    "    \"Ocean_Column_Water\": 0,\n",
    "    \"Coast_Surface_Water\": 0,\n",
    "    \"Coast_Column_Water\": 0,\n",
    "    \"Surface_Freshwater\": 0,\n",
    "    \"Bulk_Freshwater\": 0,\n",
    "    \"Sediment_Freshwater\": 0,\n",
    "    \"Sediment_Ocean\": 0,\n",
    "    \"Sediment_Coast\": 0,\n",
    "    \"Urban_Soil_Surface\": 0,\n",
    "    \"Urban_Soil\": 0,\n",
    "    \"Background_Soil_Surface\": 0,\n",
    "    \"Background_Soil\": 0,\n",
    "    \"Agricultural_Soil_Surface\": 0,\n",
    "    \"Agricultural_Soil\": 0,\n",
    "    \"Air\": 0,\n",
    "}"
   ]
  },
  {
   "cell_type": "code",
   "execution_count": 44,
   "metadata": {},
   "outputs": [],
   "source": [
    "input_flow_filename = os.path.join(inputs_path, \"inputFlows.csv\")\n",
    "input_flows_df = pd.DataFrame(\n",
    "    list(q_mass_g_s_dict.items()), columns=[\"compartment\", \"q_mass_g_s\"]\n",
    ")\n",
    "input_flows_df.to_csv(input_flow_filename, index=False)"
   ]
  },
  {
   "cell_type": "markdown",
   "metadata": {},
   "source": [
    "## Model Run Summary"
   ]
  },
  {
   "cell_type": "code",
   "execution_count": 46,
   "metadata": {},
   "outputs": [
    {
     "name": "stdout",
     "output_type": "stream",
     "text": [
      "Model run: \n",
      "Emissions flow (g/s):  1\n",
      "Receiving compartment/s:  Coast_Surface_Water\n",
      "Emitted MP density (kg/m3):  1580\n",
      "Emitted MP shape:  sphere\n",
      "Emitted MP form:  freeMP\n",
      "Emitted MP size (um):  5000.0\n",
      "Selected fragmentation style:  mixed_fragmentation\n"
     ]
    }
   ],
   "source": [
    "saveName = (\n",
    "    MP_composition\n",
    "    + \"_MP_Emissions_\"\n",
    "    + MP_form\n",
    "    + \"_\"\n",
    "    + str(size_dict[size_bin])\n",
    "    + \"_nm_\"\n",
    "    + frag_style\n",
    ")\n",
    "\n",
    "# Print model run summary\n",
    "\n",
    "print(\"Model run: \")\n",
    "print(\"Emissions flow (g/s): \", input_flow_g_s)\n",
    "desired_key = next(key for key, value in q_mass_g_s_dict.items() if value > 0)\n",
    "print(\"Receiving compartment/s: \", desired_key)\n",
    "print(\"Emitted MP density (kg/m3): \", MPdensity_kg_m3)\n",
    "print(\"Emitted MP shape: \", shape)\n",
    "print(\"Emitted MP form: \", MP_form)\n",
    "print(\"Emitted MP size (um): \", size_dict[size_bin])\n",
    "print(\"Selected fragmentation style: \", frag_style)\n"
   ]
  },
  {
   "cell_type": "markdown",
   "metadata": {},
   "source": [
    "### Run Model"
   ]
  },
  {
   "cell_type": "code",
   "execution_count": 47,
   "metadata": {},
   "outputs": [
    {
     "name": "stdout",
     "output_type": "stream",
     "text": [
      "Difference inflow-outflow = -1.3322676295501878e-15\n",
      "                                 Inflow       Outflow\n",
      "Ocean_Surface_Water        3.643874e+00  3.643874e+00\n",
      "Ocean_Mixed_Water          3.648089e+00  3.648089e+00\n",
      "Ocean_Column_Water         4.812984e-03  4.812984e-03\n",
      "Coast_Surface_Water        4.499357e+00  4.499336e+00\n",
      "Coast_Column_Water         4.584591e+00  4.584591e+00\n",
      "Surface_Freshwater         3.031559e-03  3.031559e-03\n",
      "Bulk_Freshwater            3.033526e-03  3.033526e-03\n",
      "Sediment_Freshwater        7.511246e-06  7.511246e-06\n",
      "Sediment_Ocean             4.723967e-03  4.723967e-03\n",
      "Sediment_Coast             1.081028e+00  1.081028e+00\n",
      "Urban_Soil_Surface         1.354236e-07  7.927273e-09\n",
      "Urban_Soil                 1.274963e-07  1.587809e-08\n",
      "Background_Soil_Surface    1.173450e-04  6.928287e-06\n",
      "Background_Soil            1.104167e-04  1.423132e-05\n",
      "Agricultural_Soil_Surface  4.350546e-09  8.224960e-10\n",
      "Agricultural_Soil          3.528050e-09  4.313097e-10\n",
      "Air                        2.436409e-07  2.436409e-07\n"
     ]
    }
   ],
   "source": [
    "\"\"\"Estimate rate constants per particle\"\"\"\n",
    "\n",
    "for particle in system_particle_object_list:\n",
    "    generate_rateConstants(particle, spm, dict_comp, fsd)\n",
    "\n",
    "\n",
    "## create rate constants table:\n",
    "RC_df = create_rateConstants_table(system_particle_object_list)\n",
    "df4 = RC_df.fillna(0)\n",
    "\n",
    "\"\"\"Build Matrix of interactions\"\"\"\n",
    "\n",
    "interactions_df = fillInteractions_fun_OOP(\n",
    "    system_particle_object_list, SpeciesList, surfComp_list\n",
    ")\n",
    "\n",
    "\n",
    "\"\"\"SOLVE SYSTEM OF ODES\"\"\"\n",
    "\n",
    "particle_compartmentCoding = dict(\n",
    "    zip(\n",
    "        model_lists[\"compartmentNames_list\"],\n",
    "        list(range(len(model_lists[\"compartmentNames_list\"]))),\n",
    "    )\n",
    ")\n",
    "comp_dict_inverse = {v: k for k, v in particle_compartmentCoding.items()}\n",
    "\n",
    "sp_imputs = []\n",
    "q_mass_g_s = []\n",
    "for compartment in q_mass_g_s_dict.keys():\n",
    "\n",
    "    sp_imputs.append(\n",
    "        size_bin\n",
    "        + particle_forms_coding[MP_form]\n",
    "        + str(particle_compartmentCoding[compartment])\n",
    "        + \"_\"\n",
    "        + boxName\n",
    "    )\n",
    "    q_mass_g_s.append(q_mass_g_s_dict[compartment])\n",
    "\n",
    "imput_flows_g_s = dict(zip(sp_imputs, q_mass_g_s))\n",
    "\n",
    "q_num_s = [\n",
    "    mass_to_num(v, p.Pvolume_m3, p.Pdensity_kg_m3) if v != 0 else 0\n",
    "    for k, v in zip(imput_flows_g_s.keys(), imput_flows_g_s.values())\n",
    "    for p in system_particle_object_list\n",
    "    if k == p.Pcode\n",
    "]\n",
    "\n",
    "# imput_flows_num_s = dict(zip(sp_imputs, q_num_s))\n",
    "\n",
    "\n",
    "R, PartMass_t0 = solve_ODES_SS(\n",
    "    system_particle_object_list=system_particle_object_list,\n",
    "    q_num_s=0,\n",
    "    imput_flows_g_s=imput_flows_g_s,\n",
    "    interactions_df=interactions_df,\n",
    ")\n",
    "\n",
    "# Reformat results (R) dataframe\n",
    "R[\"Size_Fraction_um\"] = [size_dict[x[0]] for x in R.index]\n",
    "R[\"MP_Form\"] = [MP_form_dict_reverse[x[1]] for x in R.index]\n",
    "R[\"Compartment\"] = [comp_dict_inverse[float(x[2:-7])] for x in R.index]\n",
    "\n",
    "Results = R[\n",
    "    [\n",
    "        \"Compartment\",\n",
    "        \"MP_Form\",\n",
    "        \"Size_Fraction_um\",\n",
    "        \"mass_g\",\n",
    "        \"number_of_particles\",\n",
    "        \"concentration_g_m3\",\n",
    "        \"concentration_num_m3\",\n",
    "    ]\n",
    "]\n",
    "\n",
    "# Solve mass balance and print result\n",
    "massBalance(R, system_particle_object_list, q_mass_g_s)\n",
    "\n",
    "\n",
    "# Test that there are no negative results\n",
    "for i, idx in zip(R[\"mass_g\"], R.index):\n",
    "    if i < 0:\n",
    "        print(\"negative values in the solution for \" + idx)\n",
    "    else:\n",
    "        pass\n",
    "\n",
    "# Estimate mass and number fractions and extract ranking tables of the species with higest fractions to understand the distribution of the particles in the system by mass and number of particles\n",
    "\n",
    "Results_extended, mf_shorted, nf_shorted = estimate_fractions(Results)\n",
    "\n",
    "# Organise results in dictionary for plotting\n",
    "\n",
    "Results_comp_dict = extract_by_comp(\n",
    "    Results_extended.reset_index(), particle_compartmentCoding\n",
    ")\n",
    "Results_comp_organiced = extract_by_aggSt(Results_comp_dict, particle_forms_coding)\n",
    "\n",
    "# Mass distribution by compartment\n",
    "mass_frac_100 = []\n",
    "num_frac_100 = []\n",
    "mass_conc_g_m3 = []\n",
    "num_conc = []\n",
    "for comp in list(dict_comp.keys()):\n",
    "    mass_frac_100.append(\n",
    "        sum(Results_extended[Results_extended[\"Compartment\"] == comp][\"mass_fraction\"])\n",
    "        * 100\n",
    "    )\n",
    "    num_frac_100.append(\n",
    "        sum(\n",
    "            Results_extended[Results_extended[\"Compartment\"] == comp][\"number_fraction\"]\n",
    "        )\n",
    "        * 100\n",
    "    )\n",
    "    mass_conc_g_m3.append(\n",
    "        sum(\n",
    "            Results_extended[Results_extended[\"Compartment\"] == comp][\n",
    "                \"concentration_g_m3\"\n",
    "            ]\n",
    "        )\n",
    "    )\n",
    "    num_conc.append(\n",
    "        sum(\n",
    "            Results_extended[Results_extended[\"Compartment\"] == comp][\n",
    "                \"concentration_num_m3\"\n",
    "            ]\n",
    "        )\n",
    "    )\n",
    "\n",
    "mass_dist_comp = pd.DataFrame(columns=[\"Compartments\"])\n",
    "mass_dist_comp[\"Compartments\"] = list(dict_comp.keys())\n",
    "mass_dist_comp[\"%_mass\"] = mass_frac_100\n",
    "mass_dist_comp[\"%_number\"] = num_frac_100\n",
    "mass_dist_comp[\"Concentration_g_m3\"] = mass_conc_g_m3\n",
    "mass_dist_comp[\"Concentration_num_m3\"] = num_conc\n",
    "\n",
    "### MASS BALANCE PER COMPARTMENT###\n",
    "\n",
    "# Estimate mass flows due to the different particle fate process (transfer between compartments, elimination and transformation processes)\n",
    "\n",
    "from functions.generate_compartmentFlows_tables import *\n",
    "\n",
    "# Estimate outflows in mass (g/s) amd number/second\n",
    "(tables_outputFlows, tables_outputFlows_number) = estimate_outFlows(\n",
    "    system_particle_object_list, dict_comp\n",
    ")\n",
    "\n",
    "\n",
    "# Estimate imput flows from transport from other compartments\n",
    "(tables_inputFlows, tables_inputFlows_num) = estimate_inFlows(\n",
    "    tables_outputFlows, tables_outputFlows_number, dict_comp, surfComp_list\n",
    ")\n",
    "\n",
    "\n",
    "## Compartment mass balance\n",
    "\n",
    "comp_mass_balance = {}\n",
    "for comp in list(dict_comp.keys()):\n",
    "    comp_mass_balance[comp] = compartment_massBalance(\n",
    "        comp=comp,\n",
    "        tables_outputFlows=tables_outputFlows,\n",
    "        PartMass_t0=PartMass_t0,\n",
    "        comp_dict_inverse=comp_dict_inverse,\n",
    "        dict_comp=dict_comp,\n",
    "        tables_inputFlows=tables_inputFlows,\n",
    "    )\n",
    "\n",
    "# Print compartment mass balance table\n",
    "comp_mass_balance_df = pd.DataFrame.from_dict(comp_mass_balance, orient=\"index\")\n",
    "print(comp_mass_balance_df)\n",
    "\n",
    "comp_mass_balance_df[\"Mass balance\"] = [\n",
    "    comp_mass_balance_df[\"Inflow\"][c] - comp_mass_balance_df[\"Outflow\"][c]\n",
    "    for c in comp_mass_balance_df.index\n",
    "]\n",
    "\n",
    "# Add total steady state mass and number of particles concentrations to dataframe\n",
    "\n",
    "# comp_mass_balance_df[\"Total Mass (g)\"] = [sum(Results_comp_dict[c].mass_g) for c in comp_mass_balance_df.index]\n",
    "# comp_mass_balance_df[\"Total Number of Particles\"] = [sum(Results_comp_dict[c].number_of_particles) for c in comp_mass_balance_df.index]\n",
    "comp_mass_balance_df[\"Concentration (g/m3)\"] = [\n",
    "    sum(Results_comp_dict[c].concentration_g_m3) for c in comp_mass_balance_df.index\n",
    "]\n",
    "comp_mass_balance_df[\"Concentration (N/m3)\"] = [\n",
    "    sum(Results_comp_dict[c].concentration_num_m3) for c in comp_mass_balance_df.index\n",
    "]\n"
   ]
  },
  {
   "cell_type": "markdown",
   "metadata": {},
   "source": [
    "### Mass and number distribution heatmaps"
   ]
  },
  {
   "cell_type": "code",
   "execution_count": 48,
   "metadata": {},
   "outputs": [
    {
     "data": {
      "image/png": "[encoded data removed]",
      "text/plain": [
       "<Figure size 864x576 with 2 Axes>"
      ]
     },
     "metadata": {
      "needs_background": "light"
     },
     "output_type": "display_data"
    },
    {
     "data": {
      "image/png": "[encoded data removed]",
      "text/plain": [
       "<Figure size 864x576 with 2 Axes>"
      ]
     },
     "metadata": {
      "needs_background": "light"
     },
     "output_type": "display_data"
    }
   ],
   "source": [
    "plot_fractionDistribution_heatmap(Results_extended, fraction=\"mass_fraction\")\n",
    "plot_fractionDistribution_heatmap(Results_extended, fraction=\"number_fraction\")"
   ]
  },
  {
   "cell_type": "markdown",
   "metadata": {},
   "source": [
    "### Exposure indicators"
   ]
  },
  {
   "cell_type": "code",
   "execution_count": 49,
   "metadata": {},
   "outputs": [
    {
     "name": "stdout",
     "output_type": "stream",
     "text": [
      "Environmentally Dispersed Mass Fractions through Air = 6.752941846754013e-07\n",
      "Environmentally Dispersed Mass Fractions through Ocean_Mixed_Water = 2.0547103799111405e-07\n",
      "Environmentally Dispersed Mass Fractions through Ocean_Surface_Water = 6.16335979143662e-10\n",
      "φ1 for mass = 8.81381558645659e-07\n",
      "Environmentally Dispersed Particle Number Fractions through Air = 673972\n",
      "Environmentally Dispersed Particle Number Fractions through Ocean_Mixed_Water = 186041\n",
      "Environmentally Dispersed Particle Number Fractions through Ocean_Surface_Water = 558\n",
      "φ1 for particle number = 860572.4855788788\n",
      "Remotely transferred fraction to Ocean_Surface_Water = 4.364210723277493e-14\n",
      "Remotely transferred fraction to Ocean_Column_Water = 3.667172538754485e-11\n",
      "Remotely transferred fraction to Sediment_Ocean = 1.6065023728751502e-07\n",
      "Remotely transferred fraction to Background_Soil_Surface = 1.997529925440994e-08\n",
      "Total remotely transferred mass fraction = 1.8066225190941975e-07\n"
     ]
    },
    {
     "data": {
      "image/png": "[encoded data removed]",
      "text/plain": [
       "<Figure size 432x288 with 1 Axes>"
      ]
     },
     "metadata": {
      "needs_background": "light"
     },
     "output_type": "display_data"
    },
    {
     "name": "stdout",
     "output_type": "stream",
     "text": [
      "Overall mass persistence (years): 197\n",
      "Overall particle number persistence (years): 199\n",
      "Overall persistence of size 0.5 um (years): 199\n",
      "Overall persistence of size 5.0 um (years): 199\n",
      "Overall persistence of size 50.0 um (years): 195\n",
      "Overall persistence of size 500.0 um (years): 179\n",
      "Overall persistence of size 5000.0 um (years): 99\n",
      "Overall residence time is calculated assuming the model boundaries to be at 100 m depth into the Ocean, 30 cm into the sediments and 0.1 m into the soil. Particles travelling deeper are considered losses\n",
      "Overall mass residence time (years): 27.2\n",
      "Overall particle number residence time (years): 26.1\n",
      "Overall residence time of size 0.5 um (years): 26.1\n",
      "Overall residence time of size 5.0 um (years): 26.32\n",
      "Overall residence time of size 50.0 um (years): 27.24\n",
      "Overall residence time of size 500.0 um (years): 26.96\n",
      "Overall residence time of size 5000.0 um (years): 24.04\n",
      "Characteristic mass travel distance (CDT):  2270.8  km\n",
      "Characteristic particle number travel distance (CDT):  4554.5  km\n"
     ]
    }
   ],
   "source": [
    "# For estimating exposure indicators we need to make emissions to targeted compartments.\n",
    "\n",
    "# Run model with emissions to specific compartments to estimate the emission fractions\n",
    "from functions.model_run_by_comp import *\n",
    "\n",
    "model_results = {}\n",
    "dispersing_comp_list = [\n",
    "    \"Air\",\n",
    "    \"Ocean_Mixed_Water\",\n",
    "    \"Ocean_Surface_Water\",\n",
    "]\n",
    "\n",
    "for dispersing_comp in dispersing_comp_list:\n",
    "    model_results[dispersing_comp] = run_model_comp(\n",
    "        dispersing_comp,\n",
    "        input_flow_g_s,\n",
    "        interactions_df,\n",
    "        MP_form,\n",
    "        size_bin,\n",
    "        particle_forms_coding,\n",
    "        particle_compartmentCoding,\n",
    "        system_particle_object_list,\n",
    "        comp_dict_inverse,\n",
    "        dict_comp,\n",
    "        size_dict,\n",
    "        MP_form_dict_reverse,\n",
    "        surfComp_list,\n",
    "    )\n",
    "\n",
    "\n",
    "# # Run model with emissions to specific compartments of the targeted size bin to estimate the particle number dispersion fractions\n",
    "# model_results_size_bin = {}\n",
    "# for size in size_dict:\n",
    "#     model_results_size_bin[size] = {}\n",
    "#     for dispersing_comp in dispersing_comp_list:\n",
    "#         model_results_size_bin[size][dispersing_comp] = run_model_comp(\n",
    "#             dispersing_comp,\n",
    "#             input_flow_g_s,\n",
    "#             interactions_df,\n",
    "#             MP_form,\n",
    "#             size_bin=size,\n",
    "#             particle_forms_coding=particle_forms_coding,\n",
    "#             particle_compartmentCoding=particle_compartmentCoding,\n",
    "#             system_particle_object_list=system_particle_object_list,\n",
    "#             comp_dict_inverse=comp_dict_inverse,\n",
    "#             dict_comp=dict_comp,\n",
    "#             size_dict=size_dict,\n",
    "#             MP_form_dict_reverse=MP_form_dict_reverse,\n",
    "#             surfComp_list=surfComp_list,\n",
    "#         )\n",
    "\n",
    "\n",
    "#### EXPOSURE INDICATORS ####\n",
    "from functions.emission_fractions_calculation import *\n",
    "\n",
    "\n",
    "# Estimate emission fractions for the setted emission scenario\n",
    "\n",
    "emission_fractions_mass_data = emission_fractions_calculations(\n",
    "    Results_extended,\n",
    "    model_results,\n",
    "    dispersing_comp_list,\n",
    "    dict_comp,\n",
    "    input_flow_g_s,\n",
    "    q_num_s,\n",
    "    size_dict,\n",
    "    emiss_comp,\n",
    ")\n",
    "\n",
    "\n",
    "plot_emission_fractions(emission_fractions_mass_data, emiss_comp)\n",
    "\n",
    "\n",
    "# Overall persistance (Pov) and Overall residence time (Tov) in years:\n",
    "\n",
    "(\n",
    "    Pov_mass_years,\n",
    "    Pov_num_years,\n",
    "    Pov_size_dict_sec,\n",
    "    Tov_mass_years,\n",
    "    Tov_num_years,\n",
    "    Tov_size_dict_sec,\n",
    ") = Exposure_indicators_calculation(\n",
    "    tables_outputFlows,\n",
    "    tables_outputFlows_number,\n",
    "    Results_extended,\n",
    "    size_dict,\n",
    "    dict_comp,\n",
    "    system_particle_object_list,\n",
    ")\n",
    "\n",
    "# Caracteristic travel distance (CDT) (m):\n",
    "\n",
    "# To calculate CTD we need to estimate it by emitting into the especific mobile compartment. We will calculate CTD derived from emmiting to each compartment and taking the higest value:\n",
    "CTD_mass_list = []\n",
    "CTD_number_list = []\n",
    "\n",
    "\n",
    "for CDT_comp in [\n",
    "    \"Ocean_Surface_Water\",\n",
    "    \"Ocean_Mixed_Water\",\n",
    "    \"Coast_Surface_Water\",\n",
    "    \"Coast_Column_Water\",\n",
    "    \"Surface_Freshwater\",\n",
    "    \"Bulk_Freshwater\",\n",
    "    \"Air\",\n",
    "]:\n",
    "    # input flow (in g per second) for each compartment the User should specify here the input flows per compartment\n",
    "    q_mass_g_s_dict_CTD = {\n",
    "        \"Ocean_Surface_Water\": 0,\n",
    "        \"Ocean_Mixed_Water\": 0,\n",
    "        \"Ocean_Column_Water\": 0,\n",
    "        \"Coast_Surface_Water\": 0,\n",
    "        \"Coast_Column_Water\": 0,\n",
    "        \"Surface_Freshwater\": 0,\n",
    "        \"Bulk_Freshwater\": 0,\n",
    "        \"Sediment_Freshwater\": 0,\n",
    "        \"Sediment_Ocean\": 0,\n",
    "        \"Sediment_Coast\": 0,\n",
    "        \"Urban_Soil_Surface\": 0,\n",
    "        \"Urban_Soil\": 0,\n",
    "        \"Background_Soil_Surface\": 0,\n",
    "        \"Background_Soil\": 0,\n",
    "        \"Agricultural_Soil_Surface\": 0,\n",
    "        \"Agricultural_Soil\": 0,\n",
    "        \"Air\": 0,\n",
    "    }\n",
    "    q_mass_g_s_dict_CTD[CDT_comp] = input_flow_g_s\n",
    "\n",
    "    sp_imputs_CTD = []\n",
    "    q_mass_g_s_CTD = []\n",
    "    for compartment in q_mass_g_s_dict_CTD.keys():\n",
    "        sp_imputs_CTD.append(\n",
    "            size_bin\n",
    "            + particle_forms_coding[MP_form]\n",
    "            + str(particle_compartmentCoding[compartment])\n",
    "            + \"_\"\n",
    "            + boxName\n",
    "        )\n",
    "        q_mass_g_s_CTD.append(q_mass_g_s_dict_CTD[compartment])\n",
    "\n",
    "    imput_flows_g_s_CTD = dict(zip(sp_imputs_CTD, q_mass_g_s_CTD))\n",
    "\n",
    "    CTD_km = model_run_CTD(\n",
    "        system_particle_object_list,\n",
    "        CDT_comp,\n",
    "        imput_flows_g_s_CTD,\n",
    "        interactions_df,\n",
    "        q_mass_g_s_CTD,\n",
    "        size_dict,\n",
    "        MP_form_dict_reverse,\n",
    "        comp_dict_inverse,\n",
    "        dict_comp,\n",
    "    )\n",
    "\n",
    "    CTD_mass_list.append(CTD_km[0])\n",
    "    CTD_number_list.append(CTD_km[1])\n",
    "\n",
    "CTD_df = pd.DataFrame(\n",
    "    index=[\n",
    "        \"Ocean_Surface_Water\",\n",
    "        \"Ocean_Mixed_Water\",\n",
    "        \"Coast_Surface_Water\",\n",
    "        \"Coast_Column_Water\",\n",
    "        \"Surface_Freshwater\",\n",
    "        \"Bulk_Freshwater\",\n",
    "        \"Air\",\n",
    "    ]\n",
    ")\n",
    "\n",
    "CTD_df[\"CTD_mass_km\"] = CTD_mass_list\n",
    "CTD_df[\"CTD_particle_number_km\"] = CTD_number_list\n",
    "\n",
    "print(\n",
    "    \"Characteristic mass travel distance (CDT): \",\n",
    "    round(CTD_df[\"CTD_mass_km\"].max(), 1),\n",
    "    \" km\",\n",
    ")\n",
    "\n",
    "print(\n",
    "    \"Characteristic particle number travel distance (CDT): \",\n",
    "    round(CTD_df[\"CTD_particle_number_km\"].max(), 1),\n",
    "    \" km\",\n",
    ")\n"
   ]
  }
 ],
 "metadata": {
  "kernelspec": {
   "display_name": "venv",
   "language": "python",
   "name": "python3"
  },
  "language_info": {
   "codemirror_mode": {
    "name": "ipython",
    "version": 3
   },
   "file_extension": ".py",
   "mimetype": "text/x-python",
   "name": "python",
   "nbconvert_exporter": "python",
   "pygments_lexer": "ipython3",
   "version": "3.10.5"
  }
 },
 "nbformat": 4,
 "nbformat_minor": 2
}
