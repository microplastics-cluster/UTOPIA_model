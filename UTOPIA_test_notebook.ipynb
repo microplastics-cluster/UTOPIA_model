{
 "cells": [
  {
   "cell_type": "markdown",
   "metadata": {},
   "source": [
    "\n",
    "### Import libraries and modules"
   ]
  },
  {
   "cell_type": "code",
   "execution_count": 111,
   "metadata": {},
   "outputs": [],
   "source": [
    "import copy\n",
    "import os\n",
    "from datetime import datetime\n",
    "\n",
    "import pandas as pd\n",
    "import matplotlib.pyplot as plt\n",
    "import seaborn as sns\n",
    "from functions import create_inputsTable_UTOPIA\n",
    "from functions.create_rateConstants_tabel import *\n",
    "from functions.fillInteractions_df_fun import *\n",
    "from functions.generate_modelObjects import *\n",
    "from functions.generateRateConstants_particles import *\n",
    "from functions.solver_SteadyState import *\n",
    "from functions.extract_results import *\n",
    "from functions.plot_results import *\n",
    "from functions.massBalance import *\n",
    "from functions.exposure_indicators_calculation import *\n",
    "from functions.generate_MPinputs_table import *\n",
    "from functions.save_results import *\n",
    "from functions.loop_CTD_calculation import *\n",
    "from functions.generate_compartmentFlows_tables import *\n",
    "from helpers.helpers import *"
   ]
  },
  {
   "cell_type": "markdown",
   "metadata": {},
   "source": [
    "Set up path for inputs folder"
   ]
  },
  {
   "cell_type": "code",
   "execution_count": 112,
   "metadata": {},
   "outputs": [
    {
     "data": {
      "text/plain": [
       "'c:\\\\Users\\\\PradoDomercq\\\\Documents\\\\Python Scripts\\\\UTOPIA_model\\\\inputs'"
      ]
     },
     "execution_count": 112,
     "metadata": {},
     "output_type": "execute_result"
    }
   ],
   "source": [
    "##Set current working directory\n",
    "cwd=os.getcwd()\n",
    "inputs_path = cwd+\"\\inputs\"\n",
    "inputs_path"
   ]
  },
  {
   "cell_type": "markdown",
   "metadata": {},
   "source": [
    "### Define run parameters\n",
    "\n",
    "#### Define microplastics physical properties"
   ]
  },
  {
   "cell_type": "code",
   "execution_count": 113,
   "metadata": {},
   "outputs": [],
   "source": [
    "MPdensity_kg_m3 = 1580\n",
    "MP_composition = \"PVC\"\n",
    "shape = \"sphere\"  # Fixed for now\n",
    "N_sizeBins = 5  # Fixed, should not be changed. The 5 size bins are generated as being one order of magnitude appart and cover the range from mm to nm(i.e. 5000um, 500um, 50um, 5um, 0.5um)\n",
    "big_bin_diameter_um = 5000  # This size can not be bigger than 10 mm (10000um) or smaller than 1 mm(1000um)\n",
    "runName = MP_composition\n",
    "\n",
    "MP_inputs={\"MP_composition\":MP_composition,\"shape\":shape,\"N_sizeBins\":N_sizeBins,\"big_bin_diameter_um\":big_bin_diameter_um,\"runName\":runName,\"inputs_path\":inputs_path}\n"
   ]
  },
  {
   "cell_type": "code",
   "execution_count": 114,
   "metadata": {},
   "outputs": [],
   "source": [
    "# write microplastics inputs file\n",
    "mp_imputFile_name = write_MPinputs_table(\n",
    "    MPdensity_kg_m3,\n",
    "    MP_composition,\n",
    "    shape,\n",
    "    N_sizeBins,\n",
    "    big_bin_diameter_um,\n",
    "    runName,\n",
    "    inputs_path,\n",
    ")"
   ]
  },
  {
   "cell_type": "markdown",
   "metadata": {},
   "source": [
    "#### Define Environmental Characteristics\n",
    "\n",
    "##### Suspended particulates properties"
   ]
  },
  {
   "cell_type": "code",
   "execution_count": 115,
   "metadata": {},
   "outputs": [],
   "source": [
    "# From Kooi et al. (2017)\n",
    "v_a = 2.0e-16  # Volume of 1 algal cell [m-3]\n",
    "r_a = ((3.0 / 4.0) * (v_a / math.pi)) ** (1.0 / 3.0)  # radius of algae [m]\n",
    "\n",
    "spm_radius_um = r_a * 1e6\n",
    "spm_density_kg_m3 = 1388  # REF: Kooi et al. (2017)"
   ]
  },
  {
   "cell_type": "markdown",
   "metadata": {},
   "source": [
    "##### Compartment properties"
   ]
  },
  {
   "cell_type": "code",
   "execution_count": 116,
   "metadata": {},
   "outputs": [],
   "source": [
    "comp_impFile_name = \"\\inputs_compartments.csv\"  # Preloaded values, the user should be able to create its own inputs_compartments.csv file (via donwloading the file and typing news values without chaing the structure of the file) when a new file wants to be used the name should be changed here\n",
    "comp_interactFile_name = (\n",
    "    \"\\compartment_interactions.csv\"  # Fixed, should not be modified\n",
    ")"
   ]
  },
  {
   "cell_type": "markdown",
   "metadata": {},
   "source": [
    "##### Generate model objects (via reading selected input files)"
   ]
  },
  {
   "cell_type": "code",
   "execution_count": 117,
   "metadata": {},
   "outputs": [],
   "source": [
    "# Generate objects\n",
    "boxName = \"Utopia\"  # fixed, do not modify\n",
    "\n",
    "(\n",
    "    system_particle_object_list,\n",
    "    SpeciesList,\n",
    "    spm,\n",
    "    dict_comp,\n",
    "    model_lists,\n",
    "    particles_df,\n",
    ") = generate_objects(\n",
    "    inputs_path,\n",
    "    boxName=boxName,\n",
    "    MPforms_list=MPforms_list,\n",
    "    comp_impFile_name=comp_impFile_name,\n",
    "    comp_interactFile_name=comp_interactFile_name,\n",
    "    mp_imputFile_name=mp_imputFile_name,\n",
    "    spm_radius_um=spm_radius_um,\n",
    "    spm_density_kg_m3=spm_density_kg_m3,\n",
    ")\n",
    "\n",
    "surfComp_list = [c for c in dict_comp if \"Surface\" in c]"
   ]
  },
  {
   "cell_type": "markdown",
   "metadata": {},
   "source": [
    "#### Define Microplastics weathering properties\n"
   ]
  },
  {
   "cell_type": "markdown",
   "metadata": {},
   "source": [
    "##### Select fragmentation style\n",
    "In out approach each particle fractions into fragments of smaller sizes and the distribution is expresses via a fragment size distribution matrix (fsd), as descibed in https://microplastics-cluster.github.io/fragment-mnp/advanced-usage/fragment-size-distribution.html .  \n",
    "\n",
    "In this matrix the smallest size fraction is in the first possition and we consider no fragmentation for this size class \n",
    "\n",
    "Below we define 4 different styles of fragmentation via defining the fsd for each of them. The user can choose form one of the proposed fragmentation styles or define its own fsd by including it in the frag_styles_dict following the structure below.\n",
    "\n",
    "We provide a slider (to be done) where the user can select a fragmentation style by means of choosing a value of FI (fragmentation index) between 0 and 1 that describe two scenarios :\n",
    "\n",
    "- Erosive fragmentation (FI=0): In this scenario the particles are being eroded on their surface and therefore most of their mass remain in their same size fraction and samall fraction in going to the samllest size bins. Its representative fsd is: \n",
    "  \n",
    "    [[0, 0, 0, 0, 0],\n",
    "\n",
    "    [1, 0, 0, 0, 0],\n",
    "\n",
    "    [0.99, 0.01, 0, 0, 0],\n",
    "\n",
    "    [0.999, 0, 0.001, 0, 0],\n",
    "    \n",
    "    [0.9999, 0, 0, 0.0001, 0],]\n",
    "\n",
    "- Sequential fragmentation (FI=1): in this scenario each size fraction breacks down completely into the next smallest size bin.\n",
    "Its representative fsd is: \n",
    "\n",
    "    [[0, 0, 0, 0, 0],\n",
    "\n",
    "    [1, 0, 0, 0, 0],\n",
    "\n",
    "    [0, 1, 0, 0, 0],\n",
    "\n",
    "    [0, 0, 1, 0, 0],\n",
    "    \n",
    "    [0, 0, 0, 1, 0],]\n",
    "\n",
    "By choosing a value between 0 and 1 the user can select a fragmentation style in between both extremes."
   ]
  },
  {
   "cell_type": "code",
   "execution_count": 118,
   "metadata": {},
   "outputs": [],
   "source": [
    "### Substitute by a slider using the new function to generate fsd based on the fragmentation style index: FI\n",
    "def generate_fsd_matrix(FI):\n",
    "    # Initialize a 5x5 matrix with zeros\n",
    "    matrix = np.zeros((5, 5))\n",
    "    c1=0.2\n",
    "    c2=0.15\n",
    "    c3=0.1\n",
    "    \n",
    "    matrix[1,0]=1\n",
    "    matrix[2,0]=1-FI\n",
    "    matrix[2,1]=FI\n",
    "    if FI <=0.5:\n",
    "        matrix[3,1]=FI*2*c1\n",
    "        matrix[4,1]=FI*2*c2\n",
    "        matrix[4,2]=FI*2*c3\n",
    "    else:\n",
    "        matrix[3,1]=c1-((FI-0.5)*2*c1)\n",
    "        matrix[4,1]=c2-((FI-0.5)*2*c2)\n",
    "        matrix[4,2]=c3-((FI-0.5)*2*c3)\n",
    "    matrix[3,0]=matrix[2,0]+(0.5* matrix[3,1])\n",
    "    matrix[3,2]=1-matrix[3,0]-matrix[3,1]\n",
    "    matrix[4,0]=matrix[3,0]+(0.5* matrix[4,1])+(0.25* matrix[4,2])\n",
    "    matrix[4,3]=1-matrix[4,0]-matrix[4,1]-matrix[4,2]\n",
    "    \n",
    "    return matrix\n"
   ]
  },
  {
   "cell_type": "code",
   "execution_count": 119,
   "metadata": {},
   "outputs": [
    {
     "name": "stdout",
     "output_type": "stream",
     "text": [
      "[[0.   0.   0.   0.   0.  ]\n",
      " [1.   0.   0.   0.   0.  ]\n",
      " [0.5  0.5  0.   0.   0.  ]\n",
      " [0.6  0.2  0.2  0.   0.  ]\n",
      " [0.7  0.15 0.1  0.05 0.  ]]\n",
      "\n",
      "Sum of each row:\n",
      "Row 1: 0.0\n",
      "Row 2: 1.0\n",
      "Row 3: 1.0\n",
      "Row 4: 1.0\n",
      "Row 5: 1.0\n"
     ]
    }
   ],
   "source": [
    "## Select a value for FI in the range 0-1 where:\n",
    "frag_styles_dict = {0:\"erosive_fragmentation\",0.5:\"mixed_fragmentation\",1:\"sequential_fragmentation\"} ## Slider??\n",
    "FI=0.5\n",
    "\n",
    "# Generate the matrix\n",
    "fsd=generate_fsd_matrix(FI)\n",
    "print(fsd)\n",
    "\n",
    "# Verify the sum of each row\n",
    "row_sums = fsd.sum(axis=1)\n",
    "print(\"\\nSum of each row:\")\n",
    "for idx, sum_value in enumerate(row_sums):\n",
    "    print(f\"Row {idx + 1}: {sum_value}\")"
   ]
  },
  {
   "cell_type": "code",
   "execution_count": 120,
   "metadata": {},
   "outputs": [
    {
     "data": {
      "text/plain": [
       "'mixed_fragmentation'"
      ]
     },
     "execution_count": 120,
     "metadata": {},
     "output_type": "execute_result"
    }
   ],
   "source": [
    "frag_style = frag_styles_dict[FI]\n",
    "frag_style ### We need this now for the save fiction but should be substituted for FI=x? so that we can choose any value in the range 0-1"
   ]
  },
  {
   "cell_type": "code",
   "execution_count": 121,
   "metadata": {},
   "outputs": [],
   "source": [
    "sizes = [list(model_lists[\"dict_size_coding\"].keys())]\n",
    "fsd_df = pd.DataFrame(fsd, index=sizes, columns=sizes)\n",
    "\n",
    "# Save the fsd matrix\n",
    "fsd_filename = os.path.join(inputs_path, \"fsd.csv\")\n",
    "fsd_df.to_csv(fsd_filename)"
   ]
  },
  {
   "cell_type": "markdown",
   "metadata": {},
   "source": [
    "##### Define Weathering processes input parameters\n",
    "\n",
    "##### Degradation half time: thalf_deg_d\n",
    "\n",
    "The model provides a default value for degradation time of Free MPs taken from Domercq et al. 2021 in the file (t_half_deg_free.csv):\n",
    " \n",
    "The assumptions made for the definition of these degradation times: (NEW assumptions) \n",
    "    - Heteroaggregated particles degrade 10 times slower than the free MPs\n",
    "    - Biofouled particles degrade 2 times faster than the free MPs\n",
    "    - Degradation rates are all the same for the different compartments??"
   ]
  },
  {
   "cell_type": "markdown",
   "metadata": {},
   "source": [
    "If the user want to provide its own values of thalf_deg_d the values can be modified in the following cells"
   ]
  },
  {
   "cell_type": "code",
   "execution_count": 162,
   "metadata": {},
   "outputs": [],
   "source": [
    "t_half_deg_free= 5000  # in days\n",
    "heter_deg_rate= 10\n",
    "biof_deg_rate= 1/2\n"
   ]
  },
  {
   "cell_type": "code",
   "execution_count": 163,
   "metadata": {},
   "outputs": [],
   "source": [
    "t_half_deg_heter=t_half_deg_free*heter_deg_rate\n",
    "t_half_deg_biof=t_half_deg_free*biof_deg_rate\n",
    "t_half_deg_biofHeter=t_half_deg_free*biof_deg_rate*heter_deg_rate"
   ]
  },
  {
   "cell_type": "code",
   "execution_count": 164,
   "metadata": {},
   "outputs": [
    {
     "name": "stdout",
     "output_type": "stream",
     "text": [
      "{'freeMP': 5000, 'heterMP': 50000, 'biofMP': 2500.0, 'heterBiofMP': 25000.0}\n"
     ]
    }
   ],
   "source": [
    "thalf_deg_d_dict = {\n",
    "     \"freeMP\": t_half_deg_free,\n",
    "     \"heterMP\": t_half_deg_heter,\n",
    "     \"biofMP\": t_half_deg_biof,\n",
    "     \"heterBiofMP\": t_half_deg_biofHeter,\n",
    " } \n",
    "\n",
    "print(thalf_deg_d_dict)\n",
    "\n",
    "t_half_deg_filename = os.path.join(inputs_path, \"t_half_deg.csv\")\n",
    "t_half_deg_df = pd.DataFrame(list(thalf_deg_d_dict.items()), columns=['MP_form', 'thalf_deg_d'])\n",
    "t_half_deg_df.to_csv(t_half_deg_filename,index=False)"
   ]
  },
  {
   "cell_type": "code",
   "execution_count": 165,
   "metadata": {},
   "outputs": [],
   "source": [
    "# Read the CSV file into a DataFrame\n",
    "t_half_deg_filename = os.path.join(inputs_path, \"t_half_deg.csv\")\n",
    "t_half_deg_df = pd.read_csv(t_half_deg_filename)\n",
    "\n",
    "# Convert the DataFrame to a dictionary\n",
    "thalf_deg_d_dict = t_half_deg_df.set_index(\"MP_form\")[\"thalf_deg_d\"].to_dict()"
   ]
  },
  {
   "cell_type": "markdown",
   "metadata": {},
   "source": [
    "#### Heteroaggregation attachment efficiency: alpha_heter."
   ]
  },
  {
   "cell_type": "code",
   "execution_count": 126,
   "metadata": {},
   "outputs": [],
   "source": [
    "alpha_heter_filename = os.path.join(inputs_path, \"alpha_heter.csv\")\n",
    "alpha_heter_df = pd.read_csv(alpha_heter_filename)\n",
    "alpha_hetr_dict = alpha_heter_df.set_index(\"MP_form\")[\"alpha_heter\"].to_dict()"
   ]
  },
  {
   "cell_type": "code",
   "execution_count": 166,
   "metadata": {},
   "outputs": [
    {
     "data": {
      "text/plain": [
       "{'freeMP': '0.01', 'heterMP': 'NAN', 'biofMP': '0.02', 'heterBiofMP': 'NAN'}"
      ]
     },
     "execution_count": 166,
     "metadata": {},
     "output_type": "execute_result"
    }
   ],
   "source": [
    "alpha_hetr_dict"
   ]
  },
  {
   "cell_type": "markdown",
   "metadata": {},
   "source": [
    "#### Timescales of fragmentation\n",
    "\n",
    "The fragmentation timescales are deteremined from the stablished fragmentation half time of 36.5 days for the biggest size fraction in free form in the surface water compartments following the parameters chosen in Domercq et al. 2021.\n",
    "\n",
    "In UTOPIA we include fragmentation of the heteroaggregated MPs as being 100 slower than fragmentation of the Free MPs and breackup of biofouled and heteroaggregated will be two times slowed of those only heteroaggregated, following the same assumption as for free and biofouled. These values are used in the Domercq et al. 2021 paper and they are asumptions made from lack of current knowlegde"
   ]
  },
  {
   "cell_type": "code",
   "execution_count": 127,
   "metadata": {},
   "outputs": [],
   "source": [
    "t_frag_gen_FreeSurfaceWater = 36.5  # in days"
   ]
  },
  {
   "cell_type": "code",
   "execution_count": 128,
   "metadata": {},
   "outputs": [],
   "source": [
    "process_inputs_df = create_inputsTable_UTOPIA(\n",
    "    inputs_path,\n",
    "    model_lists,\n",
    "    thalf_deg_d_dict,\n",
    "    alpha_hetr_dict,\n",
    "    t_frag_gen_FreeSurfaceWater,\n",
    "    save_op=\"save\"\n",
    ")"
   ]
  },
  {
   "cell_type": "markdown",
   "metadata": {},
   "source": [
    "#### Define emission scenario\n",
    "\n",
    "Choose input flow (in g per second) and define in wich form and size the particles are released into the environment and specify the input flow for each compartment"
   ]
  },
  {
   "cell_type": "code",
   "execution_count": 129,
   "metadata": {},
   "outputs": [],
   "source": [
    "# Size fraction:\n",
    "# for the preloaded scenario:\n",
    "# a= 0.5 um\n",
    "# b= 5 um\n",
    "# c= 50 um\n",
    "# d= 500 um\n",
    "# e= 5000 um\n",
    "import string\n",
    "\n",
    "size_codes = [letter for letter in string.ascii_lowercase[0:N_sizeBins]]\n",
    "size_dict = dict(zip(size_codes, model_lists[\"dict_size_coding\"].values()))\n",
    "\n",
    "# Aggregation state (MP form):\n",
    "# A= Free MP\n",
    "# B= heteroaggregatedMP\n",
    "# C= biofouled MP\n",
    "# D= biofouled and heteroaggregated MP\n",
    "MPforms_list = [\"freeMP\", \"heterMP\", \"biofMP\", \"heterBiofMP\"]\n",
    "particle_forms_coding = dict(zip(MPforms_list, [\"A\", \"B\", \"C\", \"D\"]))\n",
    "MP_form_dict_reverse = {v: k for k, v in particle_forms_coding.items()}"
   ]
  },
  {
   "cell_type": "markdown",
   "metadata": {},
   "source": [
    "##### Select size bin and form"
   ]
  },
  {
   "cell_type": "code",
   "execution_count": 130,
   "metadata": {},
   "outputs": [],
   "source": [
    "size_bin = \"e\"  # Chosse from size_dict\n",
    "MP_form = \"freeMP\"  # Choose from MPforms_list above"
   ]
  },
  {
   "cell_type": "markdown",
   "metadata": {},
   "source": [
    "##### Type input flow in g/s\n",
    "\n",
    "If inputs are only made to one compartment:"
   ]
  },
  {
   "cell_type": "code",
   "execution_count": 131,
   "metadata": {},
   "outputs": [],
   "source": [
    "emiss_comp = \"Coast_Surface_Water\"  # Select compartment from the compartment list\n",
    "input_flow_g_s = 1  # Choose input flow (in g per second)\n",
    "\n",
    "q_mass_g_s_dict = {\n",
    "    \"Ocean_Surface_Water\": 0,\n",
    "    \"Ocean_Mixed_Water\": 0,\n",
    "    \"Ocean_Column_Water\": 0,\n",
    "    \"Coast_Surface_Water\": 0,\n",
    "    \"Coast_Column_Water\": 0,\n",
    "    \"Surface_Freshwater\": 0,\n",
    "    \"Bulk_Freshwater\": 0,\n",
    "    \"Sediment_Freshwater\": 0,\n",
    "    \"Sediment_Ocean\": 0,\n",
    "    \"Sediment_Coast\": 0,\n",
    "    \"Beaches_Soil_Surface\": 0,\n",
    "    \"Beaches_Deep_Soil\": 0,\n",
    "    \"Background_Soil_Surface\": 0,\n",
    "    \"Background_Soil\": 0,\n",
    "    \"Impacted_Soil_Surface\": 0,\n",
    "    \"Impacted_Soil\": 0,\n",
    "    \"Air\": 0,\n",
    "}\n",
    "\n",
    "q_mass_g_s_dict[emiss_comp] = input_flow_g_s"
   ]
  },
  {
   "cell_type": "markdown",
   "metadata": {},
   "source": [
    "If emissions are made to several compartments type the input flows corresponding to the specific compartments in the following dictionary:\n",
    "\n",
    "q_mass_g_s_dict = {\n",
    "    \"Ocean_Surface_Water\": 0,\n",
    "    \"Ocean_Mixed_Water\": 0,\n",
    "    \"Ocean_Column_Water\": 0,\n",
    "    \"Coast_Surface_Water\": 0,\n",
    "    \"Coast_Column_Water\": 0,\n",
    "    \"Surface_Freshwater\": 0,\n",
    "    \"Bulk_Freshwater\": 0,\n",
    "    \"Sediment_Freshwater\": 0,\n",
    "    \"Sediment_Ocean\": 0,\n",
    "    \"Sediment_Coast\": 0,\n",
    "    \"Urban_Soil_Surface\": 0,\n",
    "    \"Urban_Soil\": 0,\n",
    "    \"Background_Soil_Surface\": 0,\n",
    "    \"Background_Soil\": 0,\n",
    "    \"Agricultural_Soil_Surface\": 0,\n",
    "    \"Agricultural_Soil\": 0,\n",
    "    \"Air\": 0,\n",
    "}"
   ]
  },
  {
   "cell_type": "markdown",
   "metadata": {},
   "source": [
    "If inputs are made to different size classess and MP forms the following dictionary has to be used:\n"
   ]
  },
  {
   "cell_type": "code",
   "execution_count": 132,
   "metadata": {},
   "outputs": [],
   "source": [
    "input_flow_filename = os.path.join(inputs_path, \"inputFlows.csv\")\n",
    "input_flows_df = pd.DataFrame(\n",
    "    list(q_mass_g_s_dict.items()), columns=[\"compartment\", \"q_mass_g_s\"]\n",
    ")\n",
    "input_flows_df.to_csv(input_flow_filename, index=False)"
   ]
  },
  {
   "cell_type": "code",
   "execution_count": 133,
   "metadata": {},
   "outputs": [],
   "source": [
    "# Generate dict of emission flows\n",
    "particle_compartmentCoding = dict(\n",
    "    zip(\n",
    "        model_lists[\"compartmentNames_list\"],\n",
    "        list(range(len(model_lists[\"compartmentNames_list\"]))),\n",
    "    )\n",
    ")\n",
    "comp_dict_inverse = {v: k for k, v in particle_compartmentCoding.items()}\n",
    "\n",
    "sp_imputs = []\n",
    "q_mass_g_s = []\n",
    "for compartment in q_mass_g_s_dict.keys():\n",
    "\n",
    "    sp_imputs.append(\n",
    "        size_bin\n",
    "        + particle_forms_coding[MP_form]\n",
    "        + str(particle_compartmentCoding[compartment])\n",
    "        + \"_\"\n",
    "        + boxName\n",
    "    )\n",
    "    q_mass_g_s.append(q_mass_g_s_dict[compartment])\n",
    "\n",
    "imput_flows_g_s = dict(zip(sp_imputs, q_mass_g_s))\n",
    "\n",
    "q_num_s = [\n",
    "    mass_to_num(v, p.Pvolume_m3, p.Pdensity_kg_m3) if v != 0 else 0\n",
    "    for k, v in zip(imput_flows_g_s.keys(), imput_flows_g_s.values())\n",
    "    for p in system_particle_object_list\n",
    "    if k == p.Pcode\n",
    "]\n",
    "\n",
    "# imput_flows_num_s = dict(zip(sp_imputs, q_num_s))\n"
   ]
  },
  {
   "cell_type": "code",
   "execution_count": 134,
   "metadata": {},
   "outputs": [],
   "source": [
    "emission_inputs={\"size_bin\":size_bin, \"MP_form\":MP_form, \"emiss_comp\":emiss_comp, \"imput_flows_g_s\":imput_flows_g_s}"
   ]
  },
  {
   "cell_type": "markdown",
   "metadata": {},
   "source": [
    "## Model Run Summary"
   ]
  },
  {
   "cell_type": "code",
   "execution_count": 135,
   "metadata": {},
   "outputs": [
    {
     "name": "stdout",
     "output_type": "stream",
     "text": [
      "Model run: \n",
      "Emissions flow (g/s):  1\n",
      "Receiving compartment/s:  Coast_Surface_Water\n",
      "Emitted MP density (kg/m3):  1580\n",
      "Emitted MP shape:  sphere\n",
      "Emitted MP form:  freeMP\n",
      "Emitted MP size (um):  5000.0\n",
      "Selected fragmentation style:  mixed_fragmentation\n"
     ]
    }
   ],
   "source": [
    "saveName = (\n",
    "    MP_composition\n",
    "    + \"_MP_Emissions_\"\n",
    "    + MP_form\n",
    "    + \"_\"\n",
    "    + str(size_dict[size_bin])\n",
    "    + \"_nm_\"\n",
    "    + frag_style\n",
    ")\n",
    "\n",
    "# Print model run summary\n",
    "\n",
    "print(\"Model run: \")\n",
    "print(\"Emissions flow (g/s): \", input_flow_g_s)\n",
    "desired_key = next(key for key, value in q_mass_g_s_dict.items() if value > 0)\n",
    "print(\"Receiving compartment/s: \", desired_key)\n",
    "print(\"Emitted MP density (kg/m3): \", MPdensity_kg_m3)\n",
    "print(\"Emitted MP shape: \", shape)\n",
    "print(\"Emitted MP form: \", MP_form)\n",
    "print(\"Emitted MP size (um): \", size_dict[size_bin])\n",
    "print(\"Selected fragmentation style: \", frag_style)\n"
   ]
  },
  {
   "cell_type": "markdown",
   "metadata": {},
   "source": [
    "### Run Model"
   ]
  },
  {
   "cell_type": "code",
   "execution_count": 136,
   "metadata": {},
   "outputs": [
    {
     "name": "stdout",
     "output_type": "stream",
     "text": [
      "Difference inflow-outflow = -8.881784197001252e-16\n",
      "                               Inflow       Outflow\n",
      "Ocean_Surface_Water      3.631483e+00  3.631483e+00\n",
      "Ocean_Mixed_Water        3.635686e+00  3.635686e+00\n",
      "Ocean_Column_Water       4.769470e-03  4.769470e-03\n",
      "Coast_Surface_Water      4.490625e+00  4.490604e+00\n",
      "Coast_Column_Water       4.575831e+00  4.575831e+00\n",
      "Surface_Freshwater       5.044678e-06  5.044678e-06\n",
      "Bulk_Freshwater          5.047627e-06  5.047627e-06\n",
      "Sediment_Freshwater      1.165167e-08  1.165167e-08\n",
      "Sediment_Ocean           4.468952e-03  4.468952e-03\n",
      "Sediment_Coast           1.081013e+00  1.081013e+00\n",
      "Beaches_Soil_Surface     9.237529e-05  5.987397e-06\n",
      "Beaches_Deep_Soil        8.638790e-05  1.509928e-05\n",
      "Background_Soil_Surface  1.246980e-07  7.952609e-09\n",
      "Background_Soil          1.167454e-07  1.950136e-08\n",
      "Impacted_Soil_Surface    2.397704e-09  6.227569e-10\n",
      "Impacted_Soil            1.774947e-09  2.923753e-10\n",
      "Air                      1.906860e-07  1.906860e-07\n"
     ]
    }
   ],
   "source": [
    "\n",
    "\"\"\"Estimate rate constants per particle\"\"\"\n",
    "\n",
    "for particle in system_particle_object_list:\n",
    "    generate_rateConstants(particle, spm, dict_comp, fsd,process_inputs_df)\n",
    "\n",
    "\n",
    "## create rate constants table:\n",
    "RC_df = create_rateConstants_table(system_particle_object_list)\n",
    "df4 = RC_df.fillna(0)\n",
    "\n",
    "\"\"\"Build Matrix of interactions\"\"\"\n",
    "\n",
    "interactions_df = fillInteractions_fun_OOP(\n",
    "    system_particle_object_list, SpeciesList, surfComp_list\n",
    ")\n",
    "\n",
    "\n",
    "\"\"\"SOLVE SYSTEM OF ODES\"\"\"\n",
    "\n",
    "\n",
    "R, PartMass_t0 = solve_ODES_SS(\n",
    "    system_particle_object_list=system_particle_object_list,\n",
    "    q_num_s=0,\n",
    "    imput_flows_g_s=imput_flows_g_s,\n",
    "    interactions_df=interactions_df,\n",
    ")\n",
    "\n",
    "# Reformat results (R) dataframe\n",
    "R[\"Size_Fraction_um\"] = [size_dict[x[0]] for x in R.index]\n",
    "R[\"MP_Form\"] = [MP_form_dict_reverse[x[1]] for x in R.index]\n",
    "R[\"Compartment\"] = [comp_dict_inverse[float(x[2:-7])] for x in R.index]\n",
    "\n",
    "Results = R[\n",
    "    [\n",
    "        \"Compartment\",\n",
    "        \"MP_Form\",\n",
    "        \"Size_Fraction_um\",\n",
    "        \"mass_g\",\n",
    "        \"number_of_particles\",\n",
    "        \"concentration_g_m3\",\n",
    "        \"concentration_num_m3\",\n",
    "    ]\n",
    "]\n",
    "\n",
    "# Solve mass balance and print result\n",
    "massBalance(R, system_particle_object_list, q_mass_g_s)\n",
    "\n",
    "\n",
    "# Test that there are no negative results\n",
    "for i, idx in zip(R[\"mass_g\"], R.index):\n",
    "    if i < 0:\n",
    "        print(\"negative values in the solution for \" + idx)\n",
    "    else:\n",
    "        pass\n",
    "\n",
    "# Estimate mass and number fractions and extract ranking tables of the species with higest fractions to understand the distribution of the particles in the system by mass and number of particles\n",
    "\n",
    "Results_extended, mf_shorted, nf_shorted = estimate_fractions(Results)\n",
    "\n",
    "# Organise results in dictionary for plotting\n",
    "\n",
    "Results_comp_dict = extract_by_comp(\n",
    "    Results_extended.reset_index(), particle_compartmentCoding\n",
    ")\n",
    "Results_comp_organiced = extract_by_aggSt(Results_comp_dict, particle_forms_coding)\n",
    "\n",
    "# Mass distribution by compartment\n",
    "mass_frac_100 = []\n",
    "num_frac_100 = []\n",
    "mass_conc_g_m3 = []\n",
    "num_conc = []\n",
    "for comp in list(dict_comp.keys()):\n",
    "    mass_frac_100.append(\n",
    "        sum(Results_extended[Results_extended[\"Compartment\"] == comp][\"mass_fraction\"])\n",
    "        * 100\n",
    "    )\n",
    "    num_frac_100.append(\n",
    "        sum(\n",
    "            Results_extended[Results_extended[\"Compartment\"] == comp][\"number_fraction\"]\n",
    "        )\n",
    "        * 100\n",
    "    )\n",
    "    mass_conc_g_m3.append(\n",
    "        sum(\n",
    "            Results_extended[Results_extended[\"Compartment\"] == comp][\n",
    "                \"concentration_g_m3\"\n",
    "            ]\n",
    "        )\n",
    "    )\n",
    "    num_conc.append(\n",
    "        sum(\n",
    "            Results_extended[Results_extended[\"Compartment\"] == comp][\n",
    "                \"concentration_num_m3\"\n",
    "            ]\n",
    "        )\n",
    "    )\n",
    "\n",
    "mass_dist_comp = pd.DataFrame(columns=[\"Compartments\"])\n",
    "mass_dist_comp[\"Compartments\"] = list(dict_comp.keys())\n",
    "mass_dist_comp[\"%_mass\"] = mass_frac_100\n",
    "mass_dist_comp[\"%_number\"] = num_frac_100\n",
    "mass_dist_comp[\"Concentration_g_m3\"] = mass_conc_g_m3\n",
    "mass_dist_comp[\"Concentration_num_m3\"] = num_conc\n",
    "\n",
    "### MASS BALANCE PER COMPARTMENT###\n",
    "\n",
    "# Estimate mass flows due to the different particle fate process (transfer between compartments, elimination and transformation processes)\n",
    "\n",
    "from functions.generate_compartmentFlows_tables import *\n",
    "\n",
    "# Estimate outflows in mass (g/s) amd number/second\n",
    "(tables_outputFlows, tables_outputFlows_number) = estimate_outFlows(\n",
    "    system_particle_object_list, dict_comp\n",
    ")\n",
    "\n",
    "\n",
    "# Estimate imput flows from transport from other compartments\n",
    "(tables_inputFlows, tables_inputFlows_num) = estimate_inFlows(\n",
    "    tables_outputFlows, tables_outputFlows_number, dict_comp, surfComp_list\n",
    ")\n",
    "# Decode index in input and output flow tables\n",
    "flows_dict_mass = dict()\n",
    "flows_dict_mass[\"input_flows\"] = {}\n",
    "flows_dict_mass[\"output_flows\"] = {}\n",
    "\n",
    "# Decode index in input and output flow tables\n",
    "for comp in tables_outputFlows.keys():\n",
    "    df1 = tables_outputFlows[comp].copy()\n",
    "    MP_size_df1 = []\n",
    "    MP_form_df1 = []\n",
    "    for x in df1.index:\n",
    "        MP_size_df1.append(size_dict[x[0]])\n",
    "        MP_form_df1.append(MP_form_dict_reverse[x[1:2]])\n",
    "\n",
    "    df1.insert(0, \"MP_size\", MP_size_df1)\n",
    "    df1.insert(1, \"MP_form\", MP_form_df1)\n",
    "    flows_dict_mass[\"output_flows\"][comp] = df1\n",
    "\n",
    "for comp in tables_inputFlows:\n",
    "    df2 = tables_inputFlows[comp].copy()\n",
    "    MP_size_df2 = []\n",
    "    MP_form_df2 = []\n",
    "    for y in df2.index:\n",
    "        MP_size_df2.append(size_dict[y[0]])\n",
    "        MP_form_df2.append(MP_form_dict_reverse[y[1:2]])\n",
    "    df2.insert(0, \"MP_size\", MP_size_df2)\n",
    "    df2.insert(1, \"MP_form\", MP_form_df2)\n",
    "    flows_dict_mass[\"input_flows\"][comp] = df2\n",
    "\n",
    "## Compartment mass balance\n",
    "\n",
    "comp_mass_balance = {}\n",
    "for comp in list(dict_comp.keys()):\n",
    "    comp_mass_balance[comp] = compartment_massBalance(\n",
    "        comp=comp,\n",
    "        tables_outputFlows=tables_outputFlows,\n",
    "        PartMass_t0=PartMass_t0,\n",
    "        comp_dict_inverse=comp_dict_inverse,\n",
    "        dict_comp=dict_comp,\n",
    "        tables_inputFlows=tables_inputFlows,\n",
    "    )\n",
    "\n",
    "# Print compartment mass balance table\n",
    "comp_mass_balance_df = pd.DataFrame.from_dict(comp_mass_balance, orient=\"index\")\n",
    "print(comp_mass_balance_df)\n",
    "\n",
    "comp_mass_balance_df[\"Mass balance\"] = [\n",
    "    comp_mass_balance_df[\"Inflow\"][c] - comp_mass_balance_df[\"Outflow\"][c]\n",
    "    for c in comp_mass_balance_df.index\n",
    "]\n",
    "\n",
    "# Add total steady state mass and number of particles concentrations to dataframe\n",
    "\n",
    "# comp_mass_balance_df[\"Total Mass (g)\"] = [sum(Results_comp_dict[c].mass_g) for c in comp_mass_balance_df.index]\n",
    "# comp_mass_balance_df[\"Total Number of Particles\"] = [sum(Results_comp_dict[c].number_of_particles) for c in comp_mass_balance_df.index]\n",
    "comp_mass_balance_df[\"Concentration (g/m3)\"] = [\n",
    "    sum(Results_comp_dict[c].concentration_g_m3) for c in comp_mass_balance_df.index\n",
    "]\n",
    "comp_mass_balance_df[\"Concentration (N/m3)\"] = [\n",
    "    sum(Results_comp_dict[c].concentration_num_m3) for c in comp_mass_balance_df.index\n",
    "]\n"
   ]
  },
  {
   "cell_type": "code",
   "execution_count": 140,
   "metadata": {},
   "outputs": [],
   "source": [
    "def extract_inflows_outflows(flows_dict_mass, comp, MP_form, MP_size):\n",
    "\n",
    "    # function to extract the input and output flows of the system (cell selection)\n",
    "\n",
    "    # extract inflows\n",
    "    df_i = flows_dict_mass[\"input_flows\"][comp]\n",
    "    df_ii = df_i.loc[(df_i[\"MP_form\"] == MP_form) & (df_i[\"MP_size\"] == MP_size)]\n",
    "    df_iii = df_ii.drop([\"MP_size\", \"MP_form\"], axis=1)\n",
    "    list_iflows = [k for k in df_iii]\n",
    "    list_inflow_val = [sum(df_iii[col]) for col in list_iflows]\n",
    "    inflow_p = [round((v / sum(list_inflow_val)) * 100, 4) for v in list_inflow_val]\n",
    "\n",
    "    pd_inputFlows = dict(zip(list_iflows,list_inflow_val ))\n",
    "    # pd.DataFrame(\n",
    "    #     {\"Inflows\": list_iflows, \"Rate_g_s\": list_inflow_val, \"%\": inflow_p}\n",
    "    # )\n",
    "\n",
    "    # extract outflows\n",
    "    df_o = flows_dict_mass[\"output_flows\"][comp]\n",
    "    df_oo = df_o.loc[(df_o[\"MP_form\"] == MP_form) & (df_o[\"MP_size\"] == MP_size)]\n",
    "    df_oo.reset_index(drop=True, inplace=True)\n",
    "    df_ooo = df_oo.drop([\"MP_size\", \"MP_form\"], axis=1)\n",
    "\n",
    "    outflow_val = [\n",
    "        sum(df_ooo[ko]) if type(df_ooo[ko][0]) != list else sum(df_ooo[ko][0])\n",
    "        for ko in df_ooo\n",
    "    ]\n",
    "    df_ooo.loc[0] = outflow_val\n",
    "    list_outflows = [ko for ko in df_ooo.columns if (df_ooo[ko] != 0).any()]\n",
    "    list_outflow_val = [\n",
    "        value for column in df_ooo.columns for value in df_ooo[column] if value != 0\n",
    "    ]\n",
    "    outflow_p = [round((v / sum(list_outflow_val)) * 100, 4) for v in list_outflow_val]\n",
    "\n",
    "    pd_outflows = dict(zip(list_outflows, (list_outflow_val, outflow_p)))\n",
    "    # pd.DataFrame(\n",
    "    #     {\"Outflows\": list_outflows, \"Rate_g_s\": list_outflow_val, \"%\": outflow_p}\n",
    "    # )\n",
    "\n",
    "    return (pd_inputFlows, pd_outflows)"
   ]
  },
  {
   "cell_type": "code",
   "execution_count": 141,
   "metadata": {},
   "outputs": [
    {
     "data": {
      "text/html": [
       "<div>\n",
       "<style scoped>\n",
       "    .dataframe tbody tr th:only-of-type {\n",
       "        vertical-align: middle;\n",
       "    }\n",
       "\n",
       "    .dataframe tbody tr th {\n",
       "        vertical-align: top;\n",
       "    }\n",
       "\n",
       "    .dataframe thead th {\n",
       "        text-align: right;\n",
       "    }\n",
       "</style>\n",
       "<table border=\"1\" class=\"dataframe\">\n",
       "  <thead>\n",
       "    <tr style=\"text-align: right;\">\n",
       "      <th></th>\n",
       "      <th>Compartment</th>\n",
       "      <th>MP_Form</th>\n",
       "      <th>Size_Fraction_um</th>\n",
       "      <th>mass_g</th>\n",
       "      <th>number_of_particles</th>\n",
       "      <th>concentration_g_m3</th>\n",
       "      <th>concentration_num_m3</th>\n",
       "      <th>mass_fraction</th>\n",
       "      <th>number_fraction</th>\n",
       "    </tr>\n",
       "    <tr>\n",
       "      <th>species</th>\n",
       "      <th></th>\n",
       "      <th></th>\n",
       "      <th></th>\n",
       "      <th></th>\n",
       "      <th></th>\n",
       "      <th></th>\n",
       "      <th></th>\n",
       "      <th></th>\n",
       "      <th></th>\n",
       "    </tr>\n",
       "  </thead>\n",
       "  <tbody>\n",
       "    <tr>\n",
       "      <th>aA0_Utopia</th>\n",
       "      <td>Ocean_Surface_Water</td>\n",
       "      <td>freeMP</td>\n",
       "      <td>0.5</td>\n",
       "      <td>2.500923e-06</td>\n",
       "      <td>2.418436e+07</td>\n",
       "      <td>1.454025e-21</td>\n",
       "      <td>1.406067e-08</td>\n",
       "      <td>2.894984e-15</td>\n",
       "      <td>3.359848e-14</td>\n",
       "    </tr>\n",
       "    <tr>\n",
       "      <th>bA0_Utopia</th>\n",
       "      <td>Ocean_Surface_Water</td>\n",
       "      <td>freeMP</td>\n",
       "      <td>5.0</td>\n",
       "      <td>4.014538e-07</td>\n",
       "      <td>3.882128e+03</td>\n",
       "      <td>2.334034e-22</td>\n",
       "      <td>2.257051e-12</td>\n",
       "      <td>4.647094e-16</td>\n",
       "      <td>5.393305e-18</td>\n",
       "    </tr>\n",
       "    <tr>\n",
       "      <th>cA0_Utopia</th>\n",
       "      <td>Ocean_Surface_Water</td>\n",
       "      <td>freeMP</td>\n",
       "      <td>50.0</td>\n",
       "      <td>1.441359e-10</td>\n",
       "      <td>1.393820e-03</td>\n",
       "      <td>8.379997e-26</td>\n",
       "      <td>8.103602e-19</td>\n",
       "      <td>1.668469e-19</td>\n",
       "      <td>1.936385e-24</td>\n",
       "    </tr>\n",
       "    <tr>\n",
       "      <th>dA0_Utopia</th>\n",
       "      <td>Ocean_Surface_Water</td>\n",
       "      <td>freeMP</td>\n",
       "      <td>500.0</td>\n",
       "      <td>1.287493e-15</td>\n",
       "      <td>1.245028e-11</td>\n",
       "      <td>7.485426e-31</td>\n",
       "      <td>7.238537e-27</td>\n",
       "      <td>1.490359e-24</td>\n",
       "      <td>1.729674e-32</td>\n",
       "    </tr>\n",
       "    <tr>\n",
       "      <th>eA0_Utopia</th>\n",
       "      <td>Ocean_Surface_Water</td>\n",
       "      <td>freeMP</td>\n",
       "      <td>5000.0</td>\n",
       "      <td>4.956934e-15</td>\n",
       "      <td>4.793441e-14</td>\n",
       "      <td>2.881938e-30</td>\n",
       "      <td>2.786884e-29</td>\n",
       "      <td>5.737980e-24</td>\n",
       "      <td>6.659360e-35</td>\n",
       "    </tr>\n",
       "    <tr>\n",
       "      <th>...</th>\n",
       "      <td>...</td>\n",
       "      <td>...</td>\n",
       "      <td>...</td>\n",
       "      <td>...</td>\n",
       "      <td>...</td>\n",
       "      <td>...</td>\n",
       "      <td>...</td>\n",
       "      <td>...</td>\n",
       "      <td>...</td>\n",
       "    </tr>\n",
       "    <tr>\n",
       "      <th>aD16_Utopia</th>\n",
       "      <td>Air</td>\n",
       "      <td>heterBiofMP</td>\n",
       "      <td>0.5</td>\n",
       "      <td>4.418442e+01</td>\n",
       "      <td>4.272711e+14</td>\n",
       "      <td>1.443935e-17</td>\n",
       "      <td>1.396311e-04</td>\n",
       "      <td>5.114640e-08</td>\n",
       "      <td>5.935927e-07</td>\n",
       "    </tr>\n",
       "    <tr>\n",
       "      <th>bD16_Utopia</th>\n",
       "      <td>Air</td>\n",
       "      <td>heterBiofMP</td>\n",
       "      <td>5.0</td>\n",
       "      <td>8.393130e-02</td>\n",
       "      <td>8.116302e+08</td>\n",
       "      <td>2.742853e-20</td>\n",
       "      <td>2.652386e-10</td>\n",
       "      <td>9.715604e-11</td>\n",
       "      <td>1.127569e-12</td>\n",
       "    </tr>\n",
       "    <tr>\n",
       "      <th>cD16_Utopia</th>\n",
       "      <td>Air</td>\n",
       "      <td>heterBiofMP</td>\n",
       "      <td>50.0</td>\n",
       "      <td>2.301414e-06</td>\n",
       "      <td>2.225507e+01</td>\n",
       "      <td>7.520960e-25</td>\n",
       "      <td>7.272899e-18</td>\n",
       "      <td>2.664039e-15</td>\n",
       "      <td>3.091819e-20</td>\n",
       "    </tr>\n",
       "    <tr>\n",
       "      <th>dD16_Utopia</th>\n",
       "      <td>Air</td>\n",
       "      <td>heterBiofMP</td>\n",
       "      <td>500.0</td>\n",
       "      <td>2.173275e-13</td>\n",
       "      <td>2.101594e-09</td>\n",
       "      <td>7.102205e-32</td>\n",
       "      <td>6.867955e-28</td>\n",
       "      <td>2.515709e-22</td>\n",
       "      <td>2.919671e-30</td>\n",
       "    </tr>\n",
       "    <tr>\n",
       "      <th>eD16_Utopia</th>\n",
       "      <td>Air</td>\n",
       "      <td>heterBiofMP</td>\n",
       "      <td>5000.0</td>\n",
       "      <td>2.782483e-15</td>\n",
       "      <td>2.690710e-14</td>\n",
       "      <td>9.093082e-34</td>\n",
       "      <td>8.793169e-33</td>\n",
       "      <td>3.220909e-24</td>\n",
       "      <td>3.738108e-35</td>\n",
       "    </tr>\n",
       "  </tbody>\n",
       "</table>\n",
       "<p>340 rows × 9 columns</p>\n",
       "</div>"
      ],
      "text/plain": [
       "                     Compartment      MP_Form  Size_Fraction_um        mass_g  \\\n",
       "species                                                                         \n",
       "aA0_Utopia   Ocean_Surface_Water       freeMP               0.5  2.500923e-06   \n",
       "bA0_Utopia   Ocean_Surface_Water       freeMP               5.0  4.014538e-07   \n",
       "cA0_Utopia   Ocean_Surface_Water       freeMP              50.0  1.441359e-10   \n",
       "dA0_Utopia   Ocean_Surface_Water       freeMP             500.0  1.287493e-15   \n",
       "eA0_Utopia   Ocean_Surface_Water       freeMP            5000.0  4.956934e-15   \n",
       "...                          ...          ...               ...           ...   \n",
       "aD16_Utopia                  Air  heterBiofMP               0.5  4.418442e+01   \n",
       "bD16_Utopia                  Air  heterBiofMP               5.0  8.393130e-02   \n",
       "cD16_Utopia                  Air  heterBiofMP              50.0  2.301414e-06   \n",
       "dD16_Utopia                  Air  heterBiofMP             500.0  2.173275e-13   \n",
       "eD16_Utopia                  Air  heterBiofMP            5000.0  2.782483e-15   \n",
       "\n",
       "             number_of_particles  concentration_g_m3  concentration_num_m3  \\\n",
       "species                                                                      \n",
       "aA0_Utopia          2.418436e+07        1.454025e-21          1.406067e-08   \n",
       "bA0_Utopia          3.882128e+03        2.334034e-22          2.257051e-12   \n",
       "cA0_Utopia          1.393820e-03        8.379997e-26          8.103602e-19   \n",
       "dA0_Utopia          1.245028e-11        7.485426e-31          7.238537e-27   \n",
       "eA0_Utopia          4.793441e-14        2.881938e-30          2.786884e-29   \n",
       "...                          ...                 ...                   ...   \n",
       "aD16_Utopia         4.272711e+14        1.443935e-17          1.396311e-04   \n",
       "bD16_Utopia         8.116302e+08        2.742853e-20          2.652386e-10   \n",
       "cD16_Utopia         2.225507e+01        7.520960e-25          7.272899e-18   \n",
       "dD16_Utopia         2.101594e-09        7.102205e-32          6.867955e-28   \n",
       "eD16_Utopia         2.690710e-14        9.093082e-34          8.793169e-33   \n",
       "\n",
       "             mass_fraction  number_fraction  \n",
       "species                                      \n",
       "aA0_Utopia    2.894984e-15     3.359848e-14  \n",
       "bA0_Utopia    4.647094e-16     5.393305e-18  \n",
       "cA0_Utopia    1.668469e-19     1.936385e-24  \n",
       "dA0_Utopia    1.490359e-24     1.729674e-32  \n",
       "eA0_Utopia    5.737980e-24     6.659360e-35  \n",
       "...                    ...              ...  \n",
       "aD16_Utopia   5.114640e-08     5.935927e-07  \n",
       "bD16_Utopia   9.715604e-11     1.127569e-12  \n",
       "cD16_Utopia   2.664039e-15     3.091819e-20  \n",
       "dD16_Utopia   2.515709e-22     2.919671e-30  \n",
       "eD16_Utopia   3.220909e-24     3.738108e-35  \n",
       "\n",
       "[340 rows x 9 columns]"
      ]
     },
     "execution_count": 141,
     "metadata": {},
     "output_type": "execute_result"
    }
   ],
   "source": [
    "Results_extended"
   ]
  },
  {
   "cell_type": "markdown",
   "metadata": {},
   "source": [
    "#### Mass and particle number distribution per compartment"
   ]
  },
  {
   "cell_type": "code",
   "execution_count": 142,
   "metadata": {},
   "outputs": [
    {
     "data": {
      "text/html": [
       "<div>\n",
       "<style scoped>\n",
       "    .dataframe tbody tr th:only-of-type {\n",
       "        vertical-align: middle;\n",
       "    }\n",
       "\n",
       "    .dataframe tbody tr th {\n",
       "        vertical-align: top;\n",
       "    }\n",
       "\n",
       "    .dataframe thead th {\n",
       "        text-align: right;\n",
       "    }\n",
       "</style>\n",
       "<table border=\"1\" class=\"dataframe\">\n",
       "  <thead>\n",
       "    <tr style=\"text-align: right;\">\n",
       "      <th></th>\n",
       "      <th>Compartments</th>\n",
       "      <th>%_mass</th>\n",
       "      <th>%_number</th>\n",
       "      <th>Concentration_g_m3</th>\n",
       "      <th>Concentration_num_m3</th>\n",
       "    </tr>\n",
       "  </thead>\n",
       "  <tbody>\n",
       "    <tr>\n",
       "      <th>0</th>\n",
       "      <td>Ocean_Surface_Water</td>\n",
       "      <td>1.521096e-04</td>\n",
       "      <td>1.598390e-03</td>\n",
       "      <td>7.639804e-13</td>\n",
       "      <td>6.689123e+00</td>\n",
       "    </tr>\n",
       "    <tr>\n",
       "      <th>1</th>\n",
       "      <td>Ocean_Mixed_Water</td>\n",
       "      <td>3.045616e-03</td>\n",
       "      <td>3.200140e-02</td>\n",
       "      <td>7.648405e-13</td>\n",
       "      <td>6.696154e+00</td>\n",
       "    </tr>\n",
       "    <tr>\n",
       "      <th>2</th>\n",
       "      <td>Ocean_Column_Water</td>\n",
       "      <td>1.057650e-01</td>\n",
       "      <td>1.120691e+00</td>\n",
       "      <td>8.870717e-13</td>\n",
       "      <td>7.831837e+00</td>\n",
       "    </tr>\n",
       "    <tr>\n",
       "      <th>3</th>\n",
       "      <td>Coast_Surface_Water</td>\n",
       "      <td>7.316732e-05</td>\n",
       "      <td>7.188151e-04</td>\n",
       "      <td>2.860086e-11</td>\n",
       "      <td>2.341207e+02</td>\n",
       "    </tr>\n",
       "    <tr>\n",
       "      <th>4</th>\n",
       "      <td>Coast_Column_Water</td>\n",
       "      <td>1.465646e-03</td>\n",
       "      <td>1.439302e-02</td>\n",
       "      <td>2.864579e-11</td>\n",
       "      <td>2.343930e+02</td>\n",
       "    </tr>\n",
       "    <tr>\n",
       "      <th>5</th>\n",
       "      <td>Surface_Freshwater</td>\n",
       "      <td>8.695620e-11</td>\n",
       "      <td>8.702405e-10</td>\n",
       "      <td>8.300535e-17</td>\n",
       "      <td>6.921586e-04</td>\n",
       "    </tr>\n",
       "    <tr>\n",
       "      <th>6</th>\n",
       "      <td>Bulk_Freshwater</td>\n",
       "      <td>8.700537e-10</td>\n",
       "      <td>8.707006e-09</td>\n",
       "      <td>8.305228e-17</td>\n",
       "      <td>6.925246e-04</td>\n",
       "    </tr>\n",
       "    <tr>\n",
       "      <th>7</th>\n",
       "      <td>Sediment_Freshwater</td>\n",
       "      <td>3.425212e-07</td>\n",
       "      <td>3.207905e-06</td>\n",
       "      <td>3.269588e-12</td>\n",
       "      <td>2.551455e+01</td>\n",
       "    </tr>\n",
       "    <tr>\n",
       "      <th>8</th>\n",
       "      <td>Sediment_Ocean</td>\n",
       "      <td>6.247046e-01</td>\n",
       "      <td>6.081893e+00</td>\n",
       "      <td>5.239521e-07</td>\n",
       "      <td>4.250270e+06</td>\n",
       "    </tr>\n",
       "    <tr>\n",
       "      <th>9</th>\n",
       "      <td>Sediment_Coast</td>\n",
       "      <td>9.925743e+01</td>\n",
       "      <td>9.267673e+01</td>\n",
       "      <td>9.710832e-04</td>\n",
       "      <td>7.554834e+08</td>\n",
       "    </tr>\n",
       "    <tr>\n",
       "      <th>10</th>\n",
       "      <td>Beaches_Soil_Surface</td>\n",
       "      <td>7.929493e-04</td>\n",
       "      <td>7.753704e-03</td>\n",
       "      <td>1.218886e-08</td>\n",
       "      <td>9.930882e+04</td>\n",
       "    </tr>\n",
       "    <tr>\n",
       "      <th>11</th>\n",
       "      <td>Beaches_Deep_Soil</td>\n",
       "      <td>6.543540e-03</td>\n",
       "      <td>6.390405e-02</td>\n",
       "      <td>1.005844e-08</td>\n",
       "      <td>8.184779e+04</td>\n",
       "    </tr>\n",
       "    <tr>\n",
       "      <th>12</th>\n",
       "      <td>Background_Soil_Surface</td>\n",
       "      <td>1.071599e-06</td>\n",
       "      <td>1.004524e-05</td>\n",
       "      <td>1.042494e-11</td>\n",
       "      <td>8.142586e+01</td>\n",
       "    </tr>\n",
       "    <tr>\n",
       "      <th>13</th>\n",
       "      <td>Background_Soil</td>\n",
       "      <td>8.925972e-06</td>\n",
       "      <td>8.361096e-05</td>\n",
       "      <td>8.683537e-12</td>\n",
       "      <td>6.777432e+01</td>\n",
       "    </tr>\n",
       "    <tr>\n",
       "      <th>14</th>\n",
       "      <td>Impacted_Soil_Surface</td>\n",
       "      <td>3.258426e-07</td>\n",
       "      <td>3.056051e-06</td>\n",
       "      <td>4.754888e-12</td>\n",
       "      <td>3.715813e+01</td>\n",
       "    </tr>\n",
       "    <tr>\n",
       "      <th>15</th>\n",
       "      <td>Impacted_Soil</td>\n",
       "      <td>1.360844e-07</td>\n",
       "      <td>1.275508e-06</td>\n",
       "      <td>3.971647e-12</td>\n",
       "      <td>3.101747e+01</td>\n",
       "    </tr>\n",
       "    <tr>\n",
       "      <th>16</th>\n",
       "      <td>Air</td>\n",
       "      <td>1.872711e-05</td>\n",
       "      <td>2.168517e-04</td>\n",
       "      <td>5.286929e-17</td>\n",
       "      <td>5.101012e-04</td>\n",
       "    </tr>\n",
       "  </tbody>\n",
       "</table>\n",
       "</div>"
      ],
      "text/plain": [
       "               Compartments        %_mass      %_number  Concentration_g_m3  \\\n",
       "0       Ocean_Surface_Water  1.521096e-04  1.598390e-03        7.639804e-13   \n",
       "1         Ocean_Mixed_Water  3.045616e-03  3.200140e-02        7.648405e-13   \n",
       "2        Ocean_Column_Water  1.057650e-01  1.120691e+00        8.870717e-13   \n",
       "3       Coast_Surface_Water  7.316732e-05  7.188151e-04        2.860086e-11   \n",
       "4        Coast_Column_Water  1.465646e-03  1.439302e-02        2.864579e-11   \n",
       "5        Surface_Freshwater  8.695620e-11  8.702405e-10        8.300535e-17   \n",
       "6           Bulk_Freshwater  8.700537e-10  8.707006e-09        8.305228e-17   \n",
       "7       Sediment_Freshwater  3.425212e-07  3.207905e-06        3.269588e-12   \n",
       "8            Sediment_Ocean  6.247046e-01  6.081893e+00        5.239521e-07   \n",
       "9            Sediment_Coast  9.925743e+01  9.267673e+01        9.710832e-04   \n",
       "10     Beaches_Soil_Surface  7.929493e-04  7.753704e-03        1.218886e-08   \n",
       "11        Beaches_Deep_Soil  6.543540e-03  6.390405e-02        1.005844e-08   \n",
       "12  Background_Soil_Surface  1.071599e-06  1.004524e-05        1.042494e-11   \n",
       "13          Background_Soil  8.925972e-06  8.361096e-05        8.683537e-12   \n",
       "14    Impacted_Soil_Surface  3.258426e-07  3.056051e-06        4.754888e-12   \n",
       "15            Impacted_Soil  1.360844e-07  1.275508e-06        3.971647e-12   \n",
       "16                      Air  1.872711e-05  2.168517e-04        5.286929e-17   \n",
       "\n",
       "    Concentration_num_m3  \n",
       "0           6.689123e+00  \n",
       "1           6.696154e+00  \n",
       "2           7.831837e+00  \n",
       "3           2.341207e+02  \n",
       "4           2.343930e+02  \n",
       "5           6.921586e-04  \n",
       "6           6.925246e-04  \n",
       "7           2.551455e+01  \n",
       "8           4.250270e+06  \n",
       "9           7.554834e+08  \n",
       "10          9.930882e+04  \n",
       "11          8.184779e+04  \n",
       "12          8.142586e+01  \n",
       "13          6.777432e+01  \n",
       "14          3.715813e+01  \n",
       "15          3.101747e+01  \n",
       "16          5.101012e-04  "
      ]
     },
     "execution_count": 142,
     "metadata": {},
     "output_type": "execute_result"
    }
   ],
   "source": [
    "mass_dist_comp"
   ]
  },
  {
   "cell_type": "markdown",
   "metadata": {},
   "source": [
    "#### Size fraction distribution"
   ]
  },
  {
   "cell_type": "code",
   "execution_count": 143,
   "metadata": {},
   "outputs": [
    {
     "data": {
      "text/html": [
       "<div>\n",
       "<style scoped>\n",
       "    .dataframe tbody tr th:only-of-type {\n",
       "        vertical-align: middle;\n",
       "    }\n",
       "\n",
       "    .dataframe tbody tr th {\n",
       "        vertical-align: top;\n",
       "    }\n",
       "\n",
       "    .dataframe thead th {\n",
       "        text-align: right;\n",
       "    }\n",
       "</style>\n",
       "<table border=\"1\" class=\"dataframe\">\n",
       "  <thead>\n",
       "    <tr style=\"text-align: right;\">\n",
       "      <th></th>\n",
       "      <th>% of total mass</th>\n",
       "    </tr>\n",
       "  </thead>\n",
       "  <tbody>\n",
       "    <tr>\n",
       "      <th>0.5</th>\n",
       "      <td>8.61</td>\n",
       "    </tr>\n",
       "    <tr>\n",
       "      <th>5.0</th>\n",
       "      <td>1.83</td>\n",
       "    </tr>\n",
       "    <tr>\n",
       "      <th>50.0</th>\n",
       "      <td>1.20</td>\n",
       "    </tr>\n",
       "    <tr>\n",
       "      <th>500.0</th>\n",
       "      <td>0.59</td>\n",
       "    </tr>\n",
       "    <tr>\n",
       "      <th>5000.0</th>\n",
       "      <td>87.76</td>\n",
       "    </tr>\n",
       "  </tbody>\n",
       "</table>\n",
       "</div>"
      ],
      "text/plain": [
       "        % of total mass\n",
       "0.5                8.61\n",
       "5.0                1.83\n",
       "50.0               1.20\n",
       "500.0              0.59\n",
       "5000.0            87.76"
      ]
     },
     "execution_count": 143,
     "metadata": {},
     "output_type": "execute_result"
    }
   ],
   "source": [
    "size_distr={}\n",
    "for size in [0.5, 5, 50, 500, 5000]:\n",
    "    size_distr[size]=round(sum(Results_extended[Results_extended[\"Size_Fraction_um\"] == size][\"mass_g\"])/sum(Results_extended[\"mass_g\"])*100,2)\n",
    "\n",
    "pd.DataFrame.from_dict(size_distr, orient=\"index\", columns=[\"% of total mass\"])"
   ]
  },
  {
   "cell_type": "code",
   "execution_count": 144,
   "metadata": {},
   "outputs": [
    {
     "data": {
      "text/html": [
       "<div>\n",
       "<style scoped>\n",
       "    .dataframe tbody tr th:only-of-type {\n",
       "        vertical-align: middle;\n",
       "    }\n",
       "\n",
       "    .dataframe tbody tr th {\n",
       "        vertical-align: top;\n",
       "    }\n",
       "\n",
       "    .dataframe thead th {\n",
       "        text-align: right;\n",
       "    }\n",
       "</style>\n",
       "<table border=\"1\" class=\"dataframe\">\n",
       "  <thead>\n",
       "    <tr style=\"text-align: right;\">\n",
       "      <th></th>\n",
       "      <th>% of total mass</th>\n",
       "    </tr>\n",
       "  </thead>\n",
       "  <tbody>\n",
       "    <tr>\n",
       "      <th>freeMP</th>\n",
       "      <td>0.00</td>\n",
       "    </tr>\n",
       "    <tr>\n",
       "      <th>heterMP</th>\n",
       "      <td>99.12</td>\n",
       "    </tr>\n",
       "    <tr>\n",
       "      <th>biofMP</th>\n",
       "      <td>0.00</td>\n",
       "    </tr>\n",
       "    <tr>\n",
       "      <th>heterBiofMP</th>\n",
       "      <td>0.88</td>\n",
       "    </tr>\n",
       "  </tbody>\n",
       "</table>\n",
       "</div>"
      ],
      "text/plain": [
       "             % of total mass\n",
       "freeMP                  0.00\n",
       "heterMP                99.12\n",
       "biofMP                  0.00\n",
       "heterBiofMP             0.88"
      ]
     },
     "execution_count": 144,
     "metadata": {},
     "output_type": "execute_result"
    }
   ],
   "source": [
    "form_distr={}\n",
    "for form in [\"freeMP\",\"heterMP\", \"biofMP\", \"heterBiofMP\"]:\n",
    "    form_distr[form]=round(sum(Results_extended[Results_extended[\"MP_Form\"] == form][\"mass_g\"])/sum(Results_extended[\"mass_g\"])*100,2)\n",
    "\n",
    "pd.DataFrame.from_dict(form_distr, orient=\"index\", columns=[\"% of total mass\"])"
   ]
  },
  {
   "cell_type": "markdown",
   "metadata": {},
   "source": [
    "### Mass and number distribution heatmaps"
   ]
  },
  {
   "cell_type": "code",
   "execution_count": 145,
   "metadata": {},
   "outputs": [
    {
     "data": {
      "image/png": "[encoded data removed]",
      "text/plain": [
       "<Figure size 864x576 with 2 Axes>"
      ]
     },
     "metadata": {
      "needs_background": "light"
     },
     "output_type": "display_data"
    },
    {
     "data": {
      "image/png": "[encoded data removed]",
      "text/plain": [
       "<Figure size 864x576 with 2 Axes>"
      ]
     },
     "metadata": {
      "needs_background": "light"
     },
     "output_type": "display_data"
    },
    {
     "data": {
      "text/plain": [
       "(<Figure size 864x576 with 2 Axes>,\n",
       " 'Heatmap of log10 (number_fraction by MP_Form, Compartment, and Size_Fraction_um')"
      ]
     },
     "execution_count": 145,
     "metadata": {},
     "output_type": "execute_result"
    }
   ],
   "source": [
    "plot_fractionDistribution_heatmap(Results_extended, fraction=\"mass_fraction\")\n",
    "plot_fractionDistribution_heatmap(Results_extended, fraction=\"number_fraction\")"
   ]
  },
  {
   "cell_type": "markdown",
   "metadata": {},
   "source": [
    "### Exposure indicators"
   ]
  },
  {
   "cell_type": "code",
   "execution_count": 146,
   "metadata": {},
   "outputs": [
    {
     "name": "stdout",
     "output_type": "stream",
     "text": [
      "Environmentally Dispersed Mass Fractions through Air = 4.800531179881525e-07\n",
      "Environmentally Dispersed Mass Fractions through Ocean_Mixed_Water = 2.0477227812157268e-07\n",
      "Environmentally Dispersed Mass Fractions through Ocean_Surface_Water = 6.142402613045502e-10\n",
      "φ1 for mass = 6.854396363710297e-07\n",
      "Environmentally Dispersed Particle Number Fractions through Air = 478969\n",
      "Environmentally Dispersed Particle Number Fractions through Ocean_Mixed_Water = 185392\n",
      "Environmentally Dispersed Particle Number Fractions through Ocean_Surface_Water = 556\n",
      "φ1 for particle number = 664917.9429728627\n",
      "Remotely transferred fraction to Ocean_Surface_Water = 1.436974170264483e-12\n",
      "Remotely transferred fraction to Ocean_Column_Water = 2.5595736426493925e-10\n",
      "Remotely transferred fraction to Sediment_Ocean = 1.2958725421534683e-07\n",
      "Remotely transferred fraction to Beaches_Soil_Surface = 8.988436775023842e-09\n",
      "Total remotely transferred mass fraction = 1.3883308532880586e-07\n"
     ]
    },
    {
     "data": {
      "image/png": "[encoded data removed]",
      "text/plain": [
       "<Figure size 432x288 with 1 Axes>"
      ]
     },
     "metadata": {
      "needs_background": "light"
     },
     "output_type": "display_data"
    },
    {
     "name": "stdout",
     "output_type": "stream",
     "text": [
      "Overall mass persistence (years): 197\n",
      "Overall particle number persistence (years): 194\n",
      "Overall residence time is calculated assuming the model boundaries to be at 100 m depth into the Ocean, 30 cm into the sediments and 0.1 m into the soil. Particles travelling deeper are considered losses\n",
      "Overall mass residence time (years): 27.2\n",
      "Overall particle number residence time (years): 26.0\n",
      "Overall residence time of size 0.5 um (years): 26.01\n",
      "Overall residence time of size 5.0 um (years): 26.2\n",
      "Overall residence time of size 50.0 um (years): 27.23\n",
      "Overall residence time of size 500.0 um (years): 26.96\n",
      "Overall residence time of size 5000.0 um (years): 24.04\n",
      "Characteristic mass travel distance (CDT):  2252.7  km\n",
      "Characteristic particle number travel distance (CDT):  4506.7  km\n"
     ]
    }
   ],
   "source": [
    "\n",
    "# For estimating exposure indicators we need to make emissions to targeted compartments.\n",
    "\n",
    "# Run model with emissions to specific compartments to estimate the emission fractions\n",
    "from functions.model_run_by_comp import *\n",
    "\n",
    "model_results = {}\n",
    "dispersing_comp_list = [\n",
    "    \"Air\",\n",
    "    \"Ocean_Mixed_Water\",\n",
    "    \"Ocean_Surface_Water\",\n",
    "]\n",
    "\n",
    "for dispersing_comp in dispersing_comp_list:\n",
    "    model_results[dispersing_comp] = run_model_comp(\n",
    "        dispersing_comp,\n",
    "        input_flow_g_s,\n",
    "        interactions_df,\n",
    "        MP_form,\n",
    "        size_bin,\n",
    "        particle_forms_coding,\n",
    "        particle_compartmentCoding,\n",
    "        system_particle_object_list,\n",
    "        comp_dict_inverse,\n",
    "        dict_comp,\n",
    "        size_dict,\n",
    "        MP_form_dict_reverse,\n",
    "        surfComp_list,\n",
    "    )\n",
    "\n",
    "\n",
    "#### EXPOSURE INDICATORS ####\n",
    "from functions.emission_fractions_calculation import *\n",
    "\n",
    "\n",
    "# Estimate emission fractions for the setted emission scenario\n",
    "\n",
    "emission_fractions_mass_data = emission_fractions_calculations(\n",
    "    Results_extended,\n",
    "    model_results,\n",
    "    dispersing_comp_list,\n",
    "    dict_comp,\n",
    "    input_flow_g_s,\n",
    "    q_num_s,\n",
    "    size_dict,\n",
    "    emiss_comp,\n",
    ")\n",
    "\n",
    "\n",
    "plot_emission_fractions(emission_fractions_mass_data, emiss_comp)\n",
    "\n",
    "\n",
    "# Overall persistance (Pov) and Overall residence time (Tov) in years:\n",
    "print_output=\"True\"\n",
    "\n",
    "(\n",
    "    Pov_mass_years,\n",
    "    Pov_num_years,\n",
    "    Pov_size_dict_sec,\n",
    "    Tov_mass_years,\n",
    "    Tov_num_years,\n",
    "    Tov_size_dict_sec,\n",
    ") = Exposure_indicators_calculation(\n",
    "    tables_outputFlows,\n",
    "    tables_outputFlows_number,\n",
    "    Results_extended,\n",
    "    size_dict,\n",
    "    dict_comp,\n",
    "    system_particle_object_list,\n",
    "    print_output\n",
    ")\n",
    "\n",
    "# Caracteristic travel distance (CDT) (m):\n",
    "\n",
    "# To calculate CTD we need to estimate it by emitting into the especific mobile compartment. We will calculate CTD derived from emmiting to each compartment and taking the higest value:\n",
    "CTD_mass_list = []\n",
    "CTD_number_list = []\n",
    "\n",
    "\n",
    "for CDT_comp in [\n",
    "    \"Ocean_Surface_Water\",\n",
    "    \"Ocean_Mixed_Water\",\n",
    "    \"Coast_Surface_Water\",\n",
    "    \"Coast_Column_Water\",\n",
    "    \"Surface_Freshwater\",\n",
    "    \"Bulk_Freshwater\",\n",
    "    \"Air\",\n",
    "]:\n",
    "    # input flow (in g per second) for each compartment the User should specify here the input flows per compartment\n",
    "    q_mass_g_s_dict_CTD = {\n",
    "        \"Ocean_Surface_Water\": 0,\n",
    "        \"Ocean_Mixed_Water\": 0,\n",
    "        \"Ocean_Column_Water\": 0,\n",
    "        \"Coast_Surface_Water\": 0,\n",
    "        \"Coast_Column_Water\": 0,\n",
    "        \"Surface_Freshwater\": 0,\n",
    "        \"Bulk_Freshwater\": 0,\n",
    "        \"Sediment_Freshwater\": 0,\n",
    "        \"Sediment_Ocean\": 0,\n",
    "        \"Sediment_Coast\": 0,\n",
    "        \"Beaches_Soil_Surface\": 0,\n",
    "        \"Beaches_Deep_Soil\": 0,\n",
    "        \"Background_Soil_Surface\": 0,\n",
    "        \"Background_Soil\": 0,\n",
    "        \"Impacted_Soil_Surface\": 0,\n",
    "        \"Impacted_Soil\": 0,\n",
    "        \"Air\": 0,\n",
    "    }\n",
    "    q_mass_g_s_dict_CTD[CDT_comp] = input_flow_g_s\n",
    "\n",
    "    sp_imputs_CTD = []\n",
    "    q_mass_g_s_CTD = []\n",
    "    for compartment in q_mass_g_s_dict_CTD.keys():\n",
    "        sp_imputs_CTD.append(\n",
    "            size_bin\n",
    "            + particle_forms_coding[MP_form]\n",
    "            + str(particle_compartmentCoding[compartment])\n",
    "            + \"_\"\n",
    "            + boxName\n",
    "        )\n",
    "        q_mass_g_s_CTD.append(q_mass_g_s_dict_CTD[compartment])\n",
    "\n",
    "    imput_flows_g_s_CTD = dict(zip(sp_imputs_CTD, q_mass_g_s_CTD))\n",
    "\n",
    "    CTD_km = model_run_CTD(\n",
    "        system_particle_object_list,\n",
    "        CDT_comp,\n",
    "        imput_flows_g_s_CTD,\n",
    "        interactions_df,\n",
    "        q_mass_g_s_CTD,\n",
    "        size_dict,\n",
    "        MP_form_dict_reverse,\n",
    "        comp_dict_inverse,\n",
    "        dict_comp,\n",
    "    )\n",
    "\n",
    "    CTD_mass_list.append(CTD_km[0])\n",
    "    CTD_number_list.append(CTD_km[1])\n",
    "\n",
    "CTD_df = pd.DataFrame(\n",
    "    index=[\n",
    "        \"Ocean_Surface_Water\",\n",
    "        \"Ocean_Mixed_Water\",\n",
    "        \"Coast_Surface_Water\",\n",
    "        \"Coast_Column_Water\",\n",
    "        \"Surface_Freshwater\",\n",
    "        \"Bulk_Freshwater\",\n",
    "        \"Air\",\n",
    "    ]\n",
    ")\n",
    "\n",
    "CTD_df[\"CTD_mass_km\"] = CTD_mass_list\n",
    "CTD_df[\"CTD_particle_number_km\"] = CTD_number_list\n",
    "\n",
    "print(\n",
    "    \"Characteristic mass travel distance (CDT): \",\n",
    "    round(CTD_df[\"CTD_mass_km\"].max(), 1),\n",
    "    \" km\",\n",
    ")\n",
    "\n",
    "print(\n",
    "    \"Characteristic particle number travel distance (CDT): \",\n",
    "    round(CTD_df[\"CTD_particle_number_km\"].max(), 1),\n",
    "    \" km\",\n",
    ")\n"
   ]
  },
  {
   "cell_type": "markdown",
   "metadata": {},
   "source": [
    "### Extract input and output flows per compartment\n",
    " So far only implemented for mass flows (g/s)-- HAS TO BE FIXED!!!"
   ]
  },
  {
   "cell_type": "code",
   "execution_count": 147,
   "metadata": {},
   "outputs": [
    {
     "name": "stdout",
     "output_type": "stream",
     "text": [
      "Ocean_Surface_Water\n",
      "                 Inflows      Rate_g_s        %\n",
      "0               k_rising  0.000000e+00   0.0000\n",
      "1               k_mixing  3.630851e+00  99.9826\n",
      "2  k_advective_transport  6.320789e-04   0.0174\n",
      "3       k_dry_deposition  1.063532e-07   0.0000\n",
      "4       k_wet_deposition  0.000000e+00   0.0000\n",
      "                     Outflows      Rate_g_s        %\n",
      "0            k_discorporation  3.787219e-07   0.0000\n",
      "1         k_heteroaggregation  2.799243e-11   0.0000\n",
      "2  k_heteroaggregate_breackup  1.406286e-12   0.0000\n",
      "3                k_biofouling  3.098731e-04   0.0085\n",
      "4       k_advective_transport  1.688397e-05   0.0005\n",
      "5                  k_settling  4.697897e-03   0.1294\n",
      "6                    k_mixing  3.626768e+00  99.8616\n",
      "7         k_sea_spray_aerosol  7.300257e-11   0.0000\n",
      "Ocean_Mixed_Water\n",
      "                 Inflows  Rate_g_s        %\n",
      "0             k_settling  0.004698   0.1292\n",
      "1               k_mixing  3.626778  99.7550\n",
      "2               k_rising  0.000000   0.0000\n",
      "3  k_advective_transport  0.004211   0.1158\n",
      "                     Outflows      Rate_g_s        %\n",
      "0            k_discorporation  7.583303e-06   0.1100\n",
      "1         k_heteroaggregation  2.036021e-10   0.0000\n",
      "2  k_heteroaggregate_breackup  1.921573e-10   0.0000\n",
      "3                k_biofouling  2.067334e-03  29.9851\n",
      "4       k_advective_transport  1.124316e-04   1.6307\n",
      "5                  k_settling  4.707171e-03  68.2740\n",
      "6                    k_mixing  6.902488e-09   0.0001\n",
      "Ocean_Column_Water\n",
      "                   Inflows  Rate_g_s        %\n",
      "0               k_settling  0.004707  98.6938\n",
      "1                 k_mixing  0.000008   0.1747\n",
      "2  k_sediment_resuspension  0.000054   1.1315\n",
      "                     Outflows      Rate_g_s        %\n",
      "0            k_discorporation  2.908544e-04   5.4528\n",
      "1         k_heteroaggregation  7.800677e-09   0.0001\n",
      "2  k_heteroaggregate_breackup  7.791762e-09   0.0001\n",
      "3                k_biofouling  5.645983e-04  10.5847\n",
      "4                  k_settling  4.468952e-03  83.7810\n",
      "5                    k_mixing  9.664185e-06   0.1812\n",
      "Coast_Surface_Water\n",
      "                 Inflows      Rate_g_s        %\n",
      "0  k_advective_transport  1.688398e-05   0.0005\n",
      "1               k_rising  0.000000e+00   0.0000\n",
      "2               k_mixing  3.490604e+00  99.9994\n",
      "3     k_runoff_transport  4.376479e-06   0.0001\n",
      "4       k_dry_deposition  2.729939e-09   0.0000\n",
      "5       k_wet_deposition  0.000000e+00   0.0000\n",
      "                     Outflows      Rate_g_s        %\n",
      "0            k_discorporation  1.393129e-07   0.0000\n",
      "1         k_heteroaggregation  9.999318e-01  18.2103\n",
      "2  k_heteroaggregate_breackup  1.243164e-05   0.0002\n",
      "3                k_biofouling  4.582161e-04   0.0083\n",
      "4       k_advective_transport  6.320789e-04   0.0115\n",
      "5                  k_settling  1.004844e+00  18.2997\n",
      "6                    k_mixing  3.485129e+00  63.4695\n",
      "7         k_sea_spray_aerosol  7.019477e-11   0.0000\n",
      "8                  k_beaching  2.106930e-05   0.0004\n",
      "Coast_Column_Water\n",
      "                   Inflows  Rate_g_s        %\n",
      "0    k_advective_transport  0.000112   0.0025\n",
      "1               k_settling  1.004844  21.9598\n",
      "2                 k_mixing  3.485129  76.1638\n",
      "3  k_sediment_resuspension  0.085747   1.8739\n",
      "                     Outflows  Rate_g_s        %\n",
      "0            k_discorporation  0.000003   0.0001\n",
      "1         k_heteroaggregation  0.000348   0.0076\n",
      "2  k_heteroaggregate_breackup  0.000267   0.0058\n",
      "3                k_biofouling  0.003060   0.0668\n",
      "4       k_advective_transport  0.004211   0.0920\n",
      "5                  k_settling  1.081013  23.6055\n",
      "6                    k_mixing  3.490604  76.2223\n",
      "Surface_Freshwater\n",
      "              Inflows      Rate_g_s        %\n",
      "0            k_rising  0.000000e+00   0.0000\n",
      "1            k_mixing  5.035875e-06  99.8255\n",
      "2  k_runoff_transport  6.004334e-09   0.1190\n",
      "3    k_dry_deposition  2.797955e-09   0.0555\n",
      "4    k_wet_deposition  0.000000e+00   0.0000\n",
      "                     Outflows      Rate_g_s        %\n",
      "0            k_discorporation  1.638221e-13   0.0000\n",
      "1         k_heteroaggregation  6.340690e-17   0.0000\n",
      "2  k_heteroaggregate_breackup  5.562729e-17   0.0000\n",
      "3                k_biofouling  5.571585e-10   0.0110\n",
      "4       k_advective_transport  9.794631e-12   0.0002\n",
      "5                  k_settling  1.163837e-08   0.2307\n",
      "6                    k_mixing  5.033029e-06  99.7581\n",
      "Bulk_Freshwater\n",
      "                   Inflows      Rate_g_s        %\n",
      "0               k_settling  1.163837e-08   0.2306\n",
      "1                 k_mixing  5.033029e-06  99.7108\n",
      "2  k_sediment_resuspension  2.958977e-09   0.0586\n",
      "                     Outflows      Rate_g_s        %\n",
      "0            k_discorporation  1.639677e-12   0.0000\n",
      "1         k_heteroaggregation  7.384019e-16   0.0000\n",
      "2  k_heteroaggregate_breackup  7.096969e-16   0.0000\n",
      "3                k_biofouling  1.856971e-09   0.0368\n",
      "4       k_advective_transport  9.800170e-11   0.0019\n",
      "5                  k_settling  1.165167e-08   0.2307\n",
      "6                    k_mixing  5.035875e-06  99.7305\n",
      "Sediment_Freshwater\n",
      "      Inflows      Rate_g_s      %\n",
      "0  k_settling  1.165167e-08  100.0\n",
      "                  Outflows      Rate_g_s        %\n",
      "0         k_discorporation  7.034527e-10   6.0374\n",
      "1  k_sediment_resuspension  2.958977e-09  25.3953\n",
      "2                 k_burial  7.989237e-09  68.5673\n",
      "Sediment_Ocean\n",
      "      Inflows  Rate_g_s      %\n",
      "0  k_settling  0.004469  100.0\n",
      "                  Outflows  Rate_g_s        %\n",
      "0         k_discorporation  0.001717  38.4124\n",
      "1  k_sediment_resuspension  0.000054   1.2076\n",
      "2                 k_burial  0.002698  60.3800\n",
      "Sediment_Coast\n",
      "      Inflows  Rate_g_s      %\n",
      "0  k_settling  1.081013  100.0\n",
      "                  Outflows  Rate_g_s        %\n",
      "0         k_discorporation  0.137800  12.7473\n",
      "1  k_sediment_resuspension  0.085747   7.9321\n",
      "2                 k_burial  0.857466  79.3206\n",
      "Beaches_Soil_Surface\n",
      "             Inflows      Rate_g_s        %\n",
      "0         k_beaching  2.106930e-05  22.8084\n",
      "1  k_soil_convection  7.128862e-05  77.1728\n",
      "2   k_dry_deposition  1.737515e-08   0.0188\n",
      "3   k_wet_deposition  0.000000e+00   0.0000\n",
      "                  Outflows      Rate_g_s        %\n",
      "0         k_discorporation  1.420636e-06   1.6144\n",
      "1       k_runoff_transport  4.756275e-14   0.0000\n",
      "2  k_soil_air_resuspension  1.902817e-07   0.2162\n",
      "3        k_soil_convection  8.638790e-05  98.1694\n",
      "Beaches_Deep_Soil\n",
      "             Inflows  Rate_g_s      %\n",
      "0      k_percolation  0.000000    0.0\n",
      "1  k_soil_convection  0.000086  100.0\n",
      "                     Outflows  Rate_g_s        %\n",
      "0            k_discorporation  0.000012  13.3524\n",
      "1  k_sequestration_deep_soils  0.000004   4.1261\n",
      "2           k_soil_convection  0.000071  82.5215\n",
      "Background_Soil_Surface\n",
      "             Inflows      Rate_g_s        %\n",
      "0  k_soil_convection  9.724404e-08  77.9836\n",
      "1   k_dry_deposition  2.745397e-08  22.0164\n",
      "2   k_wet_deposition  0.000000e+00   0.0000\n",
      "                  Outflows      Rate_g_s        %\n",
      "0         k_discorporation  1.781047e-09   1.4994\n",
      "1       k_runoff_transport  9.688447e-18   0.0000\n",
      "2  k_soil_air_resuspension  2.571484e-10   0.2165\n",
      "3        k_soil_convection  1.167454e-07  98.2841\n",
      "Background_Soil\n",
      "             Inflows      Rate_g_s      %\n",
      "0      k_percolation  0.000000e+00    0.0\n",
      "1  k_soil_convection  1.167454e-07  100.0\n",
      "                     Outflows      Rate_g_s        %\n",
      "0            k_discorporation  1.463916e-08  12.5394\n",
      "1  k_sequestration_deep_soils  4.862202e-09   4.1648\n",
      "2           k_soil_convection  9.724404e-08  83.2958\n",
      "Impacted_Soil_Surface\n",
      "             Inflows      Rate_g_s       %\n",
      "0  k_soil_convection  1.482572e-09  61.833\n",
      "1   k_dry_deposition  9.151323e-10  38.167\n",
      "2   k_wet_deposition  0.000000e+00   0.000\n",
      "                  Outflows      Rate_g_s        %\n",
      "0         k_discorporation  5.289271e-10  22.9193\n",
      "1       k_runoff_transport  8.326605e-20   0.0000\n",
      "2  k_soil_air_resuspension  3.909575e-12   0.1694\n",
      "3        k_soil_convection  1.774947e-09  76.9113\n",
      "Impacted_Soil\n",
      "             Inflows      Rate_g_s      %\n",
      "0      k_percolation  0.000000e+00    0.0\n",
      "1  k_soil_convection  1.774947e-09  100.0\n",
      "                     Outflows      Rate_g_s        %\n",
      "0            k_discorporation  2.182468e-10  12.2960\n",
      "1  k_sequestration_deep_soils  7.412858e-11   4.1764\n",
      "2           k_soil_convection  1.482572e-09  83.5277\n",
      "Air\n",
      "                   Inflows      Rate_g_s        %\n",
      "0      k_sea_spray_aerosol  1.431973e-10   0.0751\n",
      "1  k_soil_air_resuspension  1.905428e-07  99.9249\n",
      "           Outflows      Rate_g_s      %\n",
      "0  k_discorporation  3.306061e-08  100.0\n",
      "1  k_dry_deposition  6.829948e-16    0.0\n"
     ]
    }
   ],
   "source": [
    "for comp in dict_comp.keys():\n",
    "    pd_inputFlows, pd_outflows=extract_inflows_outflows_comp(flows_dict_mass, comp)\n",
    "    print(comp)\n",
    "    print(pd_inputFlows)\n",
    "    print(pd_outflows)"
   ]
  },
  {
   "cell_type": "markdown",
   "metadata": {},
   "source": [
    "### Uncertainty and sensitivity analysis"
   ]
  },
  {
   "cell_type": "code",
   "execution_count": 148,
   "metadata": {},
   "outputs": [],
   "source": [
    "import monaco as mc\n",
    "\n",
    "# Import the statistical distributions from scipy.stats that you will be using.\n",
    "# These must be rv_discrete or rv_continuous functions.\n",
    "# See https://docs.scipy.org/doc/scipy/reference/stats.html for a complete list.\n",
    "from scipy.stats import randint, rv_discrete, lognorm, uniform"
   ]
  },
  {
   "cell_type": "markdown",
   "metadata": {},
   "source": [
    "add other inputs to add uncertainty to the fragmentation rates (i.e. heteroagg_frac_factor=100, biofouled_frag_factor=1/2)\n",
    "include the explosiveness_index to the montecarlo simulation EI)\n",
    "Degradation factors:\n",
    "t_half_deg_free\n",
    "heter_deg_rate\n",
    "biof_deg_rate\n"
   ]
  },
  {
   "cell_type": "code",
   "execution_count": 150,
   "metadata": {},
   "outputs": [],
   "source": [
    "# The preprocessing function should only take in an Case object, and extract the\n",
    "# values from inside it in order to build the inputs for the run function.\n",
    "def template_preprocess(case):\n",
    "    \n",
    "    # Variables that will be passed to the run function and will be sampled\n",
    "    MPdensity = case.invals['MPdensity'].val\n",
    "    t_frag_gen_FreeSurfaceWater = case.invals['t_frag_gen_FreeSurfaceWater'].val\n",
    "    FI=case.invals['FI'].val\n",
    "    t_half_deg_free=case.invals['t_half_deg_free'].val\n",
    "    heter_deg_rate=case.invals['heter_deg_rate'].val\n",
    "    biof_deg_rate=case.invals['biof_deg_rate'].val\n",
    "    \n",
    "    \n",
    "    # Other fixed variables\n",
    "    MP_inputs=case.constvals[\"MP_inputs\"]\n",
    "    \n",
    "\n",
    "    return (\n",
    "        MPdensity,t_frag_gen_FreeSurfaceWater,FI,MP_inputs,emission_inputs,t_half_deg_free,heter_deg_rate,biof_deg_rate\n",
    "    )\n"
   ]
  },
  {
   "cell_type": "code",
   "execution_count": 151,
   "metadata": {},
   "outputs": [],
   "source": [
    "# The run function input arguments need to match up with the outputs in the unpacked\n",
    "# tuple from your preprocessing function\n",
    "def UTOPIA_model_run(MPdensity,t_frag_gen_FreeSurfaceWater,FI,MP_inputs,emission_inputs,t_half_deg_free,heter_deg_rate,biof_deg_rate):\n",
    "    # write microplastics inputs file\n",
    "    mp_imputFile_name = write_MPinputs_table(\n",
    "    MPdensity,\n",
    "    big_bin_diameter_um=MP_inputs[\"big_bin_diameter_um\"],\n",
    "    MP_composition=MP_inputs[\"MP_composition\"],\n",
    "    shape=MP_inputs[\"shape\"],\n",
    "    N_sizeBins=MP_inputs[\"N_sizeBins\"],\n",
    "    runName=MP_inputs[\"runName\"],\n",
    "    inputs_path=MP_inputs[\"inputs_path\"]) \n",
    "    \n",
    "    # generate model objects\n",
    "    (system_particle_object_list,\n",
    "    SpeciesList,\n",
    "    spm,\n",
    "    dict_comp,\n",
    "    model_lists,\n",
    "    particles_df) = generate_objects(\n",
    "    inputs_path,\n",
    "    boxName=boxName,\n",
    "    MPforms_list=MPforms_list,\n",
    "    comp_impFile_name=comp_impFile_name,\n",
    "    comp_interactFile_name=comp_interactFile_name,\n",
    "    mp_imputFile_name=mp_imputFile_name,\n",
    "    spm_radius_um=spm_radius_um,\n",
    "    spm_density_kg_m3=spm_density_kg_m3,\n",
    ")\n",
    "    \n",
    "    # Estimate rate constants per particle\n",
    "    \n",
    "    # define degradation rates\n",
    "    t_half_deg_heter=t_half_deg_free*heter_deg_rate\n",
    "    t_half_deg_biof=t_half_deg_free*biof_deg_rate\n",
    "    t_half_deg_biofHeter=t_half_deg_free*biof_deg_rate*heter_deg_rate\n",
    "    \n",
    "    \n",
    "    thalf_deg_d_dict = {\n",
    "     \"freeMP\": t_half_deg_free,\n",
    "     \"heterMP\": t_half_deg_heter,\n",
    "     \"biofMP\": t_half_deg_biof,\n",
    "     \"heterBiofMP\": t_half_deg_biofHeter} \n",
    "    \n",
    "    \n",
    "    process_inputs_df = create_inputsTable_UTOPIA(\n",
    "    inputs_path,\n",
    "    model_lists,\n",
    "    thalf_deg_d_dict,\n",
    "    alpha_hetr_dict,\n",
    "    t_frag_gen_FreeSurfaceWater,save_op=\"notSave\"\n",
    ")\n",
    "\n",
    "    # Generate fsd based on explosivity index (EI)\n",
    "    fsd=generate_fsd_matrix(FI)\n",
    "    \n",
    "    for particle in system_particle_object_list:\n",
    "        generate_rateConstants(particle, spm, dict_comp, fsd,process_inputs_df)\n",
    "\n",
    "\n",
    "    # Build Matrix of interactions\n",
    "\n",
    "    interactions_df = fillInteractions_fun_OOP(\n",
    "        system_particle_object_list, SpeciesList, surfComp_list\n",
    "    )\n",
    "\n",
    "    # SOLVE SYSTEM OF ODES\n",
    "    \n",
    "    imput_flows_g_s =emission_inputs[\"imput_flows_g_s\"]\n",
    "\n",
    "\n",
    "    R, PartMass_t0 = solve_ODES_SS(\n",
    "        system_particle_object_list=system_particle_object_list,\n",
    "        q_num_s=0,\n",
    "        imput_flows_g_s=imput_flows_g_s,\n",
    "        interactions_df=interactions_df,\n",
    "    )\n",
    "\n",
    "    # Reformat results (R) dataframe\n",
    "    R[\"Size_Fraction_um\"] = [size_dict[x[0]] for x in R.index]\n",
    "    R[\"MP_Form\"] = [MP_form_dict_reverse[x[1]] for x in R.index]\n",
    "    R[\"Compartment\"] = [comp_dict_inverse[float(x[2:-7])] for x in R.index]\n",
    "\n",
    "    Results = R[\n",
    "        [\n",
    "            \"Compartment\",\n",
    "            \"MP_Form\",\n",
    "            \"Size_Fraction_um\",\n",
    "            \"mass_g\",\n",
    "            \"number_of_particles\",\n",
    "            \"concentration_g_m3\",\n",
    "            \"concentration_num_m3\",\n",
    "        ]\n",
    "    ]\n",
    "\n",
    "    Results_extended, mf_shorted, nf_shorted = estimate_fractions(Results)\n",
    "\n",
    "    # Estimate mass flows due to the different particle fate process (transfer between compartments, elimination and transformation processes)\n",
    "\n",
    "    # Estimate outflows in mass (g/s) amd number/second\n",
    "    (tables_outputFlows, tables_outputFlows_number) = estimate_outFlows(\n",
    "        system_particle_object_list, dict_comp\n",
    "    )\n",
    "\n",
    "\n",
    "    # Estimate imput flows from transport from other compartments\n",
    "    (tables_inputFlows, tables_inputFlows_num) = estimate_inFlows(\n",
    "        tables_outputFlows, tables_outputFlows_number, dict_comp, surfComp_list\n",
    "    )\n",
    "\n",
    "    #  Calculate Exposure Indicators\n",
    "    \n",
    "    # Overall persistance (Pov) and Overall residence time (Tov) in years:\n",
    "    print_output=False\n",
    "    (\n",
    "        Pov_mass_years,\n",
    "        Pov_num_years,\n",
    "        Pov_size_dict_sec,\n",
    "        Tov_mass_years,\n",
    "        Tov_num_years,\n",
    "        Tov_size_dict_sec,\n",
    "    ) = Exposure_indicators_calculation(\n",
    "        tables_outputFlows,\n",
    "        tables_outputFlows_number,\n",
    "        Results_extended,\n",
    "        size_dict,\n",
    "        dict_comp,\n",
    "        system_particle_object_list,print_output\n",
    "    )\n",
    "    # simulation_output=pd.DataFrame({'Pov_mass_years': [Pov_mass_years],\n",
    "    #                      \"Pov_num_years\": [Pov_num_years],\n",
    "    #                      \"Tov_mass_years\": [Tov_mass_years],\n",
    "    #                      \"Tov_num_years\": [Tov_num_years],\n",
    "    #                      })\n",
    "\n",
    "    return Pov_mass_years,Pov_num_years,Tov_mass_years,Tov_num_years\n"
   ]
  },
  {
   "cell_type": "code",
   "execution_count": 152,
   "metadata": {},
   "outputs": [],
   "source": [
    "# For your postprocessing function, the first argument must be the case, and\n",
    "# all input arguments after case need to match up with the outputs in the unpacked\n",
    "# tuple from your run function.\n",
    "def template_postprocess(case, Pov_mass_years,Pov_num_years,Tov_mass_years,Tov_num_years):\n",
    "\n",
    "    # Simulation outputs may be huge, and this is where postprocessing can be\n",
    "    # done to extract the information you want. For example, you may only want\n",
    "    # to know the last point in a timeseries.\n",
    "\n",
    "    # It is good practice to provide a dictionary to map any non-number values\n",
    "    # to numbers via a known valmap. If needed this will be auto-generated, but\n",
    "    # manually assigning numbers will give greater control over plotting.\n",
    "    #valmap = {'heads': 0, 'tails': 1}\n",
    "\n",
    "    # Add output values from this case's simulation results, case information,\n",
    "    # or from other data processing that you do in this file.\n",
    "    # The name supplied here will become the outvar's name.\n",
    "    case.addOutVal(name='Overall_Persistance_mass_years', val=Pov_mass_years)\n",
    "    case.addOutVal(name='Overall_Persistance_num_years', val=Pov_num_years)\n",
    "    case.addOutVal(name=\"Overall_Residence_time_mass_years\", val=Tov_mass_years)\n",
    "    case.addOutVal(name=\"Overall_Residence_time_num_years\", val=Tov_num_years)\n",
    "    "
   ]
  },
  {
   "cell_type": "code",
   "execution_count": 153,
   "metadata": {},
   "outputs": [],
   "source": [
    "# These get packaged in the following format for Sim to consume:\n",
    "fcns = {'preprocess' : template_preprocess,\n",
    "        'run'        : UTOPIA_model_run,\n",
    "        'postprocess': template_postprocess}\n",
    "\n",
    "# Set the number of random draws you wish to make.\n",
    "# If firstcaseismedian is True, then case 0 will be run with the expected value of\n",
    "# each statistical distribution as a 'nominal' run. The total number of cases\n",
    "# will then be ndraws+1\n",
    "ndraws = 100\n",
    "firstcaseismedian = False\n",
    "\n",
    "# Setting a known random seed is recommended for repeatability of random draws.\n",
    "seed = 12362398\n",
    "\n",
    "# Whether to run the simulation in a single thread. If True then the simulation\n",
    "# will run single-threaded in a 'for' loop, and if False then the dask parallel \n",
    "# processing module will be used for running concurrent threads. The overhead of \n",
    "# dask may make it slower than single-threaded execution for runs that execute \n",
    "# quickly.\n",
    "singlethreaded = True\n",
    "\n",
    "# If you want, you can save all the results from each case to file, or just the\n",
    "# postprocessed simulation results. This can be incredibly useful for examining\n",
    "# time-consuming sim data after the fact without having to rerun the whole thing.\n",
    "# On the other hand, if your run function generates a lot of data, you may not have\n",
    "# enough storage space to save all of the raw case data. Plus, the file I/O may\n",
    "# be the limiting factor that slows down your simulation. Try setting these flags\n",
    "# to False and seeing how much faster the sim runs.\n",
    "savecasedata = False\n",
    "savesimdata = False"
   ]
  },
  {
   "cell_type": "code",
   "execution_count": 154,
   "metadata": {},
   "outputs": [],
   "source": [
    "def calc_mu(mean_val,std_dev):\n",
    "    return np.log(mean_val) - (std_dev**2) / 2"
   ]
  },
  {
   "cell_type": "code",
   "execution_count": 155,
   "metadata": {},
   "outputs": [
    {
     "name": "stdout",
     "output_type": "stream",
     "text": [
      "Running 'UTOPIA_run' Monte Carlo simulation with 100/100 cases...\n",
      "Drawing random samples for 6 input variables via the 'sobol_random' method... Done\n",
      "Generating cases... Done\n"
     ]
    },
    {
     "name": "stderr",
     "output_type": "stream",
     "text": [
      "Preprocessing cases: 100%|██████████| 100/100 [00:00<00:00, 50081.24 cases/s] \n",
      "Running cases: 100%|██████████| 100/100 [02:11<00:00,  1.32s/ cases]\n",
      "Postprocessing cases: 100%|██████████| 100/100 [00:00<00:00, 12431.99 cases/s]"
     ]
    },
    {
     "name": "stdout",
     "output_type": "stream",
     "text": [
      "Simulation complete! Runtime: 0:02:11.757418\n"
     ]
    },
    {
     "name": "stderr",
     "output_type": "stream",
     "text": [
      "\n"
     ]
    }
   ],
   "source": [
    "\n",
    "def UTOPIA_montecarlo_sim():\n",
    "    # We first initialize the sim with a name of our choosing\n",
    "    sim = mc.Sim(name='UTOPIA_run', ndraws=ndraws, fcns=fcns,\n",
    "                firstcaseismedian=firstcaseismedian, seed=seed,\n",
    "                singlethreaded=singlethreaded,\n",
    "                savecasedata=savecasedata, savesimdata=savesimdata,\n",
    "                verbose=True, debug=False)\n",
    "    # Assuming a standard deviation (sigma) for the underlying normal distribution\n",
    "    sigma = 0.05\n",
    "    sigma2=0.05\n",
    "    sigma_deg=0.05\n",
    "\n",
    "    # Calculate mu\n",
    "    mu = np.log(MPdensity_kg_m3) - (sigma**2) / 2\n",
    "    mu2=np.log(t_frag_gen_FreeSurfaceWater) - (sigma2**2) / 2\n",
    "    \n",
    "\n",
    "    sim.addInVar(name='MPdensity', dist=lognorm, distkwargs={'s': sigma,'scale': np.exp(mu) })\n",
    "    #sim.addInVar(name=\"fsd_starter\",dist=rv_discrete.geom,distkwargs={'p': 0.5})\n",
    "    sim.addInVar(name=\"t_frag_gen_FreeSurfaceWater\", dist=lognorm, distkwargs={'s': sigma2,'scale': np.exp(mu2)})\n",
    "    sim.addInVar(name=\"FI\", dist=uniform, distkwargs={'loc': 0.0, 'scale': 1.0})\n",
    "    sim.addInVar(name=\"t_half_deg_free\", dist=lognorm, distkwargs={'s': sigma_deg,'scale': np.exp(calc_mu(t_half_deg_free,sigma_deg))})\n",
    "    sim.addInVar(name=\"heter_deg_rate\",dist=lognorm, distkwargs={'s': sigma_deg,'scale': np.exp(calc_mu(heter_deg_rate,sigma_deg))})\n",
    "    sim.addInVar(name=\"biof_deg_rate\", dist=lognorm, distkwargs={'s': sigma_deg,'scale': np.exp(calc_mu(biof_deg_rate,sigma_deg))})\n",
    "\n",
    "    sim.addConstVal(name=\"MP_inputs\", val=MP_inputs)\n",
    "    sim.addConstVal(name=\"emission_inputs\", val=emission_inputs)\n",
    "    sim.runSim()\n",
    "    return sim\n",
    "\n",
    "sim = UTOPIA_montecarlo_sim()"
   ]
  },
  {
   "cell_type": "code",
   "execution_count": 156,
   "metadata": {},
   "outputs": [
    {
     "data": {
      "text/plain": [
       "(<Figure size 432x288 with 1 Axes>,\n",
       " <Axes: xlabel='MPdensity', ylabel='Probability Density'>)"
      ]
     },
     "execution_count": 156,
     "metadata": {},
     "output_type": "execute_result"
    },
    {
     "data": {
      "image/png": "[encoded data removed]",
      "text/plain": [
       "<Figure size 432x288 with 1 Axes>"
      ]
     },
     "metadata": {
      "needs_background": "light"
     },
     "output_type": "display_data"
    }
   ],
   "source": [
    "sim.invars['MPdensity'].addVarStat('mean')\n",
    "sim.invars['MPdensity'].addVarStat('percentile',\n",
    "{'p':[0.05, 0.95]})\n",
    "mc.plot(sim.invars['MPdensity'])\n"
   ]
  },
  {
   "cell_type": "code",
   "execution_count": 97,
   "metadata": {},
   "outputs": [
    {
     "data": {
      "text/plain": [
       "(<Figure size 432x288 with 1 Axes>,\n",
       " <Axes: xlabel='FI', ylabel='Probability Density'>)"
      ]
     },
     "execution_count": 97,
     "metadata": {},
     "output_type": "execute_result"
    },
    {
     "data": {
      "image/png": "[encoded data removed]",
      "text/plain": [
       "<Figure size 432x288 with 1 Axes>"
      ]
     },
     "metadata": {
      "needs_background": "light"
     },
     "output_type": "display_data"
    }
   ],
   "source": [
    "sim.invars['FI'].addVarStat('mean')\n",
    "sim.invars['FI'].addVarStat('percentile',\n",
    "{'p':[0.05, 0.95]})\n",
    "mc.plot(sim.invars['FI'])"
   ]
  },
  {
   "cell_type": "code",
   "execution_count": 157,
   "metadata": {},
   "outputs": [
    {
     "data": {
      "text/plain": [
       "(<Figure size 432x288 with 1 Axes>,\n",
       " <Axes: xlabel='biof_deg_rate', ylabel='Probability Density'>)"
      ]
     },
     "execution_count": 157,
     "metadata": {},
     "output_type": "execute_result"
    },
    {
     "data": {
      "image/png": "[encoded data removed]",
      "text/plain": [
       "<Figure size 432x288 with 1 Axes>"
      ]
     },
     "metadata": {
      "needs_background": "light"
     },
     "output_type": "display_data"
    }
   ],
   "source": [
    "sim.invars['biof_deg_rate'].addVarStat('mean')\n",
    "sim.invars['biof_deg_rate'].addVarStat('percentile',\n",
    "{'p':[0.05, 0.95]})\n",
    "mc.plot(sim.invars['biof_deg_rate'])"
   ]
  },
  {
   "cell_type": "code",
   "execution_count": 158,
   "metadata": {},
   "outputs": [
    {
     "data": {
      "text/plain": [
       "(<Figure size 432x288 with 3 Axes>,\n",
       " (<Axes: xlabel='MPdensity'>,\n",
       "  <Axes: ylabel='Overall_Persistance_mass_years'>,\n",
       "  <Axes: >))"
      ]
     },
     "execution_count": 158,
     "metadata": {},
     "output_type": "execute_result"
    },
    {
     "data": {
      "image/png": "[encoded data removed]",
      "text/plain": [
       "<Figure size 432x288 with 3 Axes>"
      ]
     },
     "metadata": {
      "needs_background": "light"
     },
     "output_type": "display_data"
    }
   ],
   "source": [
    "mc.multi_plot([sim.invars[\"MPdensity\"],sim.outvars[\"Overall_Persistance_mass_years\"]],title=\"Overall Persistence in mass vs MP density\",cov_plot=False)"
   ]
  },
  {
   "cell_type": "code",
   "execution_count": 159,
   "metadata": {},
   "outputs": [
    {
     "data": {
      "text/plain": [
       "(<Figure size 432x288 with 3 Axes>,\n",
       " (<Axes: xlabel='MPdensity'>,\n",
       "  <Axes: ylabel='Overall_Persistance_num_years'>,\n",
       "  <Axes: >))"
      ]
     },
     "execution_count": 159,
     "metadata": {},
     "output_type": "execute_result"
    },
    {
     "data": {
      "image/png": "[encoded data removed]",
      "text/plain": [
       "<Figure size 432x288 with 3 Axes>"
      ]
     },
     "metadata": {
      "needs_background": "light"
     },
     "output_type": "display_data"
    }
   ],
   "source": [
    "mc.multi_plot([sim.invars[\"MPdensity\"],sim.outvars[\"Overall_Persistance_num_years\"]],title=\"Overall Persistence in particle number vs MP density\",cov_plot=False)"
   ]
  },
  {
   "cell_type": "code",
   "execution_count": 101,
   "metadata": {},
   "outputs": [
    {
     "data": {
      "text/plain": [
       "(<Figure size 432x288 with 3 Axes>,\n",
       " (<Axes: xlabel='t_frag_gen_FreeSurfaceWater'>,\n",
       "  <Axes: ylabel='Overall_Persistance_mass_years'>,\n",
       "  <Axes: >))"
      ]
     },
     "execution_count": 101,
     "metadata": {},
     "output_type": "execute_result"
    },
    {
     "data": {
      "image/png": "[encoded data removed]",
      "text/plain": [
       "<Figure size 432x288 with 3 Axes>"
      ]
     },
     "metadata": {
      "needs_background": "light"
     },
     "output_type": "display_data"
    }
   ],
   "source": [
    "mc.multi_plot([sim.invars[\"t_frag_gen_FreeSurfaceWater\"],sim.outvars[\"Overall_Persistance_mass_years\"]],title=\"Overall Persistence in mass vs t_frag_gen\",cov_plot=False)"
   ]
  },
  {
   "cell_type": "code",
   "execution_count": 102,
   "metadata": {},
   "outputs": [
    {
     "data": {
      "text/plain": [
       "(<Figure size 432x288 with 3 Axes>,\n",
       " (<Axes: xlabel='t_frag_gen_FreeSurfaceWater'>,\n",
       "  <Axes: ylabel='Overall_Persistance_num_years'>,\n",
       "  <Axes: >))"
      ]
     },
     "execution_count": 102,
     "metadata": {},
     "output_type": "execute_result"
    },
    {
     "data": {
      "image/png": "[encoded data removed]",
      "text/plain": [
       "<Figure size 432x288 with 3 Axes>"
      ]
     },
     "metadata": {
      "needs_background": "light"
     },
     "output_type": "display_data"
    }
   ],
   "source": [
    "sim.outvars['Overall_Persistance_num_years'].addVarStat('mean')\n",
    "sim.outvars['Overall_Persistance_num_years'].addVarStat('percentile',\n",
    "{'p':[0.05, 0.95]})\n",
    "mc.multi_plot([sim.invars[\"t_frag_gen_FreeSurfaceWater\"],sim.outvars[\"Overall_Persistance_num_years\"]],title=\"Overall Persistence in particle number vs t_frag_gen_FreeSurfaceWater\",cov_plot=False)"
   ]
  },
  {
   "cell_type": "code",
   "execution_count": 103,
   "metadata": {},
   "outputs": [
    {
     "data": {
      "text/plain": [
       "(<Figure size 432x288 with 3 Axes>,\n",
       " (<Axes: xlabel='FI'>,\n",
       "  <Axes: ylabel='Overall_Persistance_num_years'>,\n",
       "  <Axes: >))"
      ]
     },
     "execution_count": 103,
     "metadata": {},
     "output_type": "execute_result"
    },
    {
     "data": {
      "image/png": "[encoded data removed]",
      "text/plain": [
       "<Figure size 432x288 with 3 Axes>"
      ]
     },
     "metadata": {
      "needs_background": "light"
     },
     "output_type": "display_data"
    }
   ],
   "source": [
    "mc.multi_plot([sim.invars[\"FI\"],sim.outvars[\"Overall_Persistance_num_years\"]],title=\"Overall Persistence in particle number vs FI\",cov_plot=False)"
   ]
  },
  {
   "cell_type": "code",
   "execution_count": 104,
   "metadata": {},
   "outputs": [
    {
     "data": {
      "text/plain": [
       "(<Figure size 432x288 with 3 Axes>,\n",
       " (<Axes: xlabel='FI'>,\n",
       "  <Axes: ylabel='Overall_Persistance_mass_years'>,\n",
       "  <Axes: >))"
      ]
     },
     "execution_count": 104,
     "metadata": {},
     "output_type": "execute_result"
    },
    {
     "data": {
      "image/png": "[encoded data removed]",
      "text/plain": [
       "<Figure size 432x288 with 3 Axes>"
      ]
     },
     "metadata": {
      "needs_background": "light"
     },
     "output_type": "display_data"
    }
   ],
   "source": [
    "mc.multi_plot([sim.invars[\"FI\"],sim.outvars[\"Overall_Persistance_mass_years\"]],title=\"Overall Persistence in mass vs FI\",cov_plot=False)"
   ]
  },
  {
   "cell_type": "code",
   "execution_count": 105,
   "metadata": {},
   "outputs": [
    {
     "data": {
      "text/plain": [
       "(<Figure size 432x288 with 3 Axes>,\n",
       " (<Axes: xlabel='MPdensity'>,\n",
       "  <Axes: ylabel='Overall_Residence_time_mass_years'>,\n",
       "  <Axes: >))"
      ]
     },
     "execution_count": 105,
     "metadata": {},
     "output_type": "execute_result"
    },
    {
     "data": {
      "image/png": "[encoded data removed]",
      "text/plain": [
       "<Figure size 432x288 with 3 Axes>"
      ]
     },
     "metadata": {
      "needs_background": "light"
     },
     "output_type": "display_data"
    }
   ],
   "source": [
    "sim.outvars['Overall_Residence_time_mass_years'].addVarStat('mean')\n",
    "sim.outvars['Overall_Residence_time_mass_years'].addVarStat('percentile',\n",
    "{'p':[0.05, 0.95]})\n",
    "mc.multi_plot([sim.invars[\"MPdensity\"],sim.outvars[\"Overall_Residence_time_mass_years\"]],title=\"Overall Residence Time in mass vs MP density\",cov_plot=False)"
   ]
  },
  {
   "cell_type": "code",
   "execution_count": 106,
   "metadata": {},
   "outputs": [
    {
     "data": {
      "text/plain": [
       "(<Figure size 432x288 with 3 Axes>,\n",
       " (<Axes: xlabel='t_frag_gen_FreeSurfaceWater'>,\n",
       "  <Axes: ylabel='Overall_Residence_time_num_years'>,\n",
       "  <Axes: >))"
      ]
     },
     "execution_count": 106,
     "metadata": {},
     "output_type": "execute_result"
    },
    {
     "data": {
      "image/png": "[encoded data removed]",
      "text/plain": [
       "<Figure size 432x288 with 3 Axes>"
      ]
     },
     "metadata": {
      "needs_background": "light"
     },
     "output_type": "display_data"
    }
   ],
   "source": [
    "sim.outvars['Overall_Residence_time_num_years'].addVarStat('mean')\n",
    "sim.outvars['Overall_Residence_time_num_years'].addVarStat('percentile',\n",
    "{'p':[0.05, 0.95]})\n",
    "mc.multi_plot([sim.invars[\"t_frag_gen_FreeSurfaceWater\"],sim.outvars[\"Overall_Residence_time_num_years\"]],title=\"Overall Residence Time in particle number vs t_frag_gen\",cov_plot=False)"
   ]
  },
  {
   "cell_type": "code",
   "execution_count": 160,
   "metadata": {},
   "outputs": [
    {
     "data": {
      "text/plain": [
       "(<Figure size 432x288 with 3 Axes>,\n",
       " (<Axes: xlabel='FI'>,\n",
       "  <Axes: ylabel='Overall_Residence_time_mass_years'>,\n",
       "  <Axes: >))"
      ]
     },
     "execution_count": 160,
     "metadata": {},
     "output_type": "execute_result"
    },
    {
     "data": {
      "image/png": "[encoded data removed]",
      "text/plain": [
       "<Figure size 432x288 with 3 Axes>"
      ]
     },
     "metadata": {
      "needs_background": "light"
     },
     "output_type": "display_data"
    }
   ],
   "source": [
    "mc.multi_plot([sim.invars[\"FI\"],sim.outvars[\"Overall_Residence_time_mass_years\"]],title=\"Overall Residence Time in mass vs FI\",cov_plot=False)"
   ]
  },
  {
   "cell_type": "code",
   "execution_count": 161,
   "metadata": {},
   "outputs": [
    {
     "name": "stdout",
     "output_type": "stream",
     "text": [
      "Calculating sensitivity indices for 'Overall_Persistance_num_years'...\n",
      "Calculating optimal hyperparameters Φ for 'Overall_Persistance_num_years' covariances...\n",
      "L = 901.1246, Φ = [1. 1. 1. 1. 1. 1.]\n",
      "L = 901.1246, Φ = [1.00000001 1.         1.         1.         1.         1.        ]\n",
      "L = 901.1246, Φ = [1.         1.00000001 1.         1.         1.         1.        ]\n",
      "L = 901.1246, Φ = [1.         1.         1.00000001 1.         1.         1.        ]\n",
      "L = 901.1246, Φ = [1.         1.         1.         1.00000001 1.         1.        ]\n",
      "L = 901.1246, Φ = [1.         1.         1.         1.         1.00000001 1.        ]\n",
      "L = 901.1246, Φ = [1.         1.         1.         1.         1.         1.00000001]\n",
      "L = 976.4135, Φ = [ 0.          0.          0.         18.32810244 20.44961253  0.        ]\n",
      "L = 976.4135, Φ = [1.00000000e-08 0.00000000e+00 0.00000000e+00 1.83281024e+01\n",
      " 2.04496125e+01 0.00000000e+00]\n",
      "L = 976.4135, Φ = [0.00000000e+00 1.00000000e-08 0.00000000e+00 1.83281024e+01\n",
      " 2.04496125e+01 0.00000000e+00]\n",
      "L = 976.4135, Φ = [0.00000000e+00 0.00000000e+00 1.00000000e-08 1.83281024e+01\n",
      " 2.04496125e+01 0.00000000e+00]\n",
      "L = 976.4135, Φ = [ 0.          0.          0.         18.32810245 20.44961253  0.        ]\n",
      "L = 976.4135, Φ = [ 0.          0.          0.         18.32810244 20.44961254  0.        ]\n",
      "L = 976.4135, Φ = [0.00000000e+00 0.00000000e+00 0.00000000e+00 1.83281024e+01\n",
      " 2.04496125e+01 1.00000000e-08]\n",
      "L = 954.2314, Φ = [0.71967848 0.71967848 0.71967848 5.85744    6.45214493 0.71967848]\n",
      "L = 954.2314, Φ = [0.71967849 0.71967848 0.71967848 5.85744    6.45214493 0.71967848]\n",
      "L = 954.2314, Φ = [0.71967848 0.71967849 0.71967848 5.85744    6.45214493 0.71967848]\n",
      "L = 954.2314, Φ = [0.71967848 0.71967848 0.71967849 5.85744    6.45214493 0.71967848]\n",
      "L = 954.2314, Φ = [0.71967848 0.71967848 0.71967848 5.85744001 6.45214493 0.71967848]\n",
      "L = 954.2314, Φ = [0.71967848 0.71967848 0.71967848 5.85744    6.45214494 0.71967848]\n",
      "L = 954.2314, Φ = [0.71967848 0.71967848 0.71967848 5.85744    6.45214493 0.71967849]\n",
      "L = 912.9944, Φ = [0.93310876 0.93310876 0.93310876 2.15909827 2.30100871 0.93310876]\n",
      "L = 912.9944, Φ = [0.93310877 0.93310876 0.93310876 2.15909827 2.30100871 0.93310876]\n",
      "L = 912.9944, Φ = [0.93310876 0.93310877 0.93310876 2.15909827 2.30100871 0.93310876]\n",
      "L = 912.9944, Φ = [0.93310876 0.93310876 0.93310877 2.15909827 2.30100871 0.93310876]\n",
      "L = 912.9944, Φ = [0.93310876 0.93310876 0.93310876 2.15909828 2.30100871 0.93310876]\n",
      "L = 912.9944, Φ = [0.93310876 0.93310876 0.93310876 2.15909827 2.30100872 0.93310876]\n",
      "L = 912.9944, Φ = [0.93310876 0.93310876 0.93310876 2.15909827 2.30100871 0.93310877]\n",
      "L = 902.4744, Φ = [0.98253221 0.98253221 0.98253221 1.30268362 1.33974171 0.98253221]\n",
      "L = 902.4744, Φ = [0.98253222 0.98253221 0.98253221 1.30268362 1.33974171 0.98253221]\n",
      "L = 902.4744, Φ = [0.98253221 0.98253222 0.98253221 1.30268362 1.33974171 0.98253221]\n",
      "L = 902.4744, Φ = [0.98253221 0.98253221 0.98253222 1.30268362 1.33974171 0.98253221]\n",
      "L = 902.4744, Φ = [0.98253221 0.98253221 0.98253221 1.30268363 1.33974171 0.98253221]\n",
      "L = 902.4744, Φ = [0.98253221 0.98253221 0.98253221 1.30268362 1.33974172 0.98253221]\n",
      "L = 902.4744, Φ = [0.98253221 0.98253221 0.98253221 1.30268362 1.33974171 0.98253222]\n",
      "L = 899.1229, Φ = [0.993966   0.993966   0.993966   1.1045577  1.11735888 0.993966  ]\n",
      "L = 899.1229, Φ = [0.99396601 0.993966   0.993966   1.1045577  1.11735888 0.993966  ]\n",
      "L = 899.1229, Φ = [0.993966   0.99396601 0.993966   1.1045577  1.11735888 0.993966  ]\n",
      "L = 899.1229, Φ = [0.993966   0.993966   0.99396601 1.1045577  1.11735888 0.993966  ]\n",
      "L = 899.1229, Φ = [0.993966   0.993966   0.993966   1.10455771 1.11735888 0.993966  ]\n",
      "L = 899.1229, Φ = [0.993966   0.993966   0.993966   1.1045577  1.11735889 0.993966  ]\n",
      "L = 899.1229, Φ = [0.993966   0.993966   0.993966   1.1045577  1.11735888 0.99396601]\n",
      "L = 886.8760, Φ = [0.87863609 0.8556885  0.87527082 1.09304874 1.09819482 0.85975806]\n",
      "L = 886.8760, Φ = [0.8786361  0.8556885  0.87527082 1.09304874 1.09819482 0.85975806]\n",
      "L = 886.8760, Φ = [0.87863609 0.85568851 0.87527082 1.09304874 1.09819482 0.85975806]\n",
      "L = 886.8760, Φ = [0.87863609 0.8556885  0.87527083 1.09304874 1.09819482 0.85975806]\n",
      "L = 886.8760, Φ = [0.87863609 0.8556885  0.87527082 1.09304875 1.09819482 0.85975806]\n",
      "L = 886.8760, Φ = [0.87863609 0.8556885  0.87527082 1.09304874 1.09819483 0.85975806]\n",
      "L = 886.8760, Φ = [0.87863609 0.8556885  0.87527082 1.09304874 1.09819482 0.85975807]\n",
      "L = 850.4475, Φ = [0.41731645 0.30257848 0.40049011 1.04701292 1.02153859 0.32292629]\n",
      "L = 850.4475, Φ = [0.41731646 0.30257848 0.40049011 1.04701292 1.02153859 0.32292629]\n",
      "L = 850.4475, Φ = [0.41731645 0.30257849 0.40049011 1.04701292 1.02153859 0.32292629]\n",
      "L = 850.4475, Φ = [0.41731645 0.30257848 0.40049012 1.04701292 1.02153859 0.32292629]\n",
      "L = 850.4475, Φ = [0.41731645 0.30257848 0.40049011 1.04701293 1.02153859 0.32292629]\n",
      "L = 850.4475, Φ = [0.41731645 0.30257848 0.40049011 1.04701292 1.0215386  0.32292629]\n",
      "L = 850.4475, Φ = [0.41731645 0.30257848 0.40049011 1.04701292 1.02153859 0.3229263 ]\n",
      "L = 912.5608, Φ = [0.         0.         0.         0.69063645 0.87124445 0.        ]\n",
      "L = 912.5608, Φ = [1.00000000e-08 0.00000000e+00 0.00000000e+00 6.90636453e-01\n",
      " 8.71244448e-01 0.00000000e+00]\n",
      "L = 912.5608, Φ = [0.00000000e+00 1.00000000e-08 0.00000000e+00 6.90636453e-01\n",
      " 8.71244448e-01 0.00000000e+00]\n",
      "L = 912.5608, Φ = [0.00000000e+00 0.00000000e+00 1.00000000e-08 6.90636453e-01\n",
      " 8.71244448e-01 0.00000000e+00]\n",
      "L = 912.5608, Φ = [0.         0.         0.         0.69063646 0.87124445 0.        ]\n",
      "L = 912.5608, Φ = [0.         0.         0.         0.69063645 0.87124446 0.        ]\n",
      "L = 912.5608, Φ = [0.00000000e+00 0.00000000e+00 0.00000000e+00 6.90636453e-01\n",
      " 8.71244448e-01 1.00000000e-08]\n",
      "L = 851.5502, Φ = [0.25979704 0.18836783 0.24932193 0.91249579 0.96480887 0.2010352 ]\n",
      "L = 851.5502, Φ = [0.25979705 0.18836783 0.24932193 0.91249579 0.96480887 0.2010352 ]\n",
      "L = 851.5502, Φ = [0.25979704 0.18836784 0.24932193 0.91249579 0.96480887 0.2010352 ]\n",
      "L = 851.5502, Φ = [0.25979704 0.18836783 0.24932194 0.91249579 0.96480887 0.2010352 ]\n",
      "L = 851.5502, Φ = [0.25979704 0.18836783 0.24932193 0.9124958  0.96480887 0.2010352 ]\n",
      "L = 851.5502, Φ = [0.25979704 0.18836783 0.24932193 0.91249579 0.96480888 0.2010352 ]\n",
      "L = 851.5502, Φ = [0.25979704 0.18836783 0.24932193 0.91249579 0.96480887 0.20103521]\n",
      "L = 848.7186, Φ = [0.35515802 0.25751004 0.34083792 0.99393138 0.99915259 0.27482708]\n",
      "L = 848.7186, Φ = [0.35515803 0.25751004 0.34083792 0.99393138 0.99915259 0.27482708]\n",
      "L = 848.7186, Φ = [0.35515802 0.25751005 0.34083792 0.99393138 0.99915259 0.27482708]\n",
      "L = 848.7186, Φ = [0.35515802 0.25751004 0.34083793 0.99393138 0.99915259 0.27482708]\n",
      "L = 848.7186, Φ = [0.35515802 0.25751004 0.34083792 0.99393139 0.99915259 0.27482708]\n",
      "L = 848.7186, Φ = [0.35515802 0.25751004 0.34083792 0.99393138 0.9991526  0.27482708]\n",
      "L = 848.7186, Φ = [0.35515802 0.25751004 0.34083792 0.99393138 0.99915259 0.27482709]\n",
      "L = 852.3139, Φ = [0.20441254 0.09142598 0.190798   1.01869195 1.02300831 0.11027745]\n",
      "L = 852.3139, Φ = [0.20441255 0.09142598 0.190798   1.01869195 1.02300831 0.11027745]\n",
      "L = 852.3139, Φ = [0.20441254 0.09142599 0.190798   1.01869195 1.02300831 0.11027745]\n",
      "L = 852.3139, Φ = [0.20441254 0.09142598 0.19079801 1.01869195 1.02300831 0.11027745]\n",
      "L = 852.3139, Φ = [0.20441254 0.09142598 0.190798   1.01869196 1.02300831 0.11027745]\n",
      "L = 852.3139, Φ = [0.20441254 0.09142598 0.190798   1.01869195 1.02300832 0.11027745]\n",
      "L = 852.3139, Φ = [0.20441254 0.09142598 0.190798   1.01869195 1.02300831 0.11027746]\n",
      "L = 848.0422, Φ = [0.30702323 0.20447746 0.29292842 1.00183772 1.00677    0.22228446]\n",
      "L = 848.0422, Φ = [0.30702324 0.20447746 0.29292842 1.00183772 1.00677    0.22228446]\n",
      "L = 848.0422, Φ = [0.30702323 0.20447747 0.29292842 1.00183772 1.00677    0.22228446]\n",
      "L = 848.0422, Φ = [0.30702323 0.20447746 0.29292843 1.00183772 1.00677    0.22228446]\n",
      "L = 848.0422, Φ = [0.30702323 0.20447746 0.29292842 1.00183773 1.00677    0.22228446]\n",
      "L = 848.0422, Φ = [0.30702323 0.20447746 0.29292842 1.00183772 1.00677001 0.22228446]\n",
      "L = 848.0422, Φ = [0.30702323 0.20447746 0.29292842 1.00183772 1.00677    0.22228447]\n",
      "L = 852.9323, Φ = [0.25570162 0.1017844  0.23695297 1.06688297 0.97325146 0.12743887]\n",
      "L = 852.9323, Φ = [0.25570163 0.1017844  0.23695297 1.06688297 0.97325146 0.12743887]\n",
      "L = 852.9323, Φ = [0.25570162 0.10178441 0.23695297 1.06688297 0.97325146 0.12743887]\n",
      "L = 852.9323, Φ = [0.25570162 0.1017844  0.23695298 1.06688297 0.97325146 0.12743887]\n",
      "L = 852.9323, Φ = [0.25570162 0.1017844  0.23695297 1.06688298 0.97325146 0.12743887]\n",
      "L = 852.9323, Φ = [0.25570162 0.1017844  0.23695297 1.06688297 0.97325147 0.12743887]\n",
      "L = 852.9323, Φ = [0.25570162 0.1017844  0.23695297 1.06688297 0.97325146 0.12743888]\n",
      "L = 847.7298, Φ = [0.29986705 0.19015816 0.28512332 1.01090749 1.00209624 0.20905939]\n",
      "L = 847.7298, Φ = [0.29986706 0.19015816 0.28512332 1.01090749 1.00209624 0.20905939]\n",
      "L = 847.7298, Φ = [0.29986705 0.19015817 0.28512332 1.01090749 1.00209624 0.20905939]\n",
      "L = 847.7298, Φ = [0.29986705 0.19015816 0.28512333 1.01090749 1.00209624 0.20905939]\n",
      "L = 847.7298, Φ = [0.29986705 0.19015816 0.28512332 1.0109075  1.00209624 0.20905939]\n",
      "L = 847.7298, Φ = [0.29986705 0.19015816 0.28512332 1.01090749 1.00209625 0.20905939]\n",
      "L = 847.7298, Φ = [0.29986705 0.19015816 0.28512332 1.01090749 1.00209624 0.2090594 ]\n",
      "L = 856.4660, Φ = [0.2489481  0.14047503 0.24466647 1.13053891 0.95015641 0.13969373]\n",
      "L = 856.4660, Φ = [0.24894811 0.14047503 0.24466647 1.13053891 0.95015641 0.13969373]\n",
      "L = 856.4660, Φ = [0.2489481  0.14047504 0.24466647 1.13053891 0.95015641 0.13969373]\n",
      "L = 856.4660, Φ = [0.2489481  0.14047503 0.24466648 1.13053891 0.95015641 0.13969373]\n",
      "L = 856.4660, Φ = [0.2489481  0.14047503 0.24466647 1.13053892 0.95015641 0.13969373]\n",
      "L = 856.4660, Φ = [0.2489481  0.14047503 0.24466647 1.13053891 0.95015642 0.13969373]\n",
      "L = 856.4660, Φ = [0.2489481  0.14047503 0.24466647 1.13053891 0.95015641 0.13969374]\n",
      "L = 847.7900, Φ = [0.29504035 0.1854486  0.28128834 1.02224758 0.99717277 0.20248409]\n",
      "L = 847.7900, Φ = [0.29504036 0.1854486  0.28128834 1.02224758 0.99717277 0.20248409]\n",
      "L = 847.7900, Φ = [0.29504035 0.18544861 0.28128834 1.02224758 0.99717277 0.20248409]\n",
      "L = 847.7900, Φ = [0.29504035 0.1854486  0.28128835 1.02224758 0.99717277 0.20248409]\n",
      "L = 847.7900, Φ = [0.29504035 0.1854486  0.28128834 1.02224759 0.99717277 0.20248409]\n",
      "L = 847.7900, Φ = [0.29504035 0.1854486  0.28128834 1.02224758 0.99717278 0.20248409]\n",
      "L = 847.7900, Φ = [0.29504035 0.1854486  0.28128834 1.02224758 0.99717277 0.2024841 ]\n",
      "L = 847.6562, Φ = [0.29802381 0.18835966 0.28365881 1.01523808 1.00021605 0.2065484 ]\n",
      "L = 847.6562, Φ = [0.29802382 0.18835966 0.28365881 1.01523808 1.00021605 0.2065484 ]\n",
      "L = 847.6562, Φ = [0.29802381 0.18835967 0.28365881 1.01523808 1.00021605 0.2065484 ]\n",
      "L = 847.6562, Φ = [0.29802381 0.18835966 0.28365882 1.01523808 1.00021605 0.2065484 ]\n",
      "L = 847.6562, Φ = [0.29802381 0.18835966 0.28365881 1.01523809 1.00021605 0.2065484 ]\n",
      "L = 847.6562, Φ = [0.29802381 0.18835966 0.28365881 1.01523808 1.00021606 0.2065484 ]\n",
      "L = 847.6562, Φ = [0.29802381 0.18835966 0.28365881 1.01523808 1.00021605 0.20654841]\n",
      "L = 848.1351, Φ = [0.30466939 0.20475731 0.29330715 1.03497251 1.00701683 0.21810746]\n",
      "L = 848.1351, Φ = [0.3046694  0.20475731 0.29330715 1.03497251 1.00701683 0.21810746]\n",
      "L = 848.1351, Φ = [0.30466939 0.20475732 0.29330715 1.03497251 1.00701683 0.21810746]\n",
      "L = 848.1351, Φ = [0.30466939 0.20475731 0.29330716 1.03497251 1.00701683 0.21810746]\n",
      "L = 848.1351, Φ = [0.30466939 0.20475731 0.29330715 1.03497252 1.00701683 0.21810746]\n",
      "L = 848.1351, Φ = [0.30466939 0.20475731 0.29330715 1.03497251 1.00701684 0.21810746]\n",
      "L = 848.1351, Φ = [0.30466939 0.20475731 0.29330715 1.03497251 1.00701683 0.21810747]\n",
      "L = 847.6135, Φ = [0.29910267 0.19102168 0.28522514 1.0184418  1.0013201  0.20842491]\n",
      "L = 847.6135, Φ = [0.29910268 0.19102168 0.28522514 1.0184418  1.0013201  0.20842491]\n",
      "L = 847.6135, Φ = [0.29910267 0.19102169 0.28522514 1.0184418  1.0013201  0.20842491]\n",
      "L = 847.6135, Φ = [0.29910267 0.19102168 0.28522515 1.0184418  1.0013201  0.20842491]\n",
      "L = 847.6135, Φ = [0.29910267 0.19102168 0.28522514 1.01844181 1.0013201  0.20842491]\n",
      "L = 847.6135, Φ = [0.29910267 0.19102168 0.28522514 1.0184418  1.00132011 0.20842491]\n",
      "L = 847.6135, Φ = [0.29910267 0.19102168 0.28522514 1.0184418  1.0013201  0.20842492]\n",
      "L = 847.6083, Φ = [0.30236799 0.20621644 0.29113984 1.01895355 1.00342508 0.21968158]\n",
      "L = 847.6083, Φ = [0.302368   0.20621644 0.29113984 1.01895355 1.00342508 0.21968158]\n",
      "L = 847.6083, Φ = [0.30236799 0.20621645 0.29113984 1.01895355 1.00342508 0.21968158]\n",
      "L = 847.6083, Φ = [0.30236799 0.20621644 0.29113985 1.01895355 1.00342508 0.21968158]\n",
      "L = 847.6083, Φ = [0.30236799 0.20621644 0.29113984 1.01895356 1.00342508 0.21968158]\n",
      "L = 847.6083, Φ = [0.30236799 0.20621644 0.29113984 1.01895355 1.00342509 0.21968158]\n",
      "L = 847.6083, Φ = [0.30236799 0.20621644 0.29113984 1.01895355 1.00342508 0.21968159]\n",
      "L = 847.5587, Φ = [0.30181551 0.21987319 0.29366532 1.01601777 1.00274066 0.22861433]\n",
      "L = 847.5587, Φ = [0.30181552 0.21987319 0.29366532 1.01601777 1.00274066 0.22861433]\n",
      "L = 847.5587, Φ = [0.30181551 0.2198732  0.29366532 1.01601777 1.00274066 0.22861433]\n",
      "L = 847.5587, Φ = [0.30181551 0.21987319 0.29366533 1.01601777 1.00274066 0.22861433]\n",
      "L = 847.5587, Φ = [0.30181551 0.21987319 0.29366532 1.01601778 1.00274066 0.22861433]\n",
      "L = 847.5587, Φ = [0.30181551 0.21987319 0.29366532 1.01601777 1.00274067 0.22861433]\n",
      "L = 847.5587, Φ = [0.30181551 0.21987319 0.29366532 1.01601777 1.00274066 0.22861434]\n",
      "L = 847.4927, Φ = [0.29361005 0.22493052 0.28874515 1.01590174 1.00158275 0.22878601]\n",
      "L = 847.4927, Φ = [0.29361006 0.22493052 0.28874515 1.01590174 1.00158275 0.22878601]\n",
      "L = 847.4927, Φ = [0.29361005 0.22493053 0.28874515 1.01590174 1.00158275 0.22878601]\n",
      "L = 847.4927, Φ = [0.29361005 0.22493052 0.28874516 1.01590174 1.00158275 0.22878601]\n",
      "L = 847.4927, Φ = [0.29361005 0.22493052 0.28874515 1.01590175 1.00158275 0.22878601]\n",
      "L = 847.4927, Φ = [0.29361005 0.22493052 0.28874515 1.01590174 1.00158276 0.22878601]\n",
      "L = 847.4927, Φ = [0.29361005 0.22493052 0.28874515 1.01590174 1.00158275 0.22878602]\n",
      "L = 847.4765, Φ = [0.26078818 0.24515986 0.26906444 1.01543764 0.99695111 0.22947275]\n",
      "L = 847.4765, Φ = [0.26078819 0.24515986 0.26906444 1.01543764 0.99695111 0.22947275]\n",
      "L = 847.4765, Φ = [0.26078818 0.24515987 0.26906444 1.01543764 0.99695111 0.22947275]\n",
      "L = 847.4765, Φ = [0.26078818 0.24515986 0.26906445 1.01543764 0.99695111 0.22947275]\n",
      "L = 847.4765, Φ = [0.26078818 0.24515986 0.26906444 1.01543765 0.99695111 0.22947275]\n",
      "L = 847.4765, Φ = [0.26078818 0.24515986 0.26906444 1.01543764 0.99695112 0.22947275]\n",
      "L = 847.4765, Φ = [0.26078818 0.24515986 0.26906444 1.01543764 0.99695111 0.22947276]\n",
      "L = 847.4357, Φ = [0.26005848 0.24805464 0.26946863 1.01660674 0.99813629 0.23112137]\n",
      "L = 847.4357, Φ = [0.26005849 0.24805464 0.26946863 1.01660674 0.99813629 0.23112137]\n",
      "L = 847.4357, Φ = [0.26005848 0.24805465 0.26946863 1.01660674 0.99813629 0.23112137]\n",
      "L = 847.4357, Φ = [0.26005848 0.24805464 0.26946864 1.01660674 0.99813629 0.23112137]\n",
      "L = 847.4357, Φ = [0.26005848 0.24805464 0.26946863 1.01660675 0.99813629 0.23112137]\n",
      "L = 847.4357, Φ = [0.26005848 0.24805464 0.26946863 1.01660674 0.9981363  0.23112137]\n",
      "L = 847.4357, Φ = [0.26005848 0.24805464 0.26946863 1.01660674 0.99813629 0.23112138]\n",
      "L = 847.4331, Φ = [0.25713968 0.25963375 0.27108543 1.02128317 1.00287699 0.23771585]\n",
      "L = 847.4331, Φ = [0.25713969 0.25963375 0.27108543 1.02128317 1.00287699 0.23771585]\n",
      "L = 847.4331, Φ = [0.25713968 0.25963376 0.27108543 1.02128317 1.00287699 0.23771585]\n",
      "L = 847.4331, Φ = [0.25713968 0.25963375 0.27108544 1.02128317 1.00287699 0.23771585]\n",
      "L = 847.4331, Φ = [0.25713968 0.25963375 0.27108543 1.02128318 1.00287699 0.23771585]\n",
      "L = 847.4331, Φ = [0.25713968 0.25963375 0.27108543 1.02128317 1.002877   0.23771585]\n",
      "L = 847.4331, Φ = [0.25713968 0.25963375 0.27108543 1.02128317 1.00287699 0.23771586]\n",
      "L = 847.3884, Φ = [0.25863428 0.25370454 0.27025753 1.01888855 1.00044946 0.23433907]\n",
      "L = 847.3884, Φ = [0.25863429 0.25370454 0.27025753 1.01888855 1.00044946 0.23433907]\n",
      "L = 847.3884, Φ = [0.25863428 0.25370455 0.27025753 1.01888855 1.00044946 0.23433907]\n",
      "L = 847.3884, Φ = [0.25863428 0.25370454 0.27025754 1.01888855 1.00044946 0.23433907]\n",
      "L = 847.3884, Φ = [0.25863428 0.25370454 0.27025753 1.01888856 1.00044946 0.23433907]\n",
      "L = 847.3884, Φ = [0.25863428 0.25370454 0.27025753 1.01888855 1.00044947 0.23433907]\n",
      "L = 847.3884, Φ = [0.25863428 0.25370454 0.27025753 1.01888855 1.00044946 0.23433908]\n",
      "L = 847.5501, Φ = [0.25293048 0.26463632 0.27006665 1.0224316  1.00731821 0.23986748]\n",
      "L = 847.5501, Φ = [0.25293049 0.26463632 0.27006665 1.0224316  1.00731821 0.23986748]\n",
      "L = 847.5501, Φ = [0.25293048 0.26463633 0.27006665 1.0224316  1.00731821 0.23986748]\n",
      "L = 847.5501, Φ = [0.25293048 0.26463632 0.27006666 1.0224316  1.00731821 0.23986748]\n",
      "L = 847.5501, Φ = [0.25293048 0.26463632 0.27006665 1.02243161 1.00731821 0.23986748]\n",
      "L = 847.5501, Φ = [0.25293048 0.26463632 0.27006665 1.0224316  1.00731822 0.23986748]\n",
      "L = 847.5501, Φ = [0.25293048 0.26463632 0.27006665 1.0224316  1.00731821 0.23986749]\n",
      "L = 847.3753, Φ = [0.25782265 0.25526011 0.27023037 1.01939272 1.00142687 0.23512575]\n",
      "L = 847.3753, Φ = [0.25782266 0.25526011 0.27023037 1.01939272 1.00142687 0.23512575]\n",
      "L = 847.3753, Φ = [0.25782265 0.25526012 0.27023037 1.01939272 1.00142687 0.23512575]\n",
      "L = 847.3753, Φ = [0.25782265 0.25526011 0.27023038 1.01939272 1.00142687 0.23512575]\n",
      "L = 847.3753, Φ = [0.25782265 0.25526011 0.27023037 1.01939273 1.00142687 0.23512575]\n",
      "L = 847.3753, Φ = [0.25782265 0.25526011 0.27023037 1.01939272 1.00142688 0.23512575]\n",
      "L = 847.3753, Φ = [0.25782265 0.25526011 0.27023037 1.01939272 1.00142687 0.23512576]\n",
      "L = 847.3817, Φ = [0.25829789 0.25434926 0.27024627 1.01909751 1.00085456 0.23466512]\n",
      "L = 847.3817, Φ = [0.2582979  0.25434926 0.27024627 1.01909751 1.00085456 0.23466512]\n",
      "L = 847.3817, Φ = [0.25829789 0.25434927 0.27024627 1.01909751 1.00085456 0.23466512]\n",
      "L = 847.3817, Φ = [0.25829789 0.25434926 0.27024628 1.01909751 1.00085456 0.23466512]\n",
      "L = 847.3817, Φ = [0.25829789 0.25434926 0.27024627 1.01909752 1.00085456 0.23466512]\n",
      "L = 847.3817, Φ = [0.25829789 0.25434926 0.27024627 1.01909751 1.00085457 0.23466512]\n",
      "L = 847.3817, Φ = [0.25829789 0.25434926 0.27024627 1.01909751 1.00085456 0.23466513]\n",
      "L = 847.5907, Φ = [0.24908286 0.27273684 0.26932655 1.01979468 1.01043596 0.24434125]\n",
      "L = 847.5907, Φ = [0.24908287 0.27273684 0.26932655 1.01979468 1.01043596 0.24434125]\n",
      "L = 847.5907, Φ = [0.24908286 0.27273685 0.26932655 1.01979468 1.01043596 0.24434125]\n",
      "L = 847.5907, Φ = [0.24908286 0.27273684 0.26932656 1.01979468 1.01043596 0.24434125]\n",
      "L = 847.5907, Φ = [0.24908286 0.27273684 0.26932655 1.01979469 1.01043596 0.24434125]\n",
      "L = 847.5907, Φ = [0.24908286 0.27273684 0.26932655 1.01979468 1.01043597 0.24434125]\n",
      "L = 847.5907, Φ = [0.24908286 0.27273684 0.26932655 1.01979468 1.01043596 0.24434126]\n",
      "L = 847.3914, Φ = [0.25693086 0.25707702 0.27010983 1.01920093 1.00227594 0.23610056]\n",
      "L = 847.3914, Φ = [0.25693087 0.25707702 0.27010983 1.01920093 1.00227594 0.23610056]\n",
      "L = 847.3914, Φ = [0.25693086 0.25707703 0.27010983 1.01920093 1.00227594 0.23610056]\n",
      "L = 847.3914, Φ = [0.25693086 0.25707702 0.27010984 1.01920093 1.00227594 0.23610056]\n",
      "L = 847.3914, Φ = [0.25693086 0.25707702 0.27010983 1.01920094 1.00227594 0.23610056]\n",
      "L = 847.3914, Φ = [0.25693086 0.25707702 0.27010983 1.01920093 1.00227595 0.23610056]\n",
      "L = 847.3914, Φ = [0.25693086 0.25707702 0.27010983 1.01920093 1.00227594 0.23610057]\n",
      "L = 847.3719, Φ = [0.25787325 0.25519658 0.27020389 1.01912964 1.00129608 0.23511101]\n",
      "L = 847.3719, Φ = [0.25787326 0.25519658 0.27020389 1.01912964 1.00129608 0.23511101]\n",
      "L = 847.3719, Φ = [0.25787325 0.25519659 0.27020389 1.01912964 1.00129608 0.23511101]\n",
      "L = 847.3719, Φ = [0.25787325 0.25519658 0.2702039  1.01912964 1.00129608 0.23511101]\n",
      "L = 847.3719, Φ = [0.25787325 0.25519658 0.27020389 1.01912965 1.00129608 0.23511101]\n",
      "L = 847.3719, Φ = [0.25787325 0.25519658 0.27020389 1.01912964 1.00129609 0.23511101]\n",
      "L = 847.3719, Φ = [0.25787325 0.25519658 0.27020389 1.01912964 1.00129608 0.23511102]\n",
      "L = 847.3837, Φ = [0.25725127 0.25643767 0.27014181 1.01917669 1.00194279 0.23576411]\n",
      "L = 847.3837, Φ = [0.25725128 0.25643767 0.27014181 1.01917669 1.00194279 0.23576411]\n",
      "L = 847.3837, Φ = [0.25725127 0.25643768 0.27014181 1.01917669 1.00194279 0.23576411]\n",
      "L = 847.3837, Φ = [0.25725127 0.25643767 0.27014182 1.01917669 1.00194279 0.23576411]\n",
      "L = 847.3837, Φ = [0.25725127 0.25643767 0.27014181 1.0191767  1.00194279 0.23576411]\n",
      "L = 847.3837, Φ = [0.25725127 0.25643767 0.27014181 1.01917669 1.0019428  0.23576411]\n",
      "L = 847.3837, Φ = [0.25725127 0.25643767 0.27014181 1.01917669 1.00194279 0.23576412]\n",
      "L = 847.3713, Φ = [0.25777073 0.25540116 0.27019366 1.01913739 1.00140268 0.23521866]\n",
      "L = 847.3713, Φ = [0.25777074 0.25540116 0.27019366 1.01913739 1.00140268 0.23521866]\n",
      "L = 847.3713, Φ = [0.25777073 0.25540117 0.27019366 1.01913739 1.00140268 0.23521866]\n",
      "L = 847.3713, Φ = [0.25777073 0.25540116 0.27019367 1.01913739 1.00140268 0.23521866]\n",
      "L = 847.3713, Φ = [0.25777073 0.25540116 0.27019366 1.0191374  1.00140268 0.23521866]\n",
      "L = 847.3713, Φ = [0.25777073 0.25540116 0.27019366 1.01913739 1.00140269 0.23521866]\n",
      "L = 847.3713, Φ = [0.25777073 0.25540116 0.27019366 1.01913739 1.00140268 0.23521867]\n",
      "L = 847.3707, Φ = [0.25782269 0.25529748 0.27019885 1.01913346 1.00134866 0.23516411]\n",
      "L = 847.3707, Φ = [0.2578227  0.25529748 0.27019885 1.01913346 1.00134866 0.23516411]\n",
      "L = 847.3707, Φ = [0.25782269 0.25529749 0.27019885 1.01913346 1.00134866 0.23516411]\n",
      "L = 847.3707, Φ = [0.25782269 0.25529748 0.27019886 1.01913346 1.00134866 0.23516411]\n",
      "L = 847.3707, Φ = [0.25782269 0.25529748 0.27019885 1.01913347 1.00134866 0.23516411]\n",
      "L = 847.3707, Φ = [0.25782269 0.25529748 0.27019885 1.01913346 1.00134867 0.23516411]\n",
      "L = 847.3707, Φ = [0.25782269 0.25529748 0.27019885 1.01913346 1.00134866 0.23516412]\n",
      "L = 851.8156, Φ = [0.19141026 0.35026926 0.26941649 1.02545138 1.0847233  0.27703294]\n",
      "L = 851.8156, Φ = [0.19141027 0.35026926 0.26941649 1.02545138 1.0847233  0.27703294]\n",
      "L = 851.8156, Φ = [0.19141026 0.35026927 0.26941649 1.02545138 1.0847233  0.27703294]\n",
      "L = 851.8156, Φ = [0.19141026 0.35026926 0.2694165  1.02545138 1.0847233  0.27703294]\n",
      "L = 851.8156, Φ = [0.19141026 0.35026926 0.26941649 1.02545139 1.0847233  0.27703294]\n",
      "L = 851.8156, Φ = [0.19141026 0.35026926 0.26941649 1.02545138 1.08472331 0.27703294]\n",
      "L = 851.8156, Φ = [0.19141026 0.35026926 0.26941649 1.02545138 1.0847233  0.27703295]\n",
      "L = 847.5311, Φ = [0.25246347 0.26296132 0.27013571 1.01964329 1.00807666 0.23854275]\n",
      "L = 847.5311, Φ = [0.25246348 0.26296132 0.27013571 1.01964329 1.00807666 0.23854275]\n",
      "L = 847.5311, Φ = [0.25246347 0.26296133 0.27013571 1.01964329 1.00807666 0.23854275]\n",
      "L = 847.5311, Φ = [0.25246347 0.26296132 0.27013572 1.01964329 1.00807666 0.23854275]\n",
      "L = 847.5311, Φ = [0.25246347 0.26296132 0.27013571 1.0196433  1.00807666 0.23854275]\n",
      "L = 847.5311, Φ = [0.25246347 0.26296132 0.27013571 1.01964329 1.00807667 0.23854275]\n",
      "L = 847.5311, Φ = [0.25246347 0.26296132 0.27013571 1.01964329 1.00807666 0.23854276]\n",
      "L = 847.3911, Φ = [0.25710464 0.25632431 0.27019039 1.01920177 1.0022501  0.23561679]\n",
      "L = 847.3911, Φ = [0.25710465 0.25632431 0.27019039 1.01920177 1.0022501  0.23561679]\n",
      "L = 847.3911, Φ = [0.25710464 0.25632432 0.27019039 1.01920177 1.0022501  0.23561679]\n",
      "L = 847.3911, Φ = [0.25710464 0.25632431 0.2701904  1.01920177 1.0022501  0.23561679]\n",
      "L = 847.3911, Φ = [0.25710464 0.25632431 0.27019039 1.01920178 1.0022501  0.23561679]\n",
      "L = 847.3911, Φ = [0.25710464 0.25632431 0.27019039 1.01920177 1.00225011 0.23561679]\n",
      "L = 847.3911, Φ = [0.25710464 0.25632431 0.27019039 1.01920177 1.0022501  0.2356168 ]\n",
      "L = 847.3730, Φ = [0.25772352 0.25543929 0.27019768 1.01914289 1.00147315 0.23522662]\n",
      "L = 847.3730, Φ = [0.25772353 0.25543929 0.27019768 1.01914289 1.00147315 0.23522662]\n",
      "L = 847.3730, Φ = [0.25772352 0.2554393  0.27019768 1.01914289 1.00147315 0.23522662]\n",
      "L = 847.3730, Φ = [0.25772352 0.25543929 0.27019769 1.01914289 1.00147315 0.23522662]\n",
      "L = 847.3730, Φ = [0.25772352 0.25543929 0.27019768 1.0191429  1.00147315 0.23522662]\n",
      "L = 847.3730, Φ = [0.25772352 0.25543929 0.27019768 1.01914289 1.00147316 0.23522662]\n",
      "L = 847.3730, Φ = [0.25772352 0.25543929 0.27019768 1.01914289 1.00147315 0.23522663]\n",
      "L = 847.3705, Φ = [0.25780636 0.25532082 0.27019865 1.01913501 1.00136915 0.2351744 ]\n",
      "L = 847.3705, Φ = [0.25780637 0.25532082 0.27019865 1.01913501 1.00136915 0.2351744 ]\n",
      "L = 847.3705, Φ = [0.25780636 0.25532083 0.27019865 1.01913501 1.00136915 0.2351744 ]\n",
      "L = 847.3705, Φ = [0.25780636 0.25532082 0.27019866 1.01913501 1.00136915 0.2351744 ]\n",
      "L = 847.3705, Φ = [0.25780636 0.25532082 0.27019865 1.01913502 1.00136915 0.2351744 ]\n",
      "L = 847.3705, Φ = [0.25780636 0.25532082 0.27019865 1.01913501 1.00136916 0.2351744 ]\n",
      "L = 847.3705, Φ = [0.25780636 0.25532082 0.27019865 1.01913501 1.00136915 0.23517441]\n",
      "L = 847.3705, Φ = [0.25781478 0.25530879 0.27019875 1.01913421 1.00135859 0.23516909]\n",
      "L = 847.3705, Φ = [0.25781479 0.25530879 0.27019875 1.01913421 1.00135859 0.23516909]\n",
      "L = 847.3705, Φ = [0.25781478 0.2553088  0.27019875 1.01913421 1.00135859 0.23516909]\n",
      "L = 847.3705, Φ = [0.25781478 0.25530879 0.27019876 1.01913421 1.00135859 0.23516909]\n",
      "L = 847.3705, Φ = [0.25781478 0.25530879 0.27019875 1.01913422 1.00135859 0.23516909]\n",
      "L = 847.3705, Φ = [0.25781478 0.25530879 0.27019875 1.01913421 1.0013586  0.23516909]\n",
      "L = 847.3705, Φ = [0.25781478 0.25530879 0.27019875 1.01913421 1.00135859 0.2351691 ]\n",
      "L = 847.3704, Φ = [0.2578107  0.25531462 0.2701987  1.0191346  1.00136371 0.23517166]\n",
      "L = 847.3704, Φ = [0.25781071 0.25531462 0.2701987  1.0191346  1.00136371 0.23517166]\n",
      "L = 847.3704, Φ = [0.2578107  0.25531463 0.2701987  1.0191346  1.00136371 0.23517166]\n",
      "L = 847.3704, Φ = [0.2578107  0.25531462 0.27019871 1.0191346  1.00136371 0.23517166]\n",
      "L = 847.3704, Φ = [0.2578107  0.25531462 0.2701987  1.01913461 1.00136371 0.23517166]\n",
      "L = 847.3704, Φ = [0.2578107  0.25531462 0.2701987  1.0191346  1.00136372 0.23517166]\n",
      "L = 847.3704, Φ = [0.2578107  0.25531462 0.2701987  1.0191346  1.00136371 0.23517167]\n",
      "L = 847.3704, Φ = [0.2578128  0.25531162 0.27019873 1.0191344  1.00136107 0.23517034]\n",
      "L = 847.3704, Φ = [0.25781281 0.25531162 0.27019873 1.0191344  1.00136107 0.23517034]\n",
      "L = 847.3704, Φ = [0.2578128  0.25531163 0.27019873 1.0191344  1.00136107 0.23517034]\n",
      "L = 847.3704, Φ = [0.2578128  0.25531162 0.27019874 1.0191344  1.00136107 0.23517034]\n",
      "L = 847.3704, Φ = [0.2578128  0.25531162 0.27019873 1.01913441 1.00136107 0.23517034]\n",
      "L = 847.3704, Φ = [0.2578128  0.25531162 0.27019873 1.0191344  1.00136108 0.23517034]\n",
      "L = 847.3704, Φ = [0.2578128  0.25531162 0.27019873 1.0191344  1.00136107 0.23517035]\n",
      "L = 847.3704, Φ = [0.25781152 0.25531345 0.27019871 1.01913452 1.00136268 0.23517115]\n",
      "L = 847.3704, Φ = [0.25781153 0.25531345 0.27019871 1.01913452 1.00136268 0.23517115]\n",
      "L = 847.3704, Φ = [0.25781152 0.25531346 0.27019871 1.01913452 1.00136268 0.23517115]\n",
      "L = 847.3704, Φ = [0.25781152 0.25531345 0.27019872 1.01913452 1.00136268 0.23517115]\n",
      "L = 847.3704, Φ = [0.25781152 0.25531345 0.27019871 1.01913453 1.00136268 0.23517115]\n",
      "L = 847.3704, Φ = [0.25781152 0.25531345 0.27019871 1.01913452 1.00136269 0.23517115]\n",
      "L = 847.3704, Φ = [0.25781152 0.25531345 0.27019871 1.01913452 1.00136268 0.23517116]\n",
      "L = 847.3704, Φ = [0.25781236 0.25531224 0.27019872 1.01913444 1.00136162 0.23517061]\n",
      "L = 847.3704, Φ = [0.25781237 0.25531224 0.27019872 1.01913444 1.00136162 0.23517061]\n",
      "L = 847.3704, Φ = [0.25781236 0.25531225 0.27019872 1.01913444 1.00136162 0.23517061]\n",
      "L = 847.3704, Φ = [0.25781236 0.25531224 0.27019873 1.01913444 1.00136162 0.23517061]\n",
      "L = 847.3704, Φ = [0.25781236 0.25531224 0.27019872 1.01913445 1.00136162 0.23517061]\n",
      "L = 847.3704, Φ = [0.25781236 0.25531224 0.27019872 1.01913444 1.00136163 0.23517061]\n",
      "L = 847.3704, Φ = [0.25781236 0.25531224 0.27019872 1.01913444 1.00136162 0.23517062]\n",
      "L = 847.3704, Φ = [0.25781152 0.25531345 0.27019871 1.01913452 1.00136268 0.23517115]\n",
      "L = 847.3704, Φ = [0.25781153 0.25531345 0.27019871 1.01913452 1.00136268 0.23517115]\n",
      "L = 847.3704, Φ = [0.25781152 0.25531346 0.27019871 1.01913452 1.00136268 0.23517115]\n",
      "L = 847.3704, Φ = [0.25781152 0.25531345 0.27019872 1.01913452 1.00136268 0.23517115]\n",
      "L = 847.3704, Φ = [0.25781152 0.25531345 0.27019871 1.01913453 1.00136268 0.23517115]\n",
      "L = 847.3704, Φ = [0.25781152 0.25531345 0.27019871 1.01913452 1.00136269 0.23517115]\n",
      "L = 847.3704, Φ = [0.25781152 0.25531345 0.27019871 1.01913452 1.00136268 0.23517116]\n",
      "Done calculating optimal hyperparameters.\n",
      "Done calculating sensitivity indices.\n"
     ]
    },
    {
     "data": {
      "image/png": "[encoded data removed]",
      "text/plain": [
       "<Figure size 720x288 with 1 Axes>"
      ]
     },
     "metadata": {
      "needs_background": "light"
     },
     "output_type": "display_data"
    }
   ],
   "source": [
    "## Calculate and plot sensitivity indices\n",
    "sim.calcSensitivities(outvarnames=\"Overall_Persistance_num_years\",tol=1e-6,verbose=True)\n",
    "fig, ax = sim.outvars['Overall_Persistance_num_years'].plotSensitivities()\n",
    "fig.set_size_inches(10, 4)\n",
    "plt.savefig('Overall_Persistence_time_num_sensitivities.png', dpi=100)\n",
    "plt.show()"
   ]
  },
  {
   "cell_type": "code",
   "execution_count": 109,
   "metadata": {},
   "outputs": [
    {
     "data": {
      "text/plain": [
       "(<Figure size 432x288 with 1 Axes>,\n",
       " <Axes: xlabel='Overall_Persistance_num_years', ylabel='Cumulative Probability'>)"
      ]
     },
     "execution_count": 109,
     "metadata": {},
     "output_type": "execute_result"
    },
    {
     "data": {
      "image/png": "[encoded data removed]",
      "text/plain": [
       "<Figure size 432x288 with 1 Axes>"
      ]
     },
     "metadata": {
      "needs_background": "light"
     },
     "output_type": "display_data"
    }
   ],
   "source": [
    "\n",
    "mc.mc_plot.plot_cdf(sim.outvars[\"Overall_Persistance_num_years\"])"
   ]
  },
  {
   "cell_type": "code",
   "execution_count": 110,
   "metadata": {},
   "outputs": [
    {
     "data": {
      "text/plain": [
       "(<Figure size 432x288 with 1 Axes>, <Axes: >)"
      ]
     },
     "execution_count": 110,
     "metadata": {},
     "output_type": "execute_result"
    },
    {
     "data": {
      "image/png": "[encoded data removed]",
      "text/plain": [
       "<Figure size 432x288 with 1 Axes>"
      ]
     },
     "metadata": {
      "needs_background": "light"
     },
     "output_type": "display_data"
    }
   ],
   "source": [
    "mc.plot_cov_corr(*sim.corr())"
   ]
  }
 ],
 "metadata": {
  "kernelspec": {
   "display_name": "venv",
   "language": "python",
   "name": "python3"
  },
  "language_info": {
   "codemirror_mode": {
    "name": "ipython",
    "version": 3
   },
   "file_extension": ".py",
   "mimetype": "text/x-python",
   "name": "python",
   "nbconvert_exporter": "python",
   "pygments_lexer": "ipython3",
   "version": "3.10.5"
  }
 },
 "nbformat": 4,
 "nbformat_minor": 2
}
