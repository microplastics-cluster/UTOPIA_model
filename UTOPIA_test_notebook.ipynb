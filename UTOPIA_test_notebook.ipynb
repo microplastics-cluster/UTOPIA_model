{
 "cells": [
  {
   "cell_type": "markdown",
   "metadata": {},
   "source": [
    "\n",
    "### Import libraries and modules"
   ]
  },
  {
   "cell_type": "code",
   "execution_count": 107,
   "metadata": {},
   "outputs": [],
   "source": [
    "import copy\n",
    "import os\n",
    "from datetime import datetime\n",
    "\n",
    "import pandas as pd\n",
    "import matplotlib.pyplot as plt\n",
    "import seaborn as sns\n",
    "from functions import create_inputsTable_UTOPIA\n",
    "from functions.create_rateConstants_tabel import *\n",
    "from functions.fillInteractions_df_fun import *\n",
    "from functions.generate_modelObjects import *\n",
    "from functions.generateRateConstants_particles import *\n",
    "from functions.solver_SteadyState import *\n",
    "from functions.extract_results import *\n",
    "from functions.plot_results import *\n",
    "from functions.massBalance import *\n",
    "from functions.exposure_indicators_calculation import *\n",
    "from functions.generate_MPinputs_table import *\n",
    "from functions.save_results import *\n",
    "from functions.loop_CTD_calculation import *\n",
    "from functions.generate_compartmentFlows_tables import *\n",
    "from helpers.helpers import *"
   ]
  },
  {
   "cell_type": "markdown",
   "metadata": {},
   "source": [
    "Set up path for inputs folder"
   ]
  },
  {
   "cell_type": "code",
   "execution_count": 108,
   "metadata": {},
   "outputs": [
    {
     "data": {
      "text/plain": [
       "'c:\\\\Users\\\\PradoDomercq\\\\Documents\\\\Python Scripts\\\\UTOPIA_model\\\\inputs'"
      ]
     },
     "execution_count": 108,
     "metadata": {},
     "output_type": "execute_result"
    }
   ],
   "source": [
    "##Set current working directory\n",
    "cwd=os.getcwd()\n",
    "inputs_path = cwd+\"\\inputs\"\n",
    "inputs_path"
   ]
  },
  {
   "cell_type": "markdown",
   "metadata": {},
   "source": [
    "### Define run parameters\n",
    "\n",
    "#### Define microplastics physical properties"
   ]
  },
  {
   "cell_type": "code",
   "execution_count": 109,
   "metadata": {},
   "outputs": [],
   "source": [
    "MPdensity_kg_m3 = 1580\n",
    "MP_composition = \"PVC\"\n",
    "shape = \"sphere\"  # Fixed for now\n",
    "N_sizeBins = 5  # Fixed, should not be changed. The 5 size bins are generated as being one order of magnitude appart and cover the range from mm to nm(i.e. 5000um, 500um, 50um, 5um, 0.5um)\n",
    "big_bin_diameter_um = 5000  # This size can not be bigger than 10 mm (10000um) or smaller than 1 mm(1000um)\n",
    "runName = MP_composition\n",
    "\n",
    "MP_inputs={\"MP_composition\":MP_composition,\"shape\":shape,\"N_sizeBins\":N_sizeBins,\"big_bin_diameter_um\":big_bin_diameter_um,\"runName\":runName,\"inputs_path\":inputs_path}\n"
   ]
  },
  {
   "cell_type": "code",
   "execution_count": 110,
   "metadata": {},
   "outputs": [],
   "source": [
    "# write microplastics inputs file\n",
    "mp_imputFile_name = write_MPinputs_table(\n",
    "    MPdensity_kg_m3,\n",
    "    MP_composition,\n",
    "    shape,\n",
    "    N_sizeBins,\n",
    "    big_bin_diameter_um,\n",
    "    runName,\n",
    "    inputs_path,\n",
    ")"
   ]
  },
  {
   "cell_type": "markdown",
   "metadata": {},
   "source": [
    "#### Define Environmental Characteristics\n",
    "\n",
    "##### Suspended particulates properties"
   ]
  },
  {
   "cell_type": "code",
   "execution_count": 111,
   "metadata": {},
   "outputs": [],
   "source": [
    "# From Kooi et al. (2017)\n",
    "v_a = 2.0e-16  # Volume of 1 algal cell [m-3]\n",
    "r_a = ((3.0 / 4.0) * (v_a / math.pi)) ** (1.0 / 3.0)  # radius of algae [m]\n",
    "\n",
    "spm_radius_um = r_a * 1e6\n",
    "spm_density_kg_m3 = 1388  # REF: Kooi et al. (2017)"
   ]
  },
  {
   "cell_type": "markdown",
   "metadata": {},
   "source": [
    "##### Compartment properties"
   ]
  },
  {
   "cell_type": "code",
   "execution_count": 112,
   "metadata": {},
   "outputs": [],
   "source": [
    "comp_impFile_name = \"\\inputs_compartments.csv\"  # Preloaded values, the user should be able to create its own inputs_compartments.csv file (via donwloading the file and typing news values without chaing the structure of the file) when a new file wants to be used the name should be changed here\n",
    "comp_interactFile_name = (\n",
    "    \"\\compartment_interactions.csv\"  # Fixed, should not be modified\n",
    ")"
   ]
  },
  {
   "cell_type": "markdown",
   "metadata": {},
   "source": [
    "##### Generate model objects (via reading selected input files)"
   ]
  },
  {
   "cell_type": "code",
   "execution_count": 113,
   "metadata": {},
   "outputs": [],
   "source": [
    "# Generate objects\n",
    "boxName = \"Utopia\"  # fixed, do not modify\n",
    "\n",
    "(\n",
    "    system_particle_object_list,\n",
    "    SpeciesList,\n",
    "    spm,\n",
    "    dict_comp,\n",
    "    model_lists,\n",
    "    particles_df,\n",
    ") = generate_objects(\n",
    "    inputs_path,\n",
    "    boxName=boxName,\n",
    "    MPforms_list=MPforms_list,\n",
    "    comp_impFile_name=comp_impFile_name,\n",
    "    comp_interactFile_name=comp_interactFile_name,\n",
    "    mp_imputFile_name=mp_imputFile_name,\n",
    "    spm_radius_um=spm_radius_um,\n",
    "    spm_density_kg_m3=spm_density_kg_m3,\n",
    ")\n",
    "\n",
    "surfComp_list = [c for c in dict_comp if \"Surface\" in c]"
   ]
  },
  {
   "cell_type": "markdown",
   "metadata": {},
   "source": [
    "#### Define Microplastics weathering properties\n"
   ]
  },
  {
   "cell_type": "markdown",
   "metadata": {},
   "source": [
    "##### Select fragmentation style\n",
    "In out approach each particle fractions into fragments of smaller sizes and the distribution is expresses via a fragment size distribution matrix (fsd), as descibed in https://microplastics-cluster.github.io/fragment-mnp/advanced-usage/fragment-size-distribution.html .  \n",
    "\n",
    "In this matrix the smallest size fraction is in the first possition and we consider no fragmentation for this size class \n",
    "\n",
    "Below we define 4 different styles of fragmentation via defininf the fsd for each of them. The user can choose form one of the proposed fragmentation styles or define its own fsd by including it in the frag_styles_dict following the structure below."
   ]
  },
  {
   "cell_type": "code",
   "execution_count": 114,
   "metadata": {},
   "outputs": [],
   "source": [
    "### Substitute by a slider using the new function to generate fsd based on the fragmentation style index: FI\n",
    "def generate_fsd_matrix(FI):\n",
    "    # Initialize a 5x5 matrix with zeros\n",
    "    matrix = np.zeros((5, 5))\n",
    "    c1=0.2\n",
    "    c2=0.15\n",
    "    c3=0.1\n",
    "    \n",
    "    matrix[1,0]=1\n",
    "    matrix[2,0]=1-FI\n",
    "    matrix[2,1]=FI\n",
    "    if FI <=0.5:\n",
    "        matrix[3,1]=FI*2*c1\n",
    "        matrix[4,1]=FI*2*c2\n",
    "        matrix[4,2]=FI*2*c3\n",
    "    else:\n",
    "        matrix[3,1]=c1-((FI-0.5)*2*c1)\n",
    "        matrix[4,1]=c2-((FI-0.5)*2*c2)\n",
    "        matrix[4,2]=c3-((FI-0.5)*2*c3)\n",
    "    matrix[3,0]=matrix[2,0]+(0.5* matrix[3,1])\n",
    "    matrix[3,2]=1-matrix[3,0]-matrix[3,1]\n",
    "    matrix[4,0]=matrix[3,0]+(0.5* matrix[4,1])+(0.25* matrix[4,2])\n",
    "    matrix[4,3]=1-matrix[4,0]-matrix[4,1]-matrix[4,2]\n",
    "    \n",
    "    return matrix\n"
   ]
  },
  {
   "cell_type": "code",
   "execution_count": 115,
   "metadata": {},
   "outputs": [
    {
     "name": "stdout",
     "output_type": "stream",
     "text": [
      "[[0.   0.   0.   0.   0.  ]\n",
      " [1.   0.   0.   0.   0.  ]\n",
      " [0.5  0.5  0.   0.   0.  ]\n",
      " [0.6  0.2  0.2  0.   0.  ]\n",
      " [0.7  0.15 0.1  0.05 0.  ]]\n",
      "\n",
      "Sum of each row:\n",
      "Row 1: 0.0\n",
      "Row 2: 1.0\n",
      "Row 3: 1.0\n",
      "Row 4: 1.0\n",
      "Row 5: 1.0\n"
     ]
    }
   ],
   "source": [
    "## Select a value for FI in the range 0-1 where:\n",
    "frag_styles_dict = {0:\"erosive_fragmentation\",0.5:\"mixed_fragmentation\",1:\"sequential_fragmentation\"} ## Slider??\n",
    "FI=0.5\n",
    "\n",
    "# Generate the matrix\n",
    "fsd=generate_fsd_matrix(FI)\n",
    "print(fsd)\n",
    "\n",
    "# Verify the sum of each row\n",
    "row_sums = fsd.sum(axis=1)\n",
    "print(\"\\nSum of each row:\")\n",
    "for idx, sum_value in enumerate(row_sums):\n",
    "    print(f\"Row {idx + 1}: {sum_value}\")"
   ]
  },
  {
   "cell_type": "code",
   "execution_count": 116,
   "metadata": {},
   "outputs": [
    {
     "data": {
      "text/plain": [
       "'mixed_fragmentation'"
      ]
     },
     "execution_count": 116,
     "metadata": {},
     "output_type": "execute_result"
    }
   ],
   "source": [
    "frag_style = frag_styles_dict[FI]\n",
    "frag_style ### We need this now for the save fiction but should be substituted for FI=x? so that we can choose any value in the range 0-1"
   ]
  },
  {
   "cell_type": "code",
   "execution_count": 117,
   "metadata": {},
   "outputs": [],
   "source": [
    "sizes = [list(model_lists[\"dict_size_coding\"].keys())]\n",
    "fsd_df = pd.DataFrame(fsd, index=sizes, columns=sizes)\n",
    "\n",
    "# Save the fsd matrix\n",
    "fsd_filename = os.path.join(inputs_path, \"fsd.csv\")\n",
    "fsd_df.to_csv(fsd_filename)"
   ]
  },
  {
   "cell_type": "markdown",
   "metadata": {},
   "source": [
    "##### Define Weathering processes input parameters\n",
    "\n",
    "##### Degradation half time: thalf_deg_d\n",
    "\n",
    "The model provides default values for degradation times taken from Domercq et al. 2021 in the file (t_half_deg.csv):\n",
    " \n",
    "The assumptions made for the definition of these degradation times: \n",
    "    - Heteroaggregated particles degrade 10 times slower than the free MPs\n",
    "    - Biofouled particles degrade 5 times slower than the free MPs"
   ]
  },
  {
   "cell_type": "markdown",
   "metadata": {},
   "source": [
    "If the user want to provide its own values of thalf_deg_d the values can be modified in the following dictionary and running the following code by chaging the cell to code"
   ]
  },
  {
   "cell_type": "markdown",
   "metadata": {},
   "source": [
    "thalf_deg_d_dict = {\n",
    "     \"freeMP\": 5000,\n",
    "     \"heterMP\": 50000,\n",
    "     \"biofMP\": 25000,\n",
    "     \"heterBiofMP\": 100000,\n",
    " } \n",
    "\n",
    "t_half_deg_filename = os.path.join(inputs_path, \"t_half_deg.csv\")\n",
    "t_half_deg_df = pd.DataFrame(list(thalf_deg_d_dict.items()), columns=['MP_form', 'thalf_deg_d'])\n",
    "t_half_deg_df.to_csv(t_half_deg_filename,index=False)\n"
   ]
  },
  {
   "cell_type": "code",
   "execution_count": 118,
   "metadata": {},
   "outputs": [],
   "source": [
    "# Read the CSV file into a DataFrame\n",
    "t_half_deg_filename = os.path.join(inputs_path, \"t_half_deg.csv\")\n",
    "t_half_deg_df = pd.read_csv(t_half_deg_filename)\n",
    "\n",
    "# Convert the DataFrame to a dictionary\n",
    "thalf_deg_d_dict = t_half_deg_df.set_index(\"MP_form\")[\"thalf_deg_d\"].to_dict()"
   ]
  },
  {
   "cell_type": "markdown",
   "metadata": {},
   "source": [
    "#### Heteroaggregation attachment efficiency: alpha_heter."
   ]
  },
  {
   "cell_type": "code",
   "execution_count": 119,
   "metadata": {},
   "outputs": [],
   "source": [
    "alpha_heter_filename = os.path.join(inputs_path, \"alpha_heter.csv\")\n",
    "alpha_heter_df = pd.read_csv(alpha_heter_filename)\n",
    "alpha_hetr_dict = alpha_heter_df.set_index(\"MP_form\")[\"alpha_heter\"].to_dict()"
   ]
  },
  {
   "cell_type": "markdown",
   "metadata": {},
   "source": [
    "#### Timescales of fragmentation\n",
    "\n",
    "The fragmentation timescales are deteremined from the stablished fragmentation half time of 36.5 days for the biggest size fraction in free form in the surface water compartments following the parameters chosen in Domercq et al. 2021.\n",
    "\n",
    "In UTOPIA we include fragmentation of the heteroaggregated MPs as being 100 slower than fragmentation of the Free MPs and breackup of biofouled and heteroaggregated will be two times slowed of those only heteroaggregated, following the same assumption as for free and biofouled. These values are used in the Domercq et al. 2021 paper and they are asumptions made from lack of current knowlegde"
   ]
  },
  {
   "cell_type": "code",
   "execution_count": 120,
   "metadata": {},
   "outputs": [],
   "source": [
    "t_frag_gen_FreeSurfaceWater = 36.5  # in days"
   ]
  },
  {
   "cell_type": "code",
   "execution_count": 121,
   "metadata": {},
   "outputs": [],
   "source": [
    "process_inputs_df = create_inputsTable_UTOPIA(\n",
    "    inputs_path,\n",
    "    model_lists,\n",
    "    thalf_deg_d_dict,\n",
    "    alpha_hetr_dict,\n",
    "    t_frag_gen_FreeSurfaceWater,\n",
    "    save_op=\"save\"\n",
    ")"
   ]
  },
  {
   "cell_type": "markdown",
   "metadata": {},
   "source": [
    "#### Define emission scenario\n",
    "\n",
    "Choose input flow (in g per second) and define in wich form and size the particles are released into the environment and specify the input flow for each compartment"
   ]
  },
  {
   "cell_type": "code",
   "execution_count": 122,
   "metadata": {},
   "outputs": [],
   "source": [
    "# Size fraction:\n",
    "# for the preloaded scenario:\n",
    "# a= 0.5 um\n",
    "# b= 5 um\n",
    "# c= 50 um\n",
    "# d= 500 um\n",
    "# e= 5000 um\n",
    "import string\n",
    "\n",
    "size_codes = [letter for letter in string.ascii_lowercase[0:N_sizeBins]]\n",
    "size_dict = dict(zip(size_codes, model_lists[\"dict_size_coding\"].values()))\n",
    "\n",
    "# Aggregation state (MP form):\n",
    "# A= Free MP\n",
    "# B= heteroaggregatedMP\n",
    "# C= biofouled MP\n",
    "# D= biofouled and heteroaggregated MP\n",
    "MPforms_list = [\"freeMP\", \"heterMP\", \"biofMP\", \"heterBiofMP\"]\n",
    "particle_forms_coding = dict(zip(MPforms_list, [\"A\", \"B\", \"C\", \"D\"]))\n",
    "MP_form_dict_reverse = {v: k for k, v in particle_forms_coding.items()}"
   ]
  },
  {
   "cell_type": "markdown",
   "metadata": {},
   "source": [
    "##### Select size bin and form"
   ]
  },
  {
   "cell_type": "code",
   "execution_count": 123,
   "metadata": {},
   "outputs": [],
   "source": [
    "size_bin = \"e\"  # Chosse from size_dict\n",
    "MP_form = \"freeMP\"  # Choose from MPforms_list above"
   ]
  },
  {
   "cell_type": "markdown",
   "metadata": {},
   "source": [
    "##### Type input flow in g/s\n",
    "\n",
    "If inputs are only made to one compartment:"
   ]
  },
  {
   "cell_type": "code",
   "execution_count": 124,
   "metadata": {},
   "outputs": [],
   "source": [
    "emiss_comp = \"Coast_Surface_Water\"  # Select compartment from the compartment list\n",
    "input_flow_g_s = 1  # Choose input flow (in g per second)\n",
    "\n",
    "q_mass_g_s_dict = {\n",
    "    \"Ocean_Surface_Water\": 0,\n",
    "    \"Ocean_Mixed_Water\": 0,\n",
    "    \"Ocean_Column_Water\": 0,\n",
    "    \"Coast_Surface_Water\": 0,\n",
    "    \"Coast_Column_Water\": 0,\n",
    "    \"Surface_Freshwater\": 0,\n",
    "    \"Bulk_Freshwater\": 0,\n",
    "    \"Sediment_Freshwater\": 0,\n",
    "    \"Sediment_Ocean\": 0,\n",
    "    \"Sediment_Coast\": 0,\n",
    "    \"Beaches_Soil_Surface\": 0,\n",
    "    \"Beaches_Deep_Soil\": 0,\n",
    "    \"Background_Soil_Surface\": 0,\n",
    "    \"Background_Soil\": 0,\n",
    "    \"Impacted_Soil_Surface\": 0,\n",
    "    \"Impacted_Soil\": 0,\n",
    "    \"Air\": 0,\n",
    "}\n",
    "\n",
    "q_mass_g_s_dict[emiss_comp] = input_flow_g_s"
   ]
  },
  {
   "cell_type": "markdown",
   "metadata": {},
   "source": [
    "If emissions are made to several compartments type the input flows corresponding to the specific compartments in the following dictionary:\n",
    "\n",
    "q_mass_g_s_dict = {\n",
    "    \"Ocean_Surface_Water\": 0,\n",
    "    \"Ocean_Mixed_Water\": 0,\n",
    "    \"Ocean_Column_Water\": 0,\n",
    "    \"Coast_Surface_Water\": 0,\n",
    "    \"Coast_Column_Water\": 0,\n",
    "    \"Surface_Freshwater\": 0,\n",
    "    \"Bulk_Freshwater\": 0,\n",
    "    \"Sediment_Freshwater\": 0,\n",
    "    \"Sediment_Ocean\": 0,\n",
    "    \"Sediment_Coast\": 0,\n",
    "    \"Urban_Soil_Surface\": 0,\n",
    "    \"Urban_Soil\": 0,\n",
    "    \"Background_Soil_Surface\": 0,\n",
    "    \"Background_Soil\": 0,\n",
    "    \"Agricultural_Soil_Surface\": 0,\n",
    "    \"Agricultural_Soil\": 0,\n",
    "    \"Air\": 0,\n",
    "}"
   ]
  },
  {
   "cell_type": "code",
   "execution_count": 125,
   "metadata": {},
   "outputs": [],
   "source": [
    "input_flow_filename = os.path.join(inputs_path, \"inputFlows.csv\")\n",
    "input_flows_df = pd.DataFrame(\n",
    "    list(q_mass_g_s_dict.items()), columns=[\"compartment\", \"q_mass_g_s\"]\n",
    ")\n",
    "input_flows_df.to_csv(input_flow_filename, index=False)"
   ]
  },
  {
   "cell_type": "code",
   "execution_count": 126,
   "metadata": {},
   "outputs": [],
   "source": [
    "# Generate dict of emission flows\n",
    "particle_compartmentCoding = dict(\n",
    "    zip(\n",
    "        model_lists[\"compartmentNames_list\"],\n",
    "        list(range(len(model_lists[\"compartmentNames_list\"]))),\n",
    "    )\n",
    ")\n",
    "comp_dict_inverse = {v: k for k, v in particle_compartmentCoding.items()}\n",
    "\n",
    "sp_imputs = []\n",
    "q_mass_g_s = []\n",
    "for compartment in q_mass_g_s_dict.keys():\n",
    "\n",
    "    sp_imputs.append(\n",
    "        size_bin\n",
    "        + particle_forms_coding[MP_form]\n",
    "        + str(particle_compartmentCoding[compartment])\n",
    "        + \"_\"\n",
    "        + boxName\n",
    "    )\n",
    "    q_mass_g_s.append(q_mass_g_s_dict[compartment])\n",
    "\n",
    "imput_flows_g_s = dict(zip(sp_imputs, q_mass_g_s))\n",
    "\n",
    "q_num_s = [\n",
    "    mass_to_num(v, p.Pvolume_m3, p.Pdensity_kg_m3) if v != 0 else 0\n",
    "    for k, v in zip(imput_flows_g_s.keys(), imput_flows_g_s.values())\n",
    "    for p in system_particle_object_list\n",
    "    if k == p.Pcode\n",
    "]\n",
    "\n",
    "# imput_flows_num_s = dict(zip(sp_imputs, q_num_s))\n"
   ]
  },
  {
   "cell_type": "code",
   "execution_count": 127,
   "metadata": {},
   "outputs": [],
   "source": [
    "emission_inputs={\"size_bin\":size_bin, \"MP_form\":MP_form, \"emiss_comp\":emiss_comp, \"imput_flows_g_s\":imput_flows_g_s}"
   ]
  },
  {
   "cell_type": "markdown",
   "metadata": {},
   "source": [
    "## Model Run Summary"
   ]
  },
  {
   "cell_type": "code",
   "execution_count": 128,
   "metadata": {},
   "outputs": [
    {
     "name": "stdout",
     "output_type": "stream",
     "text": [
      "Model run: \n",
      "Emissions flow (g/s):  1\n",
      "Receiving compartment/s:  Coast_Surface_Water\n",
      "Emitted MP density (kg/m3):  1580\n",
      "Emitted MP shape:  sphere\n",
      "Emitted MP form:  freeMP\n",
      "Emitted MP size (um):  5000.0\n",
      "Selected fragmentation style:  mixed_fragmentation\n"
     ]
    }
   ],
   "source": [
    "saveName = (\n",
    "    MP_composition\n",
    "    + \"_MP_Emissions_\"\n",
    "    + MP_form\n",
    "    + \"_\"\n",
    "    + str(size_dict[size_bin])\n",
    "    + \"_nm_\"\n",
    "    + frag_style\n",
    ")\n",
    "\n",
    "# Print model run summary\n",
    "\n",
    "print(\"Model run: \")\n",
    "print(\"Emissions flow (g/s): \", input_flow_g_s)\n",
    "desired_key = next(key for key, value in q_mass_g_s_dict.items() if value > 0)\n",
    "print(\"Receiving compartment/s: \", desired_key)\n",
    "print(\"Emitted MP density (kg/m3): \", MPdensity_kg_m3)\n",
    "print(\"Emitted MP shape: \", shape)\n",
    "print(\"Emitted MP form: \", MP_form)\n",
    "print(\"Emitted MP size (um): \", size_dict[size_bin])\n",
    "print(\"Selected fragmentation style: \", frag_style)\n"
   ]
  },
  {
   "cell_type": "markdown",
   "metadata": {},
   "source": [
    "### Run Model"
   ]
  },
  {
   "cell_type": "code",
   "execution_count": 129,
   "metadata": {},
   "outputs": [
    {
     "name": "stdout",
     "output_type": "stream",
     "text": [
      "Difference inflow-outflow = -1.3322676295501878e-15\n",
      "                               Inflow       Outflow\n",
      "Ocean_Surface_Water      3.646162e+00  3.646162e+00\n",
      "Ocean_Mixed_Water        3.650380e+00  3.650380e+00\n",
      "Ocean_Column_Water       4.816058e-03  4.816058e-03\n",
      "Coast_Surface_Water      4.501595e+00  4.501574e+00\n",
      "Coast_Column_Water       4.586829e+00  4.586829e+00\n",
      "Surface_Freshwater       7.451201e-06  7.451201e-06\n",
      "Bulk_Freshwater          7.456202e-06  7.456202e-06\n",
      "Sediment_Freshwater      1.908355e-08  1.908355e-08\n",
      "Sediment_Ocean           4.726983e-03  4.726983e-03\n",
      "Sediment_Coast           1.081030e+00  1.081030e+00\n",
      "Beaches_Soil_Surface     1.173472e-04  6.928343e-06\n",
      "Beaches_Deep_Soil        1.104189e-04  1.423098e-05\n",
      "Background_Soil_Surface  2.141395e-07  1.253484e-08\n",
      "Background_Soil          2.016047e-07  2.510565e-08\n",
      "Impacted_Soil_Surface    4.353884e-09  8.230644e-10\n",
      "Impacted_Soil            3.530819e-09  4.316188e-10\n",
      "Air                      2.438090e-07  2.438090e-07\n"
     ]
    }
   ],
   "source": [
    "\n",
    "\"\"\"Estimate rate constants per particle\"\"\"\n",
    "\n",
    "for particle in system_particle_object_list:\n",
    "    generate_rateConstants(particle, spm, dict_comp, fsd,process_inputs_df)\n",
    "\n",
    "\n",
    "## create rate constants table:\n",
    "RC_df = create_rateConstants_table(system_particle_object_list)\n",
    "df4 = RC_df.fillna(0)\n",
    "\n",
    "\"\"\"Build Matrix of interactions\"\"\"\n",
    "\n",
    "interactions_df = fillInteractions_fun_OOP(\n",
    "    system_particle_object_list, SpeciesList, surfComp_list\n",
    ")\n",
    "\n",
    "\n",
    "\"\"\"SOLVE SYSTEM OF ODES\"\"\"\n",
    "\n",
    "\n",
    "R, PartMass_t0 = solve_ODES_SS(\n",
    "    system_particle_object_list=system_particle_object_list,\n",
    "    q_num_s=0,\n",
    "    imput_flows_g_s=imput_flows_g_s,\n",
    "    interactions_df=interactions_df,\n",
    ")\n",
    "\n",
    "# Reformat results (R) dataframe\n",
    "R[\"Size_Fraction_um\"] = [size_dict[x[0]] for x in R.index]\n",
    "R[\"MP_Form\"] = [MP_form_dict_reverse[x[1]] for x in R.index]\n",
    "R[\"Compartment\"] = [comp_dict_inverse[float(x[2:-7])] for x in R.index]\n",
    "\n",
    "Results = R[\n",
    "    [\n",
    "        \"Compartment\",\n",
    "        \"MP_Form\",\n",
    "        \"Size_Fraction_um\",\n",
    "        \"mass_g\",\n",
    "        \"number_of_particles\",\n",
    "        \"concentration_g_m3\",\n",
    "        \"concentration_num_m3\",\n",
    "    ]\n",
    "]\n",
    "\n",
    "# Solve mass balance and print result\n",
    "massBalance(R, system_particle_object_list, q_mass_g_s)\n",
    "\n",
    "\n",
    "# Test that there are no negative results\n",
    "for i, idx in zip(R[\"mass_g\"], R.index):\n",
    "    if i < 0:\n",
    "        print(\"negative values in the solution for \" + idx)\n",
    "    else:\n",
    "        pass\n",
    "\n",
    "# Estimate mass and number fractions and extract ranking tables of the species with higest fractions to understand the distribution of the particles in the system by mass and number of particles\n",
    "\n",
    "Results_extended, mf_shorted, nf_shorted = estimate_fractions(Results)\n",
    "\n",
    "# Organise results in dictionary for plotting\n",
    "\n",
    "Results_comp_dict = extract_by_comp(\n",
    "    Results_extended.reset_index(), particle_compartmentCoding\n",
    ")\n",
    "Results_comp_organiced = extract_by_aggSt(Results_comp_dict, particle_forms_coding)\n",
    "\n",
    "# Mass distribution by compartment\n",
    "mass_frac_100 = []\n",
    "num_frac_100 = []\n",
    "mass_conc_g_m3 = []\n",
    "num_conc = []\n",
    "for comp in list(dict_comp.keys()):\n",
    "    mass_frac_100.append(\n",
    "        sum(Results_extended[Results_extended[\"Compartment\"] == comp][\"mass_fraction\"])\n",
    "        * 100\n",
    "    )\n",
    "    num_frac_100.append(\n",
    "        sum(\n",
    "            Results_extended[Results_extended[\"Compartment\"] == comp][\"number_fraction\"]\n",
    "        )\n",
    "        * 100\n",
    "    )\n",
    "    mass_conc_g_m3.append(\n",
    "        sum(\n",
    "            Results_extended[Results_extended[\"Compartment\"] == comp][\n",
    "                \"concentration_g_m3\"\n",
    "            ]\n",
    "        )\n",
    "    )\n",
    "    num_conc.append(\n",
    "        sum(\n",
    "            Results_extended[Results_extended[\"Compartment\"] == comp][\n",
    "                \"concentration_num_m3\"\n",
    "            ]\n",
    "        )\n",
    "    )\n",
    "\n",
    "mass_dist_comp = pd.DataFrame(columns=[\"Compartments\"])\n",
    "mass_dist_comp[\"Compartments\"] = list(dict_comp.keys())\n",
    "mass_dist_comp[\"%_mass\"] = mass_frac_100\n",
    "mass_dist_comp[\"%_number\"] = num_frac_100\n",
    "mass_dist_comp[\"Concentration_g_m3\"] = mass_conc_g_m3\n",
    "mass_dist_comp[\"Concentration_num_m3\"] = num_conc\n",
    "\n",
    "### MASS BALANCE PER COMPARTMENT###\n",
    "\n",
    "# Estimate mass flows due to the different particle fate process (transfer between compartments, elimination and transformation processes)\n",
    "\n",
    "from functions.generate_compartmentFlows_tables import *\n",
    "\n",
    "# Estimate outflows in mass (g/s) amd number/second\n",
    "(tables_outputFlows, tables_outputFlows_number) = estimate_outFlows(\n",
    "    system_particle_object_list, dict_comp\n",
    ")\n",
    "\n",
    "\n",
    "# Estimate imput flows from transport from other compartments\n",
    "(tables_inputFlows, tables_inputFlows_num) = estimate_inFlows(\n",
    "    tables_outputFlows, tables_outputFlows_number, dict_comp, surfComp_list\n",
    ")\n",
    "# Decode index in input and output flow tables\n",
    "flows_dict_mass = dict()\n",
    "flows_dict_mass[\"input_flows\"] = {}\n",
    "flows_dict_mass[\"output_flows\"] = {}\n",
    "\n",
    "# Decode index in input and output flow tables\n",
    "for comp in tables_outputFlows.keys():\n",
    "    df1 = tables_outputFlows[comp].copy()\n",
    "    MP_size_df1 = []\n",
    "    MP_form_df1 = []\n",
    "    for x in df1.index:\n",
    "        MP_size_df1.append(size_dict[x[0]])\n",
    "        MP_form_df1.append(MP_form_dict_reverse[x[1:2]])\n",
    "\n",
    "    df1.insert(0, \"MP_size\", MP_size_df1)\n",
    "    df1.insert(1, \"MP_form\", MP_form_df1)\n",
    "    flows_dict_mass[\"output_flows\"][comp] = df1\n",
    "\n",
    "for comp in tables_inputFlows:\n",
    "    df2 = tables_inputFlows[comp].copy()\n",
    "    MP_size_df2 = []\n",
    "    MP_form_df2 = []\n",
    "    for y in df2.index:\n",
    "        MP_size_df2.append(size_dict[y[0]])\n",
    "        MP_form_df2.append(MP_form_dict_reverse[y[1:2]])\n",
    "    df2.insert(0, \"MP_size\", MP_size_df2)\n",
    "    df2.insert(1, \"MP_form\", MP_form_df2)\n",
    "    flows_dict_mass[\"input_flows\"][comp] = df2\n",
    "\n",
    "## Compartment mass balance\n",
    "\n",
    "comp_mass_balance = {}\n",
    "for comp in list(dict_comp.keys()):\n",
    "    comp_mass_balance[comp] = compartment_massBalance(\n",
    "        comp=comp,\n",
    "        tables_outputFlows=tables_outputFlows,\n",
    "        PartMass_t0=PartMass_t0,\n",
    "        comp_dict_inverse=comp_dict_inverse,\n",
    "        dict_comp=dict_comp,\n",
    "        tables_inputFlows=tables_inputFlows,\n",
    "    )\n",
    "\n",
    "# Print compartment mass balance table\n",
    "comp_mass_balance_df = pd.DataFrame.from_dict(comp_mass_balance, orient=\"index\")\n",
    "print(comp_mass_balance_df)\n",
    "\n",
    "comp_mass_balance_df[\"Mass balance\"] = [\n",
    "    comp_mass_balance_df[\"Inflow\"][c] - comp_mass_balance_df[\"Outflow\"][c]\n",
    "    for c in comp_mass_balance_df.index\n",
    "]\n",
    "\n",
    "# Add total steady state mass and number of particles concentrations to dataframe\n",
    "\n",
    "# comp_mass_balance_df[\"Total Mass (g)\"] = [sum(Results_comp_dict[c].mass_g) for c in comp_mass_balance_df.index]\n",
    "# comp_mass_balance_df[\"Total Number of Particles\"] = [sum(Results_comp_dict[c].number_of_particles) for c in comp_mass_balance_df.index]\n",
    "comp_mass_balance_df[\"Concentration (g/m3)\"] = [\n",
    "    sum(Results_comp_dict[c].concentration_g_m3) for c in comp_mass_balance_df.index\n",
    "]\n",
    "comp_mass_balance_df[\"Concentration (N/m3)\"] = [\n",
    "    sum(Results_comp_dict[c].concentration_num_m3) for c in comp_mass_balance_df.index\n",
    "]\n"
   ]
  },
  {
   "cell_type": "code",
   "execution_count": 145,
   "metadata": {},
   "outputs": [
    {
     "data": {
      "text/html": [
       "<div>\n",
       "<style scoped>\n",
       "    .dataframe tbody tr th:only-of-type {\n",
       "        vertical-align: middle;\n",
       "    }\n",
       "\n",
       "    .dataframe tbody tr th {\n",
       "        vertical-align: top;\n",
       "    }\n",
       "\n",
       "    .dataframe thead th {\n",
       "        text-align: right;\n",
       "    }\n",
       "</style>\n",
       "<table border=\"1\" class=\"dataframe\">\n",
       "  <thead>\n",
       "    <tr style=\"text-align: right;\">\n",
       "      <th></th>\n",
       "      <th>species</th>\n",
       "      <th>Compartment</th>\n",
       "      <th>MP_Form</th>\n",
       "      <th>Size_Fraction_um</th>\n",
       "      <th>mass_g</th>\n",
       "      <th>number_of_particles</th>\n",
       "      <th>concentration_g_m3</th>\n",
       "      <th>concentration_num_m3</th>\n",
       "      <th>mass_fraction</th>\n",
       "      <th>number_fraction</th>\n",
       "    </tr>\n",
       "  </thead>\n",
       "  <tbody>\n",
       "    <tr>\n",
       "      <th>0</th>\n",
       "      <td>aA0_Utopia</td>\n",
       "      <td>Ocean_Surface_Water</td>\n",
       "      <td>freeMP</td>\n",
       "      <td>0.5</td>\n",
       "      <td>2.500923e-06</td>\n",
       "      <td>2.418436e+07</td>\n",
       "      <td>1.454025e-21</td>\n",
       "      <td>1.406067e-08</td>\n",
       "      <td>2.885071e-15</td>\n",
       "      <td>3.249814e-14</td>\n",
       "    </tr>\n",
       "    <tr>\n",
       "      <th>1</th>\n",
       "      <td>bA0_Utopia</td>\n",
       "      <td>Ocean_Surface_Water</td>\n",
       "      <td>freeMP</td>\n",
       "      <td>5.0</td>\n",
       "      <td>4.014538e-07</td>\n",
       "      <td>3.882128e+03</td>\n",
       "      <td>2.334034e-22</td>\n",
       "      <td>2.257051e-12</td>\n",
       "      <td>4.631182e-16</td>\n",
       "      <td>5.216675e-18</td>\n",
       "    </tr>\n",
       "    <tr>\n",
       "      <th>2</th>\n",
       "      <td>cA0_Utopia</td>\n",
       "      <td>Ocean_Surface_Water</td>\n",
       "      <td>freeMP</td>\n",
       "      <td>50.0</td>\n",
       "      <td>1.441359e-10</td>\n",
       "      <td>1.393820e-03</td>\n",
       "      <td>8.379997e-26</td>\n",
       "      <td>8.103602e-19</td>\n",
       "      <td>1.662756e-19</td>\n",
       "      <td>1.872968e-24</td>\n",
       "    </tr>\n",
       "    <tr>\n",
       "      <th>3</th>\n",
       "      <td>dA0_Utopia</td>\n",
       "      <td>Ocean_Surface_Water</td>\n",
       "      <td>freeMP</td>\n",
       "      <td>500.0</td>\n",
       "      <td>1.287493e-15</td>\n",
       "      <td>1.245028e-11</td>\n",
       "      <td>7.485426e-31</td>\n",
       "      <td>7.238537e-27</td>\n",
       "      <td>1.485255e-24</td>\n",
       "      <td>1.673028e-32</td>\n",
       "    </tr>\n",
       "    <tr>\n",
       "      <th>4</th>\n",
       "      <td>eA0_Utopia</td>\n",
       "      <td>Ocean_Surface_Water</td>\n",
       "      <td>freeMP</td>\n",
       "      <td>5000.0</td>\n",
       "      <td>4.956934e-15</td>\n",
       "      <td>4.793441e-14</td>\n",
       "      <td>2.881938e-30</td>\n",
       "      <td>2.786884e-29</td>\n",
       "      <td>5.718331e-24</td>\n",
       "      <td>6.441267e-35</td>\n",
       "    </tr>\n",
       "    <tr>\n",
       "      <th>5</th>\n",
       "      <td>aB0_Utopia</td>\n",
       "      <td>Ocean_Surface_Water</td>\n",
       "      <td>heterMP</td>\n",
       "      <td>0.5</td>\n",
       "      <td>2.254044e+02</td>\n",
       "      <td>2.179700e+15</td>\n",
       "      <td>1.310491e-13</td>\n",
       "      <td>1.267267e+00</td>\n",
       "      <td>2.600271e-07</td>\n",
       "      <td>2.929008e-06</td>\n",
       "    </tr>\n",
       "    <tr>\n",
       "      <th>6</th>\n",
       "      <td>bB0_Utopia</td>\n",
       "      <td>Ocean_Surface_Water</td>\n",
       "      <td>heterMP</td>\n",
       "      <td>5.0</td>\n",
       "      <td>4.218574e+01</td>\n",
       "      <td>4.079434e+11</td>\n",
       "      <td>2.452659e-14</td>\n",
       "      <td>2.371764e-04</td>\n",
       "      <td>4.866557e-08</td>\n",
       "      <td>5.481808e-10</td>\n",
       "    </tr>\n",
       "    <tr>\n",
       "      <th>7</th>\n",
       "      <td>cB0_Utopia</td>\n",
       "      <td>Ocean_Surface_Water</td>\n",
       "      <td>heterMP</td>\n",
       "      <td>50.0</td>\n",
       "      <td>1.401432e-01</td>\n",
       "      <td>1.355209e+06</td>\n",
       "      <td>8.147861e-17</td>\n",
       "      <td>7.879123e-10</td>\n",
       "      <td>1.616695e-10</td>\n",
       "      <td>1.821085e-15</td>\n",
       "    </tr>\n",
       "    <tr>\n",
       "      <th>8</th>\n",
       "      <td>dB0_Utopia</td>\n",
       "      <td>Ocean_Surface_Water</td>\n",
       "      <td>heterMP</td>\n",
       "      <td>500.0</td>\n",
       "      <td>1.238522e-06</td>\n",
       "      <td>1.197673e-02</td>\n",
       "      <td>7.200712e-22</td>\n",
       "      <td>6.963214e-18</td>\n",
       "      <td>1.428763e-15</td>\n",
       "      <td>1.609393e-23</td>\n",
       "    </tr>\n",
       "    <tr>\n",
       "      <th>9</th>\n",
       "      <td>eB0_Utopia</td>\n",
       "      <td>Ocean_Surface_Water</td>\n",
       "      <td>heterMP</td>\n",
       "      <td>5000.0</td>\n",
       "      <td>2.120307e-07</td>\n",
       "      <td>2.050373e-06</td>\n",
       "      <td>1.232736e-22</td>\n",
       "      <td>1.192078e-21</td>\n",
       "      <td>2.445991e-16</td>\n",
       "      <td>2.755224e-27</td>\n",
       "    </tr>\n",
       "    <tr>\n",
       "      <th>10</th>\n",
       "      <td>aC0_Utopia</td>\n",
       "      <td>Ocean_Surface_Water</td>\n",
       "      <td>biofMP</td>\n",
       "      <td>0.5</td>\n",
       "      <td>9.673664e-06</td>\n",
       "      <td>2.853185e+04</td>\n",
       "      <td>5.624223e-21</td>\n",
       "      <td>1.658829e-11</td>\n",
       "      <td>1.115956e-14</td>\n",
       "      <td>3.834015e-17</td>\n",
       "    </tr>\n",
       "    <tr>\n",
       "      <th>11</th>\n",
       "      <td>bC0_Utopia</td>\n",
       "      <td>Ocean_Surface_Water</td>\n",
       "      <td>biofMP</td>\n",
       "      <td>5.0</td>\n",
       "      <td>3.014652e-07</td>\n",
       "      <td>2.232432e+02</td>\n",
       "      <td>1.752704e-22</td>\n",
       "      <td>1.297925e-13</td>\n",
       "      <td>3.477710e-16</td>\n",
       "      <td>2.999868e-19</td>\n",
       "    </tr>\n",
       "    <tr>\n",
       "      <th>12</th>\n",
       "      <td>cC0_Utopia</td>\n",
       "      <td>Ocean_Surface_Water</td>\n",
       "      <td>biofMP</td>\n",
       "      <td>50.0</td>\n",
       "      <td>1.019560e-11</td>\n",
       "      <td>6.843812e-05</td>\n",
       "      <td>5.927676e-27</td>\n",
       "      <td>3.978960e-20</td>\n",
       "      <td>1.176167e-20</td>\n",
       "      <td>9.196486e-26</td>\n",
       "    </tr>\n",
       "    <tr>\n",
       "      <th>13</th>\n",
       "      <td>dC0_Utopia</td>\n",
       "      <td>Ocean_Surface_Water</td>\n",
       "      <td>biofMP</td>\n",
       "      <td>500.0</td>\n",
       "      <td>9.661810e-19</td>\n",
       "      <td>8.994152e-15</td>\n",
       "      <td>5.617331e-34</td>\n",
       "      <td>5.229158e-30</td>\n",
       "      <td>1.114589e-27</td>\n",
       "      <td>1.208604e-35</td>\n",
       "    </tr>\n",
       "    <tr>\n",
       "      <th>14</th>\n",
       "      <td>eC0_Utopia</td>\n",
       "      <td>Ocean_Surface_Water</td>\n",
       "      <td>biofMP</td>\n",
       "      <td>5000.0</td>\n",
       "      <td>2.617273e-22</td>\n",
       "      <td>2.521292e-21</td>\n",
       "      <td>1.521670e-37</td>\n",
       "      <td>1.465867e-36</td>\n",
       "      <td>3.019292e-31</td>\n",
       "      <td>3.388028e-42</td>\n",
       "    </tr>\n",
       "    <tr>\n",
       "      <th>15</th>\n",
       "      <td>aD0_Utopia</td>\n",
       "      <td>Ocean_Surface_Water</td>\n",
       "      <td>heterBiofMP</td>\n",
       "      <td>0.5</td>\n",
       "      <td>9.691789e+02</td>\n",
       "      <td>9.372128e+15</td>\n",
       "      <td>5.634761e-13</td>\n",
       "      <td>5.448912e+00</td>\n",
       "      <td>1.118047e-06</td>\n",
       "      <td>1.259395e-05</td>\n",
       "    </tr>\n",
       "    <tr>\n",
       "      <th>16</th>\n",
       "      <td>bD0_Utopia</td>\n",
       "      <td>Ocean_Surface_Water</td>\n",
       "      <td>heterBiofMP</td>\n",
       "      <td>5.0</td>\n",
       "      <td>8.243822e+01</td>\n",
       "      <td>7.971920e+11</td>\n",
       "      <td>4.792920e-14</td>\n",
       "      <td>4.634837e-04</td>\n",
       "      <td>9.510094e-08</td>\n",
       "      <td>1.071240e-09</td>\n",
       "    </tr>\n",
       "    <tr>\n",
       "      <th>17</th>\n",
       "      <td>cD0_Utopia</td>\n",
       "      <td>Ocean_Surface_Water</td>\n",
       "      <td>heterBiofMP</td>\n",
       "      <td>50.0</td>\n",
       "      <td>1.016657e-02</td>\n",
       "      <td>9.831248e+04</td>\n",
       "      <td>5.910795e-18</td>\n",
       "      <td>5.715842e-11</td>\n",
       "      <td>1.172818e-11</td>\n",
       "      <td>1.321090e-16</td>\n",
       "    </tr>\n",
       "    <tr>\n",
       "      <th>18</th>\n",
       "      <td>dD0_Utopia</td>\n",
       "      <td>Ocean_Surface_Water</td>\n",
       "      <td>heterBiofMP</td>\n",
       "      <td>500.0</td>\n",
       "      <td>9.661309e-10</td>\n",
       "      <td>9.342654e-06</td>\n",
       "      <td>5.617040e-25</td>\n",
       "      <td>5.431775e-21</td>\n",
       "      <td>1.114531e-18</td>\n",
       "      <td>1.255435e-26</td>\n",
       "    </tr>\n",
       "    <tr>\n",
       "      <th>19</th>\n",
       "      <td>eD0_Utopia</td>\n",
       "      <td>Ocean_Surface_Water</td>\n",
       "      <td>heterBiofMP</td>\n",
       "      <td>5000.0</td>\n",
       "      <td>2.611932e-13</td>\n",
       "      <td>2.525784e-12</td>\n",
       "      <td>1.518565e-28</td>\n",
       "      <td>1.468479e-27</td>\n",
       "      <td>3.013132e-22</td>\n",
       "      <td>3.394064e-33</td>\n",
       "    </tr>\n",
       "  </tbody>\n",
       "</table>\n",
       "</div>"
      ],
      "text/plain": [
       "       species          Compartment      MP_Form  Size_Fraction_um  \\\n",
       "0   aA0_Utopia  Ocean_Surface_Water       freeMP               0.5   \n",
       "1   bA0_Utopia  Ocean_Surface_Water       freeMP               5.0   \n",
       "2   cA0_Utopia  Ocean_Surface_Water       freeMP              50.0   \n",
       "3   dA0_Utopia  Ocean_Surface_Water       freeMP             500.0   \n",
       "4   eA0_Utopia  Ocean_Surface_Water       freeMP            5000.0   \n",
       "5   aB0_Utopia  Ocean_Surface_Water      heterMP               0.5   \n",
       "6   bB0_Utopia  Ocean_Surface_Water      heterMP               5.0   \n",
       "7   cB0_Utopia  Ocean_Surface_Water      heterMP              50.0   \n",
       "8   dB0_Utopia  Ocean_Surface_Water      heterMP             500.0   \n",
       "9   eB0_Utopia  Ocean_Surface_Water      heterMP            5000.0   \n",
       "10  aC0_Utopia  Ocean_Surface_Water       biofMP               0.5   \n",
       "11  bC0_Utopia  Ocean_Surface_Water       biofMP               5.0   \n",
       "12  cC0_Utopia  Ocean_Surface_Water       biofMP              50.0   \n",
       "13  dC0_Utopia  Ocean_Surface_Water       biofMP             500.0   \n",
       "14  eC0_Utopia  Ocean_Surface_Water       biofMP            5000.0   \n",
       "15  aD0_Utopia  Ocean_Surface_Water  heterBiofMP               0.5   \n",
       "16  bD0_Utopia  Ocean_Surface_Water  heterBiofMP               5.0   \n",
       "17  cD0_Utopia  Ocean_Surface_Water  heterBiofMP              50.0   \n",
       "18  dD0_Utopia  Ocean_Surface_Water  heterBiofMP             500.0   \n",
       "19  eD0_Utopia  Ocean_Surface_Water  heterBiofMP            5000.0   \n",
       "\n",
       "          mass_g  number_of_particles  concentration_g_m3  \\\n",
       "0   2.500923e-06         2.418436e+07        1.454025e-21   \n",
       "1   4.014538e-07         3.882128e+03        2.334034e-22   \n",
       "2   1.441359e-10         1.393820e-03        8.379997e-26   \n",
       "3   1.287493e-15         1.245028e-11        7.485426e-31   \n",
       "4   4.956934e-15         4.793441e-14        2.881938e-30   \n",
       "5   2.254044e+02         2.179700e+15        1.310491e-13   \n",
       "6   4.218574e+01         4.079434e+11        2.452659e-14   \n",
       "7   1.401432e-01         1.355209e+06        8.147861e-17   \n",
       "8   1.238522e-06         1.197673e-02        7.200712e-22   \n",
       "9   2.120307e-07         2.050373e-06        1.232736e-22   \n",
       "10  9.673664e-06         2.853185e+04        5.624223e-21   \n",
       "11  3.014652e-07         2.232432e+02        1.752704e-22   \n",
       "12  1.019560e-11         6.843812e-05        5.927676e-27   \n",
       "13  9.661810e-19         8.994152e-15        5.617331e-34   \n",
       "14  2.617273e-22         2.521292e-21        1.521670e-37   \n",
       "15  9.691789e+02         9.372128e+15        5.634761e-13   \n",
       "16  8.243822e+01         7.971920e+11        4.792920e-14   \n",
       "17  1.016657e-02         9.831248e+04        5.910795e-18   \n",
       "18  9.661309e-10         9.342654e-06        5.617040e-25   \n",
       "19  2.611932e-13         2.525784e-12        1.518565e-28   \n",
       "\n",
       "    concentration_num_m3  mass_fraction  number_fraction  \n",
       "0           1.406067e-08   2.885071e-15     3.249814e-14  \n",
       "1           2.257051e-12   4.631182e-16     5.216675e-18  \n",
       "2           8.103602e-19   1.662756e-19     1.872968e-24  \n",
       "3           7.238537e-27   1.485255e-24     1.673028e-32  \n",
       "4           2.786884e-29   5.718331e-24     6.441267e-35  \n",
       "5           1.267267e+00   2.600271e-07     2.929008e-06  \n",
       "6           2.371764e-04   4.866557e-08     5.481808e-10  \n",
       "7           7.879123e-10   1.616695e-10     1.821085e-15  \n",
       "8           6.963214e-18   1.428763e-15     1.609393e-23  \n",
       "9           1.192078e-21   2.445991e-16     2.755224e-27  \n",
       "10          1.658829e-11   1.115956e-14     3.834015e-17  \n",
       "11          1.297925e-13   3.477710e-16     2.999868e-19  \n",
       "12          3.978960e-20   1.176167e-20     9.196486e-26  \n",
       "13          5.229158e-30   1.114589e-27     1.208604e-35  \n",
       "14          1.465867e-36   3.019292e-31     3.388028e-42  \n",
       "15          5.448912e+00   1.118047e-06     1.259395e-05  \n",
       "16          4.634837e-04   9.510094e-08     1.071240e-09  \n",
       "17          5.715842e-11   1.172818e-11     1.321090e-16  \n",
       "18          5.431775e-21   1.114531e-18     1.255435e-26  \n",
       "19          1.468479e-27   3.013132e-22     3.394064e-33  "
      ]
     },
     "execution_count": 145,
     "metadata": {},
     "output_type": "execute_result"
    }
   ],
   "source": [
    "Results_comp_dict[\"Ocean_Surface_Water\"]"
   ]
  },
  {
   "cell_type": "markdown",
   "metadata": {},
   "source": [
    "#### Mass and particle number distribution per compartment"
   ]
  },
  {
   "cell_type": "code",
   "execution_count": 130,
   "metadata": {},
   "outputs": [
    {
     "data": {
      "text/html": [
       "<div>\n",
       "<style scoped>\n",
       "    .dataframe tbody tr th:only-of-type {\n",
       "        vertical-align: middle;\n",
       "    }\n",
       "\n",
       "    .dataframe tbody tr th {\n",
       "        vertical-align: top;\n",
       "    }\n",
       "\n",
       "    .dataframe thead th {\n",
       "        text-align: right;\n",
       "    }\n",
       "</style>\n",
       "<table border=\"1\" class=\"dataframe\">\n",
       "  <thead>\n",
       "    <tr style=\"text-align: right;\">\n",
       "      <th></th>\n",
       "      <th>Compartments</th>\n",
       "      <th>%_mass</th>\n",
       "      <th>%_number</th>\n",
       "      <th>Concentration_g_m3</th>\n",
       "      <th>Concentration_num_m3</th>\n",
       "    </tr>\n",
       "  </thead>\n",
       "  <tbody>\n",
       "    <tr>\n",
       "      <th>0</th>\n",
       "      <td>Ocean_Surface_Water</td>\n",
       "      <td>1.522014e-04</td>\n",
       "      <td>1.552458e-03</td>\n",
       "      <td>7.670684e-13</td>\n",
       "      <td>6.716880e+00</td>\n",
       "    </tr>\n",
       "    <tr>\n",
       "      <th>1</th>\n",
       "      <td>Ocean_Mixed_Water</td>\n",
       "      <td>3.047457e-03</td>\n",
       "      <td>3.108181e-02</td>\n",
       "      <td>7.679323e-13</td>\n",
       "      <td>6.723943e+00</td>\n",
       "    </tr>\n",
       "    <tr>\n",
       "      <th>2</th>\n",
       "      <td>Ocean_Column_Water</td>\n",
       "      <td>1.116734e-01</td>\n",
       "      <td>1.151020e+00</td>\n",
       "      <td>9.398450e-13</td>\n",
       "      <td>8.316143e+00</td>\n",
       "    </tr>\n",
       "    <tr>\n",
       "      <th>3</th>\n",
       "      <td>Coast_Surface_Water</td>\n",
       "      <td>7.314590e-05</td>\n",
       "      <td>6.974724e-04</td>\n",
       "      <td>2.869073e-11</td>\n",
       "      <td>2.348610e+02</td>\n",
       "    </tr>\n",
       "    <tr>\n",
       "      <th>4</th>\n",
       "      <td>Coast_Column_Water</td>\n",
       "      <td>1.465217e-03</td>\n",
       "      <td>1.396568e-02</td>\n",
       "      <td>2.873581e-11</td>\n",
       "      <td>2.351343e+02</td>\n",
       "    </tr>\n",
       "    <tr>\n",
       "      <th>5</th>\n",
       "      <td>Surface_Freshwater</td>\n",
       "      <td>1.279659e-10</td>\n",
       "      <td>1.276563e-09</td>\n",
       "      <td>1.225715e-16</td>\n",
       "      <td>1.049711e-03</td>\n",
       "    </tr>\n",
       "    <tr>\n",
       "      <th>6</th>\n",
       "      <td>Bulk_Freshwater</td>\n",
       "      <td>1.280494e-09</td>\n",
       "      <td>1.277348e-08</td>\n",
       "      <td>1.226515e-16</td>\n",
       "      <td>1.050357e-03</td>\n",
       "    </tr>\n",
       "    <tr>\n",
       "      <th>7</th>\n",
       "      <td>Sediment_Freshwater</td>\n",
       "      <td>5.786132e-07</td>\n",
       "      <td>5.447804e-06</td>\n",
       "      <td>5.542218e-12</td>\n",
       "      <td>4.479701e+01</td>\n",
       "    </tr>\n",
       "    <tr>\n",
       "      <th>8</th>\n",
       "      <td>Sediment_Ocean</td>\n",
       "      <td>9.224110e-01</td>\n",
       "      <td>8.770872e+00</td>\n",
       "      <td>7.763026e-07</td>\n",
       "      <td>6.336971e+06</td>\n",
       "    </tr>\n",
       "    <tr>\n",
       "      <th>9</th>\n",
       "      <td>Sediment_Coast</td>\n",
       "      <td>9.895132e+01</td>\n",
       "      <td>8.993626e+01</td>\n",
       "      <td>9.714148e-04</td>\n",
       "      <td>7.579669e+08</td>\n",
       "    </tr>\n",
       "    <tr>\n",
       "      <th>10</th>\n",
       "      <td>Beaches_Soil_Surface</td>\n",
       "      <td>1.010058e-03</td>\n",
       "      <td>9.679134e-03</td>\n",
       "      <td>1.557951e-08</td>\n",
       "      <td>1.281670e+05</td>\n",
       "    </tr>\n",
       "    <tr>\n",
       "      <th>11</th>\n",
       "      <td>Beaches_Deep_Soil</td>\n",
       "      <td>8.798799e-03</td>\n",
       "      <td>8.439355e-02</td>\n",
       "      <td>1.357159e-08</td>\n",
       "      <td>1.117504e+05</td>\n",
       "    </tr>\n",
       "    <tr>\n",
       "      <th>12</th>\n",
       "      <td>Background_Soil_Surface</td>\n",
       "      <td>1.844180e-06</td>\n",
       "      <td>1.739381e-05</td>\n",
       "      <td>1.800256e-11</td>\n",
       "      <td>1.457665e+02</td>\n",
       "    </tr>\n",
       "    <tr>\n",
       "      <th>13</th>\n",
       "      <td>Background_Soil</td>\n",
       "      <td>1.614526e-05</td>\n",
       "      <td>1.524603e-04</td>\n",
       "      <td>1.576072e-11</td>\n",
       "      <td>1.277673e+02</td>\n",
       "    </tr>\n",
       "    <tr>\n",
       "      <th>14</th>\n",
       "      <td>Impacted_Soil_Surface</td>\n",
       "      <td>6.459640e-07</td>\n",
       "      <td>6.128108e-06</td>\n",
       "      <td>9.458678e-12</td>\n",
       "      <td>7.703372e+01</td>\n",
       "    </tr>\n",
       "    <tr>\n",
       "      <th>15</th>\n",
       "      <td>Impacted_Soil</td>\n",
       "      <td>2.834996e-07</td>\n",
       "      <td>2.692588e-06</td>\n",
       "      <td>8.302418e-12</td>\n",
       "      <td>6.769464e+01</td>\n",
       "    </tr>\n",
       "    <tr>\n",
       "      <th>16</th>\n",
       "      <td>Air</td>\n",
       "      <td>2.627264e-05</td>\n",
       "      <td>2.953623e-04</td>\n",
       "      <td>7.442624e-17</td>\n",
       "      <td>7.183064e-04</td>\n",
       "    </tr>\n",
       "  </tbody>\n",
       "</table>\n",
       "</div>"
      ],
      "text/plain": [
       "               Compartments        %_mass      %_number  Concentration_g_m3  \\\n",
       "0       Ocean_Surface_Water  1.522014e-04  1.552458e-03        7.670684e-13   \n",
       "1         Ocean_Mixed_Water  3.047457e-03  3.108181e-02        7.679323e-13   \n",
       "2        Ocean_Column_Water  1.116734e-01  1.151020e+00        9.398450e-13   \n",
       "3       Coast_Surface_Water  7.314590e-05  6.974724e-04        2.869073e-11   \n",
       "4        Coast_Column_Water  1.465217e-03  1.396568e-02        2.873581e-11   \n",
       "5        Surface_Freshwater  1.279659e-10  1.276563e-09        1.225715e-16   \n",
       "6           Bulk_Freshwater  1.280494e-09  1.277348e-08        1.226515e-16   \n",
       "7       Sediment_Freshwater  5.786132e-07  5.447804e-06        5.542218e-12   \n",
       "8            Sediment_Ocean  9.224110e-01  8.770872e+00        7.763026e-07   \n",
       "9            Sediment_Coast  9.895132e+01  8.993626e+01        9.714148e-04   \n",
       "10     Beaches_Soil_Surface  1.010058e-03  9.679134e-03        1.557951e-08   \n",
       "11        Beaches_Deep_Soil  8.798799e-03  8.439355e-02        1.357159e-08   \n",
       "12  Background_Soil_Surface  1.844180e-06  1.739381e-05        1.800256e-11   \n",
       "13          Background_Soil  1.614526e-05  1.524603e-04        1.576072e-11   \n",
       "14    Impacted_Soil_Surface  6.459640e-07  6.128108e-06        9.458678e-12   \n",
       "15            Impacted_Soil  2.834996e-07  2.692588e-06        8.302418e-12   \n",
       "16                      Air  2.627264e-05  2.953623e-04        7.442624e-17   \n",
       "\n",
       "    Concentration_num_m3  \n",
       "0           6.716880e+00  \n",
       "1           6.723943e+00  \n",
       "2           8.316143e+00  \n",
       "3           2.348610e+02  \n",
       "4           2.351343e+02  \n",
       "5           1.049711e-03  \n",
       "6           1.050357e-03  \n",
       "7           4.479701e+01  \n",
       "8           6.336971e+06  \n",
       "9           7.579669e+08  \n",
       "10          1.281670e+05  \n",
       "11          1.117504e+05  \n",
       "12          1.457665e+02  \n",
       "13          1.277673e+02  \n",
       "14          7.703372e+01  \n",
       "15          6.769464e+01  \n",
       "16          7.183064e-04  "
      ]
     },
     "execution_count": 130,
     "metadata": {},
     "output_type": "execute_result"
    }
   ],
   "source": [
    "mass_dist_comp"
   ]
  },
  {
   "cell_type": "markdown",
   "metadata": {},
   "source": [
    "#### Size fraction distribution"
   ]
  },
  {
   "cell_type": "code",
   "execution_count": 131,
   "metadata": {},
   "outputs": [
    {
     "data": {
      "text/html": [
       "<div>\n",
       "<style scoped>\n",
       "    .dataframe tbody tr th:only-of-type {\n",
       "        vertical-align: middle;\n",
       "    }\n",
       "\n",
       "    .dataframe tbody tr th {\n",
       "        vertical-align: top;\n",
       "    }\n",
       "\n",
       "    .dataframe thead th {\n",
       "        text-align: right;\n",
       "    }\n",
       "</style>\n",
       "<table border=\"1\" class=\"dataframe\">\n",
       "  <thead>\n",
       "    <tr style=\"text-align: right;\">\n",
       "      <th></th>\n",
       "      <th>% of total mass</th>\n",
       "    </tr>\n",
       "  </thead>\n",
       "  <tbody>\n",
       "    <tr>\n",
       "      <th>0.5</th>\n",
       "      <td>8.88</td>\n",
       "    </tr>\n",
       "    <tr>\n",
       "      <th>5.0</th>\n",
       "      <td>1.88</td>\n",
       "    </tr>\n",
       "    <tr>\n",
       "      <th>50.0</th>\n",
       "      <td>1.20</td>\n",
       "    </tr>\n",
       "    <tr>\n",
       "      <th>500.0</th>\n",
       "      <td>0.59</td>\n",
       "    </tr>\n",
       "    <tr>\n",
       "      <th>5000.0</th>\n",
       "      <td>87.46</td>\n",
       "    </tr>\n",
       "  </tbody>\n",
       "</table>\n",
       "</div>"
      ],
      "text/plain": [
       "        % of total mass\n",
       "0.5                8.88\n",
       "5.0                1.88\n",
       "50.0               1.20\n",
       "500.0              0.59\n",
       "5000.0            87.46"
      ]
     },
     "execution_count": 131,
     "metadata": {},
     "output_type": "execute_result"
    }
   ],
   "source": [
    "size_distr={}\n",
    "for size in [0.5, 5, 50, 500, 5000]:\n",
    "    size_distr[size]=round(sum(Results_extended[Results_extended[\"Size_Fraction_um\"] == size][\"mass_g\"])/sum(Results_extended[\"mass_g\"])*100,2)\n",
    "\n",
    "pd.DataFrame.from_dict(size_distr, orient=\"index\", columns=[\"% of total mass\"])"
   ]
  },
  {
   "cell_type": "code",
   "execution_count": 132,
   "metadata": {},
   "outputs": [
    {
     "data": {
      "text/html": [
       "<div>\n",
       "<style scoped>\n",
       "    .dataframe tbody tr th:only-of-type {\n",
       "        vertical-align: middle;\n",
       "    }\n",
       "\n",
       "    .dataframe tbody tr th {\n",
       "        vertical-align: top;\n",
       "    }\n",
       "\n",
       "    .dataframe thead th {\n",
       "        text-align: right;\n",
       "    }\n",
       "</style>\n",
       "<table border=\"1\" class=\"dataframe\">\n",
       "  <thead>\n",
       "    <tr style=\"text-align: right;\">\n",
       "      <th></th>\n",
       "      <th>% of total mass</th>\n",
       "    </tr>\n",
       "  </thead>\n",
       "  <tbody>\n",
       "    <tr>\n",
       "      <th>freeMP</th>\n",
       "      <td>0.00</td>\n",
       "    </tr>\n",
       "    <tr>\n",
       "      <th>heterMP</th>\n",
       "      <td>98.78</td>\n",
       "    </tr>\n",
       "    <tr>\n",
       "      <th>biofMP</th>\n",
       "      <td>0.00</td>\n",
       "    </tr>\n",
       "    <tr>\n",
       "      <th>heterBiofMP</th>\n",
       "      <td>1.22</td>\n",
       "    </tr>\n",
       "  </tbody>\n",
       "</table>\n",
       "</div>"
      ],
      "text/plain": [
       "             % of total mass\n",
       "freeMP                  0.00\n",
       "heterMP                98.78\n",
       "biofMP                  0.00\n",
       "heterBiofMP             1.22"
      ]
     },
     "execution_count": 132,
     "metadata": {},
     "output_type": "execute_result"
    }
   ],
   "source": [
    "form_distr={}\n",
    "for form in [\"freeMP\",\"heterMP\", \"biofMP\", \"heterBiofMP\"]:\n",
    "    form_distr[form]=round(sum(Results_extended[Results_extended[\"MP_Form\"] == form][\"mass_g\"])/sum(Results_extended[\"mass_g\"])*100,2)\n",
    "\n",
    "pd.DataFrame.from_dict(form_distr, orient=\"index\", columns=[\"% of total mass\"])"
   ]
  },
  {
   "cell_type": "markdown",
   "metadata": {},
   "source": [
    "### Mass and number distribution heatmaps"
   ]
  },
  {
   "cell_type": "code",
   "execution_count": 146,
   "metadata": {},
   "outputs": [
    {
     "data": {
      "text/html": [
       "<div>\n",
       "<style scoped>\n",
       "    .dataframe tbody tr th:only-of-type {\n",
       "        vertical-align: middle;\n",
       "    }\n",
       "\n",
       "    .dataframe tbody tr th {\n",
       "        vertical-align: top;\n",
       "    }\n",
       "\n",
       "    .dataframe thead th {\n",
       "        text-align: right;\n",
       "    }\n",
       "</style>\n",
       "<table border=\"1\" class=\"dataframe\">\n",
       "  <thead>\n",
       "    <tr style=\"text-align: right;\">\n",
       "      <th></th>\n",
       "      <th>Compartment</th>\n",
       "      <th>MP_Form</th>\n",
       "      <th>Size_Fraction_um</th>\n",
       "      <th>mass_g</th>\n",
       "      <th>number_of_particles</th>\n",
       "      <th>concentration_g_m3</th>\n",
       "      <th>concentration_num_m3</th>\n",
       "      <th>mass_fraction</th>\n",
       "      <th>number_fraction</th>\n",
       "    </tr>\n",
       "    <tr>\n",
       "      <th>species</th>\n",
       "      <th></th>\n",
       "      <th></th>\n",
       "      <th></th>\n",
       "      <th></th>\n",
       "      <th></th>\n",
       "      <th></th>\n",
       "      <th></th>\n",
       "      <th></th>\n",
       "      <th></th>\n",
       "    </tr>\n",
       "  </thead>\n",
       "  <tbody>\n",
       "    <tr>\n",
       "      <th>aA0_Utopia</th>\n",
       "      <td>Ocean_Surface_Water</td>\n",
       "      <td>freeMP</td>\n",
       "      <td>0.5</td>\n",
       "      <td>2.500923e-06</td>\n",
       "      <td>2.418436e+07</td>\n",
       "      <td>1.454025e-21</td>\n",
       "      <td>1.406067e-08</td>\n",
       "      <td>2.885071e-15</td>\n",
       "      <td>3.249814e-14</td>\n",
       "    </tr>\n",
       "    <tr>\n",
       "      <th>bA0_Utopia</th>\n",
       "      <td>Ocean_Surface_Water</td>\n",
       "      <td>freeMP</td>\n",
       "      <td>5.0</td>\n",
       "      <td>4.014538e-07</td>\n",
       "      <td>3.882128e+03</td>\n",
       "      <td>2.334034e-22</td>\n",
       "      <td>2.257051e-12</td>\n",
       "      <td>4.631182e-16</td>\n",
       "      <td>5.216675e-18</td>\n",
       "    </tr>\n",
       "    <tr>\n",
       "      <th>cA0_Utopia</th>\n",
       "      <td>Ocean_Surface_Water</td>\n",
       "      <td>freeMP</td>\n",
       "      <td>50.0</td>\n",
       "      <td>1.441359e-10</td>\n",
       "      <td>1.393820e-03</td>\n",
       "      <td>8.379997e-26</td>\n",
       "      <td>8.103602e-19</td>\n",
       "      <td>1.662756e-19</td>\n",
       "      <td>1.872968e-24</td>\n",
       "    </tr>\n",
       "    <tr>\n",
       "      <th>dA0_Utopia</th>\n",
       "      <td>Ocean_Surface_Water</td>\n",
       "      <td>freeMP</td>\n",
       "      <td>500.0</td>\n",
       "      <td>1.287493e-15</td>\n",
       "      <td>1.245028e-11</td>\n",
       "      <td>7.485426e-31</td>\n",
       "      <td>7.238537e-27</td>\n",
       "      <td>1.485255e-24</td>\n",
       "      <td>1.673028e-32</td>\n",
       "    </tr>\n",
       "    <tr>\n",
       "      <th>eA0_Utopia</th>\n",
       "      <td>Ocean_Surface_Water</td>\n",
       "      <td>freeMP</td>\n",
       "      <td>5000.0</td>\n",
       "      <td>4.956934e-15</td>\n",
       "      <td>4.793441e-14</td>\n",
       "      <td>2.881938e-30</td>\n",
       "      <td>2.786884e-29</td>\n",
       "      <td>5.718331e-24</td>\n",
       "      <td>6.441267e-35</td>\n",
       "    </tr>\n",
       "    <tr>\n",
       "      <th>...</th>\n",
       "      <td>...</td>\n",
       "      <td>...</td>\n",
       "      <td>...</td>\n",
       "      <td>...</td>\n",
       "      <td>...</td>\n",
       "      <td>...</td>\n",
       "      <td>...</td>\n",
       "      <td>...</td>\n",
       "      <td>...</td>\n",
       "    </tr>\n",
       "    <tr>\n",
       "      <th>aD16_Utopia</th>\n",
       "      <td>Air</td>\n",
       "      <td>heterBiofMP</td>\n",
       "      <td>0.5</td>\n",
       "      <td>1.100681e+02</td>\n",
       "      <td>1.064378e+15</td>\n",
       "      <td>3.596998e-17</td>\n",
       "      <td>3.478359e-04</td>\n",
       "      <td>1.269749e-07</td>\n",
       "      <td>1.430276e-06</td>\n",
       "    </tr>\n",
       "    <tr>\n",
       "      <th>bD16_Utopia</th>\n",
       "      <td>Air</td>\n",
       "      <td>heterBiofMP</td>\n",
       "      <td>5.0</td>\n",
       "      <td>1.644910e-01</td>\n",
       "      <td>1.590657e+09</td>\n",
       "      <td>5.375524e-20</td>\n",
       "      <td>5.198225e-10</td>\n",
       "      <td>1.897573e-10</td>\n",
       "      <td>2.137472e-12</td>\n",
       "    </tr>\n",
       "    <tr>\n",
       "      <th>cD16_Utopia</th>\n",
       "      <td>Air</td>\n",
       "      <td>heterBiofMP</td>\n",
       "      <td>50.0</td>\n",
       "      <td>4.504483e-06</td>\n",
       "      <td>4.355914e+01</td>\n",
       "      <td>1.472053e-24</td>\n",
       "      <td>1.423501e-17</td>\n",
       "      <td>5.196383e-15</td>\n",
       "      <td>5.853331e-20</td>\n",
       "    </tr>\n",
       "    <tr>\n",
       "      <th>dD16_Utopia</th>\n",
       "      <td>Air</td>\n",
       "      <td>heterBiofMP</td>\n",
       "      <td>500.0</td>\n",
       "      <td>4.125336e-13</td>\n",
       "      <td>3.989272e-09</td>\n",
       "      <td>1.348149e-31</td>\n",
       "      <td>1.303684e-27</td>\n",
       "      <td>4.758998e-22</td>\n",
       "      <td>5.360650e-30</td>\n",
       "    </tr>\n",
       "    <tr>\n",
       "      <th>eD16_Utopia</th>\n",
       "      <td>Air</td>\n",
       "      <td>heterBiofMP</td>\n",
       "      <td>5000.0</td>\n",
       "      <td>4.195116e-15</td>\n",
       "      <td>4.056750e-14</td>\n",
       "      <td>1.370953e-33</td>\n",
       "      <td>1.325735e-32</td>\n",
       "      <td>4.839496e-24</td>\n",
       "      <td>5.451325e-35</td>\n",
       "    </tr>\n",
       "  </tbody>\n",
       "</table>\n",
       "<p>340 rows × 9 columns</p>\n",
       "</div>"
      ],
      "text/plain": [
       "                     Compartment      MP_Form  Size_Fraction_um        mass_g  \\\n",
       "species                                                                         \n",
       "aA0_Utopia   Ocean_Surface_Water       freeMP               0.5  2.500923e-06   \n",
       "bA0_Utopia   Ocean_Surface_Water       freeMP               5.0  4.014538e-07   \n",
       "cA0_Utopia   Ocean_Surface_Water       freeMP              50.0  1.441359e-10   \n",
       "dA0_Utopia   Ocean_Surface_Water       freeMP             500.0  1.287493e-15   \n",
       "eA0_Utopia   Ocean_Surface_Water       freeMP            5000.0  4.956934e-15   \n",
       "...                          ...          ...               ...           ...   \n",
       "aD16_Utopia                  Air  heterBiofMP               0.5  1.100681e+02   \n",
       "bD16_Utopia                  Air  heterBiofMP               5.0  1.644910e-01   \n",
       "cD16_Utopia                  Air  heterBiofMP              50.0  4.504483e-06   \n",
       "dD16_Utopia                  Air  heterBiofMP             500.0  4.125336e-13   \n",
       "eD16_Utopia                  Air  heterBiofMP            5000.0  4.195116e-15   \n",
       "\n",
       "             number_of_particles  concentration_g_m3  concentration_num_m3  \\\n",
       "species                                                                      \n",
       "aA0_Utopia          2.418436e+07        1.454025e-21          1.406067e-08   \n",
       "bA0_Utopia          3.882128e+03        2.334034e-22          2.257051e-12   \n",
       "cA0_Utopia          1.393820e-03        8.379997e-26          8.103602e-19   \n",
       "dA0_Utopia          1.245028e-11        7.485426e-31          7.238537e-27   \n",
       "eA0_Utopia          4.793441e-14        2.881938e-30          2.786884e-29   \n",
       "...                          ...                 ...                   ...   \n",
       "aD16_Utopia         1.064378e+15        3.596998e-17          3.478359e-04   \n",
       "bD16_Utopia         1.590657e+09        5.375524e-20          5.198225e-10   \n",
       "cD16_Utopia         4.355914e+01        1.472053e-24          1.423501e-17   \n",
       "dD16_Utopia         3.989272e-09        1.348149e-31          1.303684e-27   \n",
       "eD16_Utopia         4.056750e-14        1.370953e-33          1.325735e-32   \n",
       "\n",
       "             mass_fraction  number_fraction  \n",
       "species                                      \n",
       "aA0_Utopia    2.885071e-15     3.249814e-14  \n",
       "bA0_Utopia    4.631182e-16     5.216675e-18  \n",
       "cA0_Utopia    1.662756e-19     1.872968e-24  \n",
       "dA0_Utopia    1.485255e-24     1.673028e-32  \n",
       "eA0_Utopia    5.718331e-24     6.441267e-35  \n",
       "...                    ...              ...  \n",
       "aD16_Utopia   1.269749e-07     1.430276e-06  \n",
       "bD16_Utopia   1.897573e-10     2.137472e-12  \n",
       "cD16_Utopia   5.196383e-15     5.853331e-20  \n",
       "dD16_Utopia   4.758998e-22     5.360650e-30  \n",
       "eD16_Utopia   4.839496e-24     5.451325e-35  \n",
       "\n",
       "[340 rows x 9 columns]"
      ]
     },
     "execution_count": 146,
     "metadata": {},
     "output_type": "execute_result"
    }
   ],
   "source": [
    "Results_extended"
   ]
  },
  {
   "cell_type": "code",
   "execution_count": 133,
   "metadata": {},
   "outputs": [
    {
     "data": {
      "image/png": "[encoded data removed]",
      "text/plain": [
       "<Figure size 864x576 with 2 Axes>"
      ]
     },
     "metadata": {
      "needs_background": "light"
     },
     "output_type": "display_data"
    },
    {
     "data": {
      "image/png": "[encoded data removed]",
      "text/plain": [
       "<Figure size 864x576 with 2 Axes>"
      ]
     },
     "metadata": {
      "needs_background": "light"
     },
     "output_type": "display_data"
    },
    {
     "data": {
      "text/plain": [
       "(<Figure size 864x576 with 2 Axes>,\n",
       " 'Heatmap of log10 (number_fraction by MP_Form, Compartment, and Size_Fraction_um')"
      ]
     },
     "execution_count": 133,
     "metadata": {},
     "output_type": "execute_result"
    }
   ],
   "source": [
    "plot_fractionDistribution_heatmap(Results_extended, fraction=\"mass_fraction\")\n",
    "plot_fractionDistribution_heatmap(Results_extended, fraction=\"number_fraction\")"
   ]
  },
  {
   "cell_type": "markdown",
   "metadata": {},
   "source": [
    "### Exposure indicators"
   ]
  },
  {
   "cell_type": "code",
   "execution_count": 134,
   "metadata": {},
   "outputs": [
    {
     "name": "stdout",
     "output_type": "stream",
     "text": [
      "Environmentally Dispersed Mass Fractions through Air = 6.757902344104476e-07\n",
      "Environmentally Dispersed Mass Fractions through Ocean_Mixed_Water = 2.0560005344957308e-07\n",
      "Environmentally Dispersed Mass Fractions through Ocean_Surface_Water = 6.167229694136619e-10\n",
      "φ1 for mass = 8.820070108294344e-07\n",
      "Environmentally Dispersed Particle Number Fractions through Air = 674467\n",
      "Environmentally Dispersed Particle Number Fractions through Ocean_Mixed_Water = 186161\n",
      "Environmentally Dispersed Particle Number Fractions through Ocean_Surface_Water = 558\n",
      "φ1 for particle number = 861187.9284117358\n",
      "Remotely transferred fraction to Ocean_Surface_Water = 4.918843355066996e-13\n",
      "Remotely transferred fraction to Ocean_Column_Water = 9.049552993096692e-11\n",
      "Remotely transferred fraction to Sediment_Ocean = 1.6117543784457963e-07\n",
      "Remotely transferred fraction to Beaches_Soil_Surface = 1.2652871489349333e-08\n",
      "Total remotely transferred mass fraction = 1.7391929674819545e-07\n"
     ]
    },
    {
     "data": {
      "image/png": "[encoded data removed]",
      "text/plain": [
       "<Figure size 432x288 with 1 Axes>"
      ]
     },
     "metadata": {
      "needs_background": "light"
     },
     "output_type": "display_data"
    },
    {
     "name": "stdout",
     "output_type": "stream",
     "text": [
      "Overall mass persistence (years): 197\n",
      "Overall particle number persistence (years): 199\n",
      "Overall residence time is calculated assuming the model boundaries to be at 100 m depth into the Ocean, 30 cm into the sediments and 0.1 m into the soil. Particles travelling deeper are considered losses\n",
      "Overall mass residence time (years): 27.2\n",
      "Overall particle number residence time (years): 26.1\n",
      "Overall residence time of size 0.5 um (years): 26.1\n",
      "Overall residence time of size 5.0 um (years): 26.32\n",
      "Overall residence time of size 50.0 um (years): 27.24\n",
      "Overall residence time of size 500.0 um (years): 26.96\n",
      "Overall residence time of size 5000.0 um (years): 24.04\n",
      "Characteristic mass travel distance (CDT):  2267.5  km\n",
      "Characteristic particle number travel distance (CDT):  4546.5  km\n"
     ]
    }
   ],
   "source": [
    "\n",
    "# For estimating exposure indicators we need to make emissions to targeted compartments.\n",
    "\n",
    "# Run model with emissions to specific compartments to estimate the emission fractions\n",
    "from functions.model_run_by_comp import *\n",
    "\n",
    "model_results = {}\n",
    "dispersing_comp_list = [\n",
    "    \"Air\",\n",
    "    \"Ocean_Mixed_Water\",\n",
    "    \"Ocean_Surface_Water\",\n",
    "]\n",
    "\n",
    "for dispersing_comp in dispersing_comp_list:\n",
    "    model_results[dispersing_comp] = run_model_comp(\n",
    "        dispersing_comp,\n",
    "        input_flow_g_s,\n",
    "        interactions_df,\n",
    "        MP_form,\n",
    "        size_bin,\n",
    "        particle_forms_coding,\n",
    "        particle_compartmentCoding,\n",
    "        system_particle_object_list,\n",
    "        comp_dict_inverse,\n",
    "        dict_comp,\n",
    "        size_dict,\n",
    "        MP_form_dict_reverse,\n",
    "        surfComp_list,\n",
    "    )\n",
    "\n",
    "\n",
    "\n",
    "\n",
    "\n",
    "#### EXPOSURE INDICATORS ####\n",
    "from functions.emission_fractions_calculation import *\n",
    "\n",
    "\n",
    "# Estimate emission fractions for the setted emission scenario\n",
    "\n",
    "emission_fractions_mass_data = emission_fractions_calculations(\n",
    "    Results_extended,\n",
    "    model_results,\n",
    "    dispersing_comp_list,\n",
    "    dict_comp,\n",
    "    input_flow_g_s,\n",
    "    q_num_s,\n",
    "    size_dict,\n",
    "    emiss_comp,\n",
    ")\n",
    "\n",
    "\n",
    "plot_emission_fractions(emission_fractions_mass_data, emiss_comp)\n",
    "\n",
    "\n",
    "# Overall persistance (Pov) and Overall residence time (Tov) in years:\n",
    "print_output=\"True\"\n",
    "\n",
    "(\n",
    "    Pov_mass_years,\n",
    "    Pov_num_years,\n",
    "    Pov_size_dict_sec,\n",
    "    Tov_mass_years,\n",
    "    Tov_num_years,\n",
    "    Tov_size_dict_sec,\n",
    ") = Exposure_indicators_calculation(\n",
    "    tables_outputFlows,\n",
    "    tables_outputFlows_number,\n",
    "    Results_extended,\n",
    "    size_dict,\n",
    "    dict_comp,\n",
    "    system_particle_object_list,\n",
    "    print_output\n",
    ")\n",
    "\n",
    "# Caracteristic travel distance (CDT) (m):\n",
    "\n",
    "# To calculate CTD we need to estimate it by emitting into the especific mobile compartment. We will calculate CTD derived from emmiting to each compartment and taking the higest value:\n",
    "CTD_mass_list = []\n",
    "CTD_number_list = []\n",
    "\n",
    "\n",
    "for CDT_comp in [\n",
    "    \"Ocean_Surface_Water\",\n",
    "    \"Ocean_Mixed_Water\",\n",
    "    \"Coast_Surface_Water\",\n",
    "    \"Coast_Column_Water\",\n",
    "    \"Surface_Freshwater\",\n",
    "    \"Bulk_Freshwater\",\n",
    "    \"Air\",\n",
    "]:\n",
    "    # input flow (in g per second) for each compartment the User should specify here the input flows per compartment\n",
    "    q_mass_g_s_dict_CTD = {\n",
    "        \"Ocean_Surface_Water\": 0,\n",
    "        \"Ocean_Mixed_Water\": 0,\n",
    "        \"Ocean_Column_Water\": 0,\n",
    "        \"Coast_Surface_Water\": 0,\n",
    "        \"Coast_Column_Water\": 0,\n",
    "        \"Surface_Freshwater\": 0,\n",
    "        \"Bulk_Freshwater\": 0,\n",
    "        \"Sediment_Freshwater\": 0,\n",
    "        \"Sediment_Ocean\": 0,\n",
    "        \"Sediment_Coast\": 0,\n",
    "        \"Beaches_Soil_Surface\": 0,\n",
    "        \"Beaches_Deep_Soil\": 0,\n",
    "        \"Background_Soil_Surface\": 0,\n",
    "        \"Background_Soil\": 0,\n",
    "        \"Impacted_Soil_Surface\": 0,\n",
    "        \"Impacted_Soil\": 0,\n",
    "        \"Air\": 0,\n",
    "    }\n",
    "    q_mass_g_s_dict_CTD[CDT_comp] = input_flow_g_s\n",
    "\n",
    "    sp_imputs_CTD = []\n",
    "    q_mass_g_s_CTD = []\n",
    "    for compartment in q_mass_g_s_dict_CTD.keys():\n",
    "        sp_imputs_CTD.append(\n",
    "            size_bin\n",
    "            + particle_forms_coding[MP_form]\n",
    "            + str(particle_compartmentCoding[compartment])\n",
    "            + \"_\"\n",
    "            + boxName\n",
    "        )\n",
    "        q_mass_g_s_CTD.append(q_mass_g_s_dict_CTD[compartment])\n",
    "\n",
    "    imput_flows_g_s_CTD = dict(zip(sp_imputs_CTD, q_mass_g_s_CTD))\n",
    "\n",
    "    CTD_km = model_run_CTD(\n",
    "        system_particle_object_list,\n",
    "        CDT_comp,\n",
    "        imput_flows_g_s_CTD,\n",
    "        interactions_df,\n",
    "        q_mass_g_s_CTD,\n",
    "        size_dict,\n",
    "        MP_form_dict_reverse,\n",
    "        comp_dict_inverse,\n",
    "        dict_comp,\n",
    "    )\n",
    "\n",
    "    CTD_mass_list.append(CTD_km[0])\n",
    "    CTD_number_list.append(CTD_km[1])\n",
    "\n",
    "CTD_df = pd.DataFrame(\n",
    "    index=[\n",
    "        \"Ocean_Surface_Water\",\n",
    "        \"Ocean_Mixed_Water\",\n",
    "        \"Coast_Surface_Water\",\n",
    "        \"Coast_Column_Water\",\n",
    "        \"Surface_Freshwater\",\n",
    "        \"Bulk_Freshwater\",\n",
    "        \"Air\",\n",
    "    ]\n",
    ")\n",
    "\n",
    "CTD_df[\"CTD_mass_km\"] = CTD_mass_list\n",
    "CTD_df[\"CTD_particle_number_km\"] = CTD_number_list\n",
    "\n",
    "print(\n",
    "    \"Characteristic mass travel distance (CDT): \",\n",
    "    round(CTD_df[\"CTD_mass_km\"].max(), 1),\n",
    "    \" km\",\n",
    ")\n",
    "\n",
    "print(\n",
    "    \"Characteristic particle number travel distance (CDT): \",\n",
    "    round(CTD_df[\"CTD_particle_number_km\"].max(), 1),\n",
    "    \" km\",\n",
    ")\n"
   ]
  },
  {
   "cell_type": "markdown",
   "metadata": {},
   "source": [
    "### Extract input and output flows per compartment\n",
    " So far only implemented for mass flows (g/s)-- HAS TO BE FIXED!!!"
   ]
  },
  {
   "cell_type": "code",
   "execution_count": null,
   "metadata": {},
   "outputs": [],
   "source": []
  },
  {
   "cell_type": "code",
   "execution_count": null,
   "metadata": {},
   "outputs": [],
   "source": [
    "for comp in dict_comp.keys():\n",
    "    pd_inputFlows, pd_outflows=extract_inflows_outflows_comp(flows_dict_mass, comp)\n",
    "    print(comp)\n",
    "    print(pd_inputFlows)\n",
    "    print(pd_outflows)"
   ]
  },
  {
   "cell_type": "markdown",
   "metadata": {},
   "source": [
    "### Uncertainty and sensitivity analysis"
   ]
  },
  {
   "cell_type": "code",
   "execution_count": 135,
   "metadata": {},
   "outputs": [],
   "source": [
    "import monaco as mc\n",
    "\n",
    "# Import the statistical distributions from scipy.stats that you will be using.\n",
    "# These must be rv_discrete or rv_continuous functions.\n",
    "# See https://docs.scipy.org/doc/scipy/reference/stats.html for a complete list.\n",
    "from scipy.stats import randint, rv_discrete, lognorm, uniform"
   ]
  },
  {
   "cell_type": "markdown",
   "metadata": {},
   "source": [
    "add other inputs to add uncertainty to the fragmentation rates (i.e. heteroagg_frac_factor=100, biofouled_frag_factor=1/2)\n",
    "include the explosiveness_index to the montecarlo simulation EI)"
   ]
  },
  {
   "cell_type": "code",
   "execution_count": null,
   "metadata": {},
   "outputs": [],
   "source": []
  },
  {
   "cell_type": "code",
   "execution_count": 136,
   "metadata": {},
   "outputs": [],
   "source": [
    "# The preprocessing function should only take in an Case object, and extract the\n",
    "# values from inside it in order to build the inputs for the run function.\n",
    "def template_preprocess(case):\n",
    "    \n",
    "    # Variables that will be passed to the run function and will be sampled\n",
    "    MPdensity = case.invals['MPdensity'].val\n",
    "    t_frag_gen_FreeSurfaceWater = case.invals['t_frag_gen_FreeSurfaceWater'].val\n",
    "    FI=case.invals['FI'].val\n",
    "    \n",
    "    # Other fixed variables\n",
    "    MP_inputs=case.constvals[\"MP_inputs\"]\n",
    "    \n",
    "\n",
    "    return (\n",
    "        MPdensity,t_frag_gen_FreeSurfaceWater,MP_inputs,emission_inputs\n",
    "    )#fsd,EI\n"
   ]
  },
  {
   "cell_type": "code",
   "execution_count": 137,
   "metadata": {},
   "outputs": [],
   "source": [
    "# The run function input arguments need to match up with the outputs in the unpacked\n",
    "# tuple from your preprocessing function\n",
    "def UTOPIA_model_run(MPdensity,t_frag_gen_FreeSurfaceWater,FI,MP_inputs,emission_inputs):#,fsd,EI\n",
    "    # write microplastics inputs file\n",
    "    mp_imputFile_name = write_MPinputs_table(\n",
    "    MPdensity,\n",
    "    big_bin_diameter_um=MP_inputs[\"big_bin_diameter_um\"],\n",
    "    MP_composition=MP_inputs[\"MP_composition\"],\n",
    "    shape=MP_inputs[\"shape\"],\n",
    "    N_sizeBins=MP_inputs[\"N_sizeBins\"],\n",
    "    runName=MP_inputs[\"runName\"],\n",
    "    inputs_path=MP_inputs[\"inputs_path\"]) \n",
    "    \n",
    "    # generate model objects\n",
    "    (system_particle_object_list,\n",
    "    SpeciesList,\n",
    "    spm,\n",
    "    dict_comp,\n",
    "    model_lists,\n",
    "    particles_df) = generate_objects(\n",
    "    inputs_path,\n",
    "    boxName=boxName,\n",
    "    MPforms_list=MPforms_list,\n",
    "    comp_impFile_name=comp_impFile_name,\n",
    "    comp_interactFile_name=comp_interactFile_name,\n",
    "    mp_imputFile_name=mp_imputFile_name,\n",
    "    spm_radius_um=spm_radius_um,\n",
    "    spm_density_kg_m3=spm_density_kg_m3,\n",
    ")\n",
    "    \n",
    "    # Estimate rate constants per particle\n",
    "    \n",
    "    process_inputs_df = create_inputsTable_UTOPIA(\n",
    "    inputs_path,\n",
    "    model_lists,\n",
    "    thalf_deg_d_dict,\n",
    "    alpha_hetr_dict,\n",
    "    t_frag_gen_FreeSurfaceWater,save_op=\"notSave\"\n",
    ")\n",
    "\n",
    "    # Generate fsd based on explosivity index (EI)\n",
    "    fsd=generate_fsd_matrix(FI)\n",
    "    \n",
    "    for particle in system_particle_object_list:\n",
    "        generate_rateConstants(particle, spm, dict_comp, fsd,process_inputs_df)\n",
    "\n",
    "\n",
    "    # Build Matrix of interactions\n",
    "\n",
    "    interactions_df = fillInteractions_fun_OOP(\n",
    "        system_particle_object_list, SpeciesList, surfComp_list\n",
    "    )\n",
    "\n",
    "    # SOLVE SYSTEM OF ODES\n",
    "    \n",
    "    imput_flows_g_s =emission_inputs[\"imput_flows_g_s\"]\n",
    "\n",
    "\n",
    "    R, PartMass_t0 = solve_ODES_SS(\n",
    "        system_particle_object_list=system_particle_object_list,\n",
    "        q_num_s=0,\n",
    "        imput_flows_g_s=imput_flows_g_s,\n",
    "        interactions_df=interactions_df,\n",
    "    )\n",
    "\n",
    "    # Reformat results (R) dataframe\n",
    "    R[\"Size_Fraction_um\"] = [size_dict[x[0]] for x in R.index]\n",
    "    R[\"MP_Form\"] = [MP_form_dict_reverse[x[1]] for x in R.index]\n",
    "    R[\"Compartment\"] = [comp_dict_inverse[float(x[2:-7])] for x in R.index]\n",
    "\n",
    "    Results = R[\n",
    "        [\n",
    "            \"Compartment\",\n",
    "            \"MP_Form\",\n",
    "            \"Size_Fraction_um\",\n",
    "            \"mass_g\",\n",
    "            \"number_of_particles\",\n",
    "            \"concentration_g_m3\",\n",
    "            \"concentration_num_m3\",\n",
    "        ]\n",
    "    ]\n",
    "\n",
    "    Results_extended, mf_shorted, nf_shorted = estimate_fractions(Results)\n",
    "\n",
    "    # Estimate mass flows due to the different particle fate process (transfer between compartments, elimination and transformation processes)\n",
    "\n",
    "    # Estimate outflows in mass (g/s) amd number/second\n",
    "    (tables_outputFlows, tables_outputFlows_number) = estimate_outFlows(\n",
    "        system_particle_object_list, dict_comp\n",
    "    )\n",
    "\n",
    "\n",
    "    # Estimate imput flows from transport from other compartments\n",
    "    (tables_inputFlows, tables_inputFlows_num) = estimate_inFlows(\n",
    "        tables_outputFlows, tables_outputFlows_number, dict_comp, surfComp_list\n",
    "    )\n",
    "\n",
    "    #  Calculate Exposure Indicators\n",
    "    \n",
    "    # Overall persistance (Pov) and Overall residence time (Tov) in years:\n",
    "    print_output=False\n",
    "    (\n",
    "        Pov_mass_years,\n",
    "        Pov_num_years,\n",
    "        Pov_size_dict_sec,\n",
    "        Tov_mass_years,\n",
    "        Tov_num_years,\n",
    "        Tov_size_dict_sec,\n",
    "    ) = Exposure_indicators_calculation(\n",
    "        tables_outputFlows,\n",
    "        tables_outputFlows_number,\n",
    "        Results_extended,\n",
    "        size_dict,\n",
    "        dict_comp,\n",
    "        system_particle_object_list,print_output\n",
    "    )\n",
    "    # simulation_output=pd.DataFrame({'Pov_mass_years': [Pov_mass_years],\n",
    "    #                      \"Pov_num_years\": [Pov_num_years],\n",
    "    #                      \"Tov_mass_years\": [Tov_mass_years],\n",
    "    #                      \"Tov_num_years\": [Tov_num_years],\n",
    "    #                      })\n",
    "\n",
    "    return Pov_mass_years,Pov_num_years,Tov_mass_years,Tov_num_years\n"
   ]
  },
  {
   "cell_type": "code",
   "execution_count": 138,
   "metadata": {},
   "outputs": [],
   "source": [
    "# For your postprocessing function, the first argument must be the case, and\n",
    "# all input arguments after case need to match up with the outputs in the unpacked\n",
    "# tuple from your run function.\n",
    "def template_postprocess(case, Pov_mass_years,Pov_num_years,Tov_mass_years,Tov_num_years):\n",
    "\n",
    "    # Simulation outputs may be huge, and this is where postprocessing can be\n",
    "    # done to extract the information you want. For example, you may only want\n",
    "    # to know the last point in a timeseries.\n",
    "\n",
    "    # It is good practice to provide a dictionary to map any non-number values\n",
    "    # to numbers via a known valmap. If needed this will be auto-generated, but\n",
    "    # manually assigning numbers will give greater control over plotting.\n",
    "    #valmap = {'heads': 0, 'tails': 1}\n",
    "\n",
    "    # Add output values from this case's simulation results, case information,\n",
    "    # or from other data processing that you do in this file.\n",
    "    # The name supplied here will become the outvar's name.\n",
    "    case.addOutVal(name='Overall_Persistance_mass_years', val=Pov_mass_years)\n",
    "    case.addOutVal(name='Overall_Persistance_num_years', val=Pov_num_years)\n",
    "    case.addOutVal(name=\"Overall_Residence_time_mass_years\", val=Tov_mass_years)\n",
    "    case.addOutVal(name=\"Overall_Residence_time_num_years\", val=Tov_num_years)\n",
    "    "
   ]
  },
  {
   "cell_type": "code",
   "execution_count": 141,
   "metadata": {},
   "outputs": [],
   "source": [
    "# These get packaged in the following format for Sim to consume:\n",
    "fcns = {'preprocess' : template_preprocess,\n",
    "        'run'        : UTOPIA_model_run,\n",
    "        'postprocess': template_postprocess}\n",
    "\n",
    "# Set the number of random draws you wish to make.\n",
    "# If firstcaseismedian is True, then case 0 will be run with the expected value of\n",
    "# each statistical distribution as a 'nominal' run. The total number of cases\n",
    "# will then be ndraws+1\n",
    "ndraws = 10\n",
    "firstcaseismedian = False\n",
    "\n",
    "# Setting a known random seed is recommended for repeatability of random draws.\n",
    "seed = 12362398\n",
    "\n",
    "# Whether to run the simulation in a single thread. If True then the simulation\n",
    "# will run single-threaded in a 'for' loop, and if False then the dask parallel \n",
    "# processing module will be used for running concurrent threads. The overhead of \n",
    "# dask may make it slower than single-threaded execution for runs that execute \n",
    "# quickly.\n",
    "singlethreaded = True\n",
    "\n",
    "# If you want, you can save all the results from each case to file, or just the\n",
    "# postprocessed simulation results. This can be incredibly useful for examining\n",
    "# time-consuming sim data after the fact without having to rerun the whole thing.\n",
    "# On the other hand, if your run function generates a lot of data, you may not have\n",
    "# enough storage space to save all of the raw case data. Plus, the file I/O may\n",
    "# be the limiting factor that slows down your simulation. Try setting these flags\n",
    "# to False and seeing how much faster the sim runs.\n",
    "savecasedata = False\n",
    "savesimdata = False"
   ]
  },
  {
   "cell_type": "code",
   "execution_count": 143,
   "metadata": {},
   "outputs": [
    {
     "name": "stdout",
     "output_type": "stream",
     "text": [
      "Running 'UTOPIA_run' Monte Carlo simulation with 10/10 cases...\n",
      "Drawing random samples for 3 input variables via the 'sobol_random' method... Done\n",
      "Generating cases... Done\n"
     ]
    },
    {
     "name": "stderr",
     "output_type": "stream",
     "text": [
      "Preprocessing cases: 100%|██████████| 10/10 [00:00<00:00, 4987.28 cases/s]\n",
      "Running cases: 100%|██████████| 10/10 [00:00<00:00, 298.32 cases/s]\n"
     ]
    },
    {
     "name": "stdout",
     "output_type": "stream",
     "text": [
      "\n",
      "Running case 0 failed\n",
      "\n",
      "Running case 1 failed\n",
      "\n",
      "Running case 2 failed\n",
      "\n",
      "Running case 3 failed\n",
      "\n",
      "Running case 4 failed\n",
      "\n",
      "Running case 5 failed\n",
      "\n",
      "Running case 6 failed\n",
      "\n",
      "Running case 7 failed\n",
      "\n",
      "Running case 8 failed\n",
      "\n",
      "Running case 9 failed\n"
     ]
    },
    {
     "name": "stderr",
     "output_type": "stream",
     "text": [
      "Postprocessing cases: 100%|██████████| 10/10 [00:00<00:00, 297.03 cases/s]"
     ]
    },
    {
     "name": "stdout",
     "output_type": "stream",
     "text": [
      "\n",
      "Postprocessing case 0 failed\n",
      "\n",
      "Postprocessing case 1 failed\n",
      "\n",
      "Postprocessing case 2 failed\n",
      "\n",
      "Postprocessing case 3 failed\n",
      "\n",
      "Postprocessing case 4 failed\n",
      "\n",
      "Postprocessing case 5 failed\n",
      "\n",
      "Postprocessing case 6 failed\n",
      "\n",
      "Postprocessing case 7 failed\n",
      "\n",
      "Postprocessing case 8 failed\n",
      "\n",
      "Postprocessing case 9 failed\n",
      "Simulation complete! Runtime: 0:00:00.091196\n"
     ]
    },
    {
     "name": "stderr",
     "output_type": "stream",
     "text": [
      "\n"
     ]
    }
   ],
   "source": [
    "\n",
    "def UTOPIA_montecarlo_sim():\n",
    "    # We first initialize the sim with a name of our choosing\n",
    "    sim = mc.Sim(name='UTOPIA_run', ndraws=ndraws, fcns=fcns,\n",
    "                firstcaseismedian=firstcaseismedian, seed=seed,\n",
    "                singlethreaded=singlethreaded,\n",
    "                savecasedata=savecasedata, savesimdata=savesimdata,\n",
    "                verbose=True, debug=False)\n",
    "    # Assuming a standard deviation (sigma) for the underlying normal distribution\n",
    "    sigma = 0.05\n",
    "    sigma2=0.5\n",
    "\n",
    "    # Calculate mu\n",
    "    mu = np.log(MPdensity_kg_m3) - (sigma**2) / 2\n",
    "    mu2=np.log(t_frag_gen_FreeSurfaceWater) - (sigma2**2) / 2\n",
    "\n",
    "    sim.addInVar(name='MPdensity', dist=lognorm, distkwargs={'s': sigma,'scale': np.exp(mu) })\n",
    "    #sim.addInVar(name=\"fsd_starter\",dist=rv_discrete.geom,distkwargs={'p': 0.5})\n",
    "    sim.addInVar(name=\"t_frag_gen_FreeSurfaceWater\", dist=lognorm, distkwargs={'s': sigma2,'scale': np.exp(mu2)})\n",
    "    sim.addInVar(name=\"FI\", dist=uniform, distkwargs={'loc': 0.0, 'scale': 1.0})\n",
    "\n",
    "    sim.addConstVal(name=\"MP_inputs\", val=MP_inputs)\n",
    "    sim.addConstVal(name=\"emission_inputs\", val=emission_inputs)\n",
    "    sim.runSim()\n",
    "    return sim\n",
    "\n",
    "sim = UTOPIA_montecarlo_sim()"
   ]
  },
  {
   "cell_type": "code",
   "execution_count": 60,
   "metadata": {},
   "outputs": [
    {
     "data": {
      "text/plain": [
       "(<Figure size 432x288 with 1 Axes>,\n",
       " <Axes: xlabel='MPdensity', ylabel='Probability Density'>)"
      ]
     },
     "execution_count": 60,
     "metadata": {},
     "output_type": "execute_result"
    },
    {
     "data": {
      "image/png": "[encoded data removed]",
      "text/plain": [
       "<Figure size 432x288 with 1 Axes>"
      ]
     },
     "metadata": {
      "needs_background": "light"
     },
     "output_type": "display_data"
    }
   ],
   "source": [
    "sim.invars['MPdensity'].addVarStat('mean')\n",
    "sim.invars['MPdensity'].addVarStat('percentile',\n",
    "{'p':[0.05, 0.95]})\n",
    "mc.plot(sim.invars['MPdensity'])\n"
   ]
  },
  {
   "cell_type": "code",
   "execution_count": 61,
   "metadata": {},
   "outputs": [
    {
     "data": {
      "text/plain": [
       "(<Figure size 432x288 with 1 Axes>,\n",
       " <Axes: xlabel='t_frag_gen_FreeSurfaceWater', ylabel='Probability Density'>)"
      ]
     },
     "execution_count": 61,
     "metadata": {},
     "output_type": "execute_result"
    },
    {
     "data": {
      "image/png": "[encoded data removed]",
      "text/plain": [
       "<Figure size 432x288 with 1 Axes>"
      ]
     },
     "metadata": {
      "needs_background": "light"
     },
     "output_type": "display_data"
    }
   ],
   "source": [
    "sim.invars['t_frag_gen_FreeSurfaceWater'].addVarStat('mean')\n",
    "sim.invars['t_frag_gen_FreeSurfaceWater'].addVarStat('percentile',\n",
    "{'p':[0.05, 0.95]})\n",
    "mc.plot(sim.invars['t_frag_gen_FreeSurfaceWater'])"
   ]
  },
  {
   "cell_type": "code",
   "execution_count": 62,
   "metadata": {},
   "outputs": [
    {
     "data": {
      "text/plain": [
       "(<Figure size 432x288 with 3 Axes>,\n",
       " (<Axes: xlabel='MPdensity'>,\n",
       "  <Axes: ylabel='Overall_Persistance_mass_years'>,\n",
       "  <Axes: >))"
      ]
     },
     "execution_count": 62,
     "metadata": {},
     "output_type": "execute_result"
    },
    {
     "data": {
      "image/png": "[encoded data removed]",
      "text/plain": [
       "<Figure size 432x288 with 3 Axes>"
      ]
     },
     "metadata": {
      "needs_background": "light"
     },
     "output_type": "display_data"
    }
   ],
   "source": [
    "mc.multi_plot([sim.invars[\"MPdensity\"],sim.outvars[\"Overall_Persistance_mass_years\"]],title=\"Overall Persistence in mass vs MP density\",cov_plot=False)"
   ]
  },
  {
   "cell_type": "code",
   "execution_count": 63,
   "metadata": {},
   "outputs": [
    {
     "data": {
      "text/plain": [
       "(<Figure size 432x288 with 3 Axes>,\n",
       " (<Axes: xlabel='t_frag_gen_FreeSurfaceWater'>,\n",
       "  <Axes: ylabel='Overall_Persistance_mass_years'>,\n",
       "  <Axes: >))"
      ]
     },
     "execution_count": 63,
     "metadata": {},
     "output_type": "execute_result"
    },
    {
     "data": {
      "image/png": "[encoded data removed]",
      "text/plain": [
       "<Figure size 432x288 with 3 Axes>"
      ]
     },
     "metadata": {
      "needs_background": "light"
     },
     "output_type": "display_data"
    }
   ],
   "source": [
    "mc.multi_plot([sim.invars[\"t_frag_gen_FreeSurfaceWater\"],sim.outvars[\"Overall_Persistance_mass_years\"]],title=\"Overall Persistence in mass vs t_frag_gen\",cov_plot=False)"
   ]
  },
  {
   "cell_type": "code",
   "execution_count": 64,
   "metadata": {},
   "outputs": [
    {
     "data": {
      "text/plain": [
       "(<Figure size 432x288 with 3 Axes>,\n",
       " (<Axes: xlabel='MPdensity'>,\n",
       "  <Axes: ylabel='Overall_Persistance_num_years'>,\n",
       "  <Axes: >))"
      ]
     },
     "execution_count": 64,
     "metadata": {},
     "output_type": "execute_result"
    },
    {
     "data": {
      "image/png": "[encoded data removed]",
      "text/plain": [
       "<Figure size 432x288 with 3 Axes>"
      ]
     },
     "metadata": {
      "needs_background": "light"
     },
     "output_type": "display_data"
    }
   ],
   "source": [
    "sim.outvars['Overall_Persistance_num_years'].addVarStat('mean')\n",
    "sim.outvars['Overall_Persistance_num_years'].addVarStat('percentile',\n",
    "{'p':[0.05, 0.95]})\n",
    "mc.multi_plot([sim.invars[\"MPdensity\"],sim.outvars[\"Overall_Persistance_num_years\"]],title=\"Overall Persistence in particle number vs MP density\",cov_plot=False)"
   ]
  },
  {
   "cell_type": "code",
   "execution_count": 65,
   "metadata": {},
   "outputs": [
    {
     "data": {
      "text/plain": [
       "(<Figure size 432x288 with 3 Axes>,\n",
       " (<Axes: xlabel='MPdensity'>,\n",
       "  <Axes: ylabel='Overall_Residence_time_mass_years'>,\n",
       "  <Axes: >))"
      ]
     },
     "execution_count": 65,
     "metadata": {},
     "output_type": "execute_result"
    },
    {
     "data": {
      "image/png": "[encoded data removed]",
      "text/plain": [
       "<Figure size 432x288 with 3 Axes>"
      ]
     },
     "metadata": {
      "needs_background": "light"
     },
     "output_type": "display_data"
    }
   ],
   "source": [
    "sim.outvars['Overall_Residence_time_mass_years'].addVarStat('mean')\n",
    "sim.outvars['Overall_Residence_time_mass_years'].addVarStat('percentile',\n",
    "{'p':[0.05, 0.95]})\n",
    "mc.multi_plot([sim.invars[\"MPdensity\"],sim.outvars[\"Overall_Residence_time_mass_years\"]],title=\"Overall Residence Time in mass vs MP density\",cov_plot=False)"
   ]
  },
  {
   "cell_type": "code",
   "execution_count": 66,
   "metadata": {},
   "outputs": [
    {
     "data": {
      "text/plain": [
       "(<Figure size 432x288 with 3 Axes>,\n",
       " (<Axes: xlabel='t_frag_gen_FreeSurfaceWater'>,\n",
       "  <Axes: ylabel='Overall_Residence_time_num_years'>,\n",
       "  <Axes: >))"
      ]
     },
     "execution_count": 66,
     "metadata": {},
     "output_type": "execute_result"
    },
    {
     "data": {
      "image/png": "[encoded data removed]",
      "text/plain": [
       "<Figure size 432x288 with 3 Axes>"
      ]
     },
     "metadata": {
      "needs_background": "light"
     },
     "output_type": "display_data"
    }
   ],
   "source": [
    "sim.outvars['Overall_Residence_time_num_years'].addVarStat('mean')\n",
    "sim.outvars['Overall_Residence_time_num_years'].addVarStat('percentile',\n",
    "{'p':[0.05, 0.95]})\n",
    "mc.multi_plot([sim.invars[\"t_frag_gen_FreeSurfaceWater\"],sim.outvars[\"Overall_Residence_time_num_years\"]],title=\"Overall Residence Time in particle number vs t_frag_gen\",cov_plot=False)"
   ]
  },
  {
   "cell_type": "code",
   "execution_count": 67,
   "metadata": {},
   "outputs": [
    {
     "name": "stdout",
     "output_type": "stream",
     "text": [
      "Calculating sensitivity indices for 'Overall_Persistance_num_years'...\n",
      "Calculating optimal hyperparameters Φ for 'Overall_Persistance_num_years' covariances...\n",
      "L = -1488.7379, Φ = [1. 1.]\n",
      "L = -1488.7379, Φ = [1.00000001 1.        ]\n",
      "L = -1488.7379, Φ = [1.         1.00000001]\n",
      "L = -1396.1258, Φ = [ 9.9829428  72.34838186]\n",
      "L = -1396.1258, Φ = [ 9.98294281 72.34838186]\n",
      "L = -1396.1258, Φ = [ 9.9829428  72.34838187]\n",
      "L = -1431.7129, Φ = [ 3.89133955 23.96490168]\n",
      "L = -1431.7129, Φ = [ 3.89133956 23.96490168]\n",
      "L = -1431.7129, Φ = [ 3.89133955 23.96490169]\n",
      "L = -1504.5381, Φ = [1.91911913 8.30024269]\n",
      "L = -1504.5381, Φ = [1.91911914 8.30024269]\n",
      "L = -1504.5381, Φ = [1.91911913 8.3002427 ]\n",
      "L = -1519.0381, Φ = [0.97135187 7.92164955]\n",
      "L = -1519.0381, Φ = [0.97135188 7.92164955]\n",
      "L = -1519.0381, Φ = [0.97135187 7.92164956]\n",
      "L = -1513.4545, Φ = [1.40811079 7.67118687]\n",
      "L = -1513.4545, Φ = [1.4081108  7.67118687]\n",
      "L = -1513.4545, Φ = [1.40811079 7.67118688]\n",
      "L = -1519.7093, Φ = [1.04026892 7.88212855]\n",
      "L = -1519.7093, Φ = [1.04026893 7.88212855]\n",
      "L = -1519.7093, Φ = [1.04026892 7.88212856]\n",
      "L = -1520.2043, Φ = [1.0810476  7.52076113]\n",
      "L = -1520.2043, Φ = [1.08104761 7.52076113]\n",
      "L = -1520.2043, Φ = [1.0810476  7.52076114]\n",
      "L = -1521.6919, Φ = [1.01188511 7.01672302]\n",
      "L = -1521.6919, Φ = [1.01188512 7.01672302]\n",
      "L = -1521.6919, Φ = [1.01188511 7.01672303]\n",
      "L = -1521.8315, Φ = [1.03252614 7.02424372]\n",
      "L = -1521.8315, Φ = [1.03252615 7.02424372]\n",
      "L = -1521.8315, Φ = [1.03252614 7.02424373]\n",
      "L = -1522.4076, Φ = [1.07147563 6.77985562]\n",
      "L = -1522.4076, Φ = [1.07147564 6.77985562]\n",
      "L = -1522.4076, Φ = [1.07147563 6.77985563]\n",
      "L = -1523.5651, Φ = [1.19756599 5.28055991]\n",
      "L = -1523.5651, Φ = [1.197566   5.28055991]\n",
      "L = -1523.5651, Φ = [1.19756599 5.28055992]\n",
      "L = -1521.7887, Φ = [1.1085435  6.33909469]\n",
      "L = -1521.7887, Φ = [1.10854351 6.33909469]\n",
      "L = -1521.7887, Φ = [1.1085435 6.3390947]\n",
      "L = -1523.4373, Φ = [1.18127688 5.47424796]\n",
      "L = -1523.4373, Φ = [1.18127689 5.47424796]\n",
      "L = -1523.4373, Φ = [1.18127688 5.47424797]\n",
      "L = -1523.6430, Φ = [1.19150169 5.35266827]\n",
      "L = -1523.6430, Φ = [1.1915017  5.35266827]\n",
      "L = -1523.6430, Φ = [1.19150169 5.35266828]\n",
      "L = -951.4589, Φ = [1.60816391 0.        ]\n",
      "L = -951.4589, Φ = [1.60816392 0.        ]\n",
      "L = -951.4597, Φ = [1.60816391e+00 1.00000000e-08]\n",
      "L = -1516.6608, Φ = [1.33099217 3.56069812]\n",
      "L = -1516.6608, Φ = [1.33099218 3.56069812]\n",
      "L = -1516.6608, Φ = [1.33099217 3.56069813]\n",
      "L = -1523.6396, Φ = [1.1944155  5.31523594]\n",
      "L = -1523.6396, Φ = [1.19441551 5.31523594]\n",
      "L = -1523.6396, Φ = [1.1944155  5.31523595]\n",
      "L = -1523.6497, Φ = [1.19280984 5.33586306]\n",
      "L = -1523.6497, Φ = [1.19280985 5.33586306]\n",
      "L = -1523.6497, Φ = [1.19280984 5.33586307]\n",
      "L = -1524.2645, Φ = [1.17277852 5.33375351]\n",
      "L = -1524.2645, Φ = [1.17277853 5.33375351]\n",
      "L = -1524.2645, Φ = [1.17277852 5.33375352]\n",
      "L = -1527.1942, Φ = [1.07081553 5.3231634 ]\n",
      "L = -1527.1942, Φ = [1.07081554 5.3231634 ]\n",
      "L = -1527.1942, Φ = [1.07081553 5.32316341]\n",
      "L = -1520.3744, Φ = [0.71764408 5.40404468]\n",
      "L = -1520.3744, Φ = [0.71764409 5.40404468]\n",
      "L = -1520.3744, Φ = [0.71764408 5.40404469]\n",
      "L = -1527.3347, Φ = [1.00105657 5.33913919]\n",
      "L = -1527.3347, Φ = [1.00105658 5.33913919]\n",
      "L = -1527.3347, Φ = [1.00105657 5.3391392 ]\n",
      "L = -1527.4984, Φ = [1.02282193 5.31591301]\n",
      "L = -1527.4984, Φ = [1.02282194 5.31591301]\n",
      "L = -1527.4984, Φ = [1.02282193 5.31591302]\n",
      "L = -1527.5040, Φ = [1.02693587 5.31468097]\n",
      "L = -1527.5040, Φ = [1.02693588 5.31468097]\n",
      "L = -1527.5040, Φ = [1.02693587 5.31468098]\n",
      "L = -1527.5112, Φ = [1.03939237 5.31483434]\n",
      "L = -1527.5112, Φ = [1.03939238 5.31483434]\n",
      "L = -1527.5112, Φ = [1.03939237 5.31483435]\n",
      "L = -1527.5112, Φ = [1.03951084 5.31525646]\n",
      "L = -1527.5112, Φ = [1.03951085 5.31525646]\n",
      "L = -1527.5112, Φ = [1.03951084 5.31525647]\n",
      "Done calculating optimal hyperparameters.\n",
      "Done calculating sensitivity indices.\n"
     ]
    },
    {
     "data": {
      "image/png": "[encoded data removed]",
      "text/plain": [
       "<Figure size 720x288 with 1 Axes>"
      ]
     },
     "metadata": {
      "needs_background": "light"
     },
     "output_type": "display_data"
    }
   ],
   "source": [
    "## Calculate and plot sensitivity indices\n",
    "sim.calcSensitivities(outvarnames=\"Overall_Persistance_num_years\",tol=1e-6,verbose=True)\n",
    "fig, ax = sim.outvars['Overall_Persistance_num_years'].plotSensitivities()\n",
    "fig.set_size_inches(10, 4)\n",
    "plt.savefig('Overall_Persistence_time_num_sensitivities.png', dpi=100)\n",
    "plt.show()"
   ]
  },
  {
   "cell_type": "code",
   "execution_count": 68,
   "metadata": {},
   "outputs": [
    {
     "data": {
      "text/plain": [
       "(<Figure size 432x288 with 1 Axes>,\n",
       " <Axes: xlabel='Overall_Persistance_num_years', ylabel='Cumulative Probability'>)"
      ]
     },
     "execution_count": 68,
     "metadata": {},
     "output_type": "execute_result"
    },
    {
     "data": {
      "image/png": "[encoded data removed]",
      "text/plain": [
       "<Figure size 432x288 with 1 Axes>"
      ]
     },
     "metadata": {
      "needs_background": "light"
     },
     "output_type": "display_data"
    }
   ],
   "source": [
    "\n",
    "mc.mc_plot.plot_cdf(sim.outvars[\"Overall_Persistance_num_years\"])"
   ]
  },
  {
   "cell_type": "code",
   "execution_count": 69,
   "metadata": {},
   "outputs": [
    {
     "data": {
      "text/plain": [
       "(<Figure size 432x288 with 1 Axes>, <Axes: >)"
      ]
     },
     "execution_count": 69,
     "metadata": {},
     "output_type": "execute_result"
    },
    {
     "data": {
      "image/png": "[encoded data removed]",
      "text/plain": [
       "<Figure size 432x288 with 1 Axes>"
      ]
     },
     "metadata": {
      "needs_background": "light"
     },
     "output_type": "display_data"
    }
   ],
   "source": [
    "mc.plot_cov_corr(*sim.corr())"
   ]
  },
  {
   "cell_type": "code",
   "execution_count": null,
   "metadata": {},
   "outputs": [],
   "source": [
    "import numpy as np\n",
    "\n",
    "def generate_custom_matrix(rows=5, cols=5):\n",
    "    # Initialize a 5x5 matrix with zeros\n",
    "    matrix = np.zeros((rows, cols))\n",
    "    \n",
    "    for i in range(rows):\n",
    "        if i == 0:\n",
    "            # First row: all zeros\n",
    "            continue\n",
    "        else:\n",
    "            # Number of non-zero elements in the current row\n",
    "            num_non_zero = i  # Since row index starts from 0\n",
    "            # Generate random values for the non-zero elements\n",
    "            random_values = np.random.rand(num_non_zero)\n",
    "            # Normalize to ensure they sum to 1\n",
    "            normalized_values = random_values / random_values.sum()\n",
    "            # Assign the normalized values to the beginning of the row\n",
    "            matrix[i, :num_non_zero] = normalized_values\n",
    "    \n",
    "    return matrix\n",
    "\n",
    "# Generate the matrix\n",
    "custom_matrix = generate_custom_matrix()\n",
    "\n",
    "# Print the generated matrix\n",
    "print(\"Generated 5x5 matrix with specified constraints:\")\n",
    "print(custom_matrix)\n",
    "\n",
    "# Verify the sum of each row\n",
    "row_sums = custom_matrix.sum(axis=1)\n",
    "print(\"\\nSum of each row:\")\n",
    "for idx, sum_value in enumerate(row_sums):\n",
    "    print(f\"Row {idx + 1}: {sum_value}\")\n"
   ]
  },
  {
   "cell_type": "code",
   "execution_count": 103,
   "metadata": {},
   "outputs": [
    {
     "name": "stdout",
     "output_type": "stream",
     "text": [
      "[[0.   0.   0.   0.   0.  ]\n",
      " [1.   0.   0.   0.   0.  ]\n",
      " [0.5  0.5  0.   0.   0.  ]\n",
      " [0.6  0.2  0.2  0.   0.  ]\n",
      " [0.7  0.15 0.1  0.05 0.  ]]\n",
      "\n",
      "Sum of each row:\n",
      "Row 1: 0.0\n",
      "Row 2: 1.0\n",
      "Row 3: 1.0\n",
      "Row 4: 1.0\n",
      "Row 5: 1.0\n"
     ]
    }
   ],
   "source": [
    "def generate_fsd_matrix(FI):\n",
    "    # Initialize a 5x5 matrix with zeros\n",
    "    matrix = np.zeros((5, 5))\n",
    "    c1=0.2\n",
    "    c2=0.15\n",
    "    c3=0.1\n",
    "    \n",
    "    matrix[1,0]=1\n",
    "    matrix[2,0]=1-FI\n",
    "    matrix[2,1]=FI\n",
    "    if FI <=0.5:\n",
    "        matrix[3,1]=FI*2*c1\n",
    "        matrix[4,1]=FI*2*c2\n",
    "        matrix[4,2]=FI*2*c3\n",
    "    else:\n",
    "        matrix[3,1]=c1-((FI-0.5)*2*c1)\n",
    "        matrix[4,1]=c2-((FI-0.5)*2*c2)\n",
    "        matrix[4,2]=c3-((FI-0.5)*2*c3)\n",
    "    matrix[3,0]=matrix[2,0]+(0.5* matrix[3,1])\n",
    "    matrix[3,2]=1-matrix[3,0]-matrix[3,1]\n",
    "    matrix[4,0]=matrix[3,0]+(0.5* matrix[4,1])+(0.25* matrix[4,2])\n",
    "    matrix[4,3]=1-matrix[4,0]-matrix[4,1]-matrix[4,2]\n",
    "    \n",
    "    return matrix\n",
    "\n",
    "# Generate the matrix\n",
    "fsd=generate_fsd_matrix(FI=0.5)\n",
    "print(fsd)\n",
    "# Verify the sum of each row\n",
    "row_sums = fsd.sum(axis=1)\n",
    "print(\"\\nSum of each row:\")\n",
    "for idx, sum_value in enumerate(row_sums):\n",
    "    print(f\"Row {idx + 1}: {sum_value}\")\n"
   ]
  },
  {
   "cell_type": "code",
   "execution_count": null,
   "metadata": {},
   "outputs": [],
   "source": []
  }
 ],
 "metadata": {
  "kernelspec": {
   "display_name": "venv",
   "language": "python",
   "name": "python3"
  },
  "language_info": {
   "codemirror_mode": {
    "name": "ipython",
    "version": 3
   },
   "file_extension": ".py",
   "mimetype": "text/x-python",
   "name": "python",
   "nbconvert_exporter": "python",
   "pygments_lexer": "ipython3",
   "version": "3.10.5"
  }
 },
 "nbformat": 4,
 "nbformat_minor": 2
}
